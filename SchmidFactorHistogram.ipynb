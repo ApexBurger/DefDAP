{
 "cells": [
  {
   "cell_type": "code",
   "execution_count": 6,
   "metadata": {
    "collapsed": true
   },
   "outputs": [],
   "source": [
    "import numpy as np\n",
    "import matplotlib.pyplot as plt\n",
    "from matplotlib import gridspec\n",
    "from matplotlib_scalebar.scalebar import ScaleBar\n",
    "import matplotlib.lines as mlines\n",
    "from defdap.quat import Quat\n",
    "import defdap.ebsd as ebsd\n",
    "import defdap.hrdic as hrdic\n",
    "from skimage import transform as tf\n",
    "from skimage import io, measure\n",
    "from IPython.display import display\n",
    "import scipy as scipy\n",
    "import peakutils\n",
    "#import shapely as shapely\n",
    "%matplotlib osx\n",
    "\n",
    "#Load in EBSD map and calculate misorientation\n",
    "EbsdMap = ebsd.Map(\"newdata/Zr4\", \"hexagonal\")\n",
    "EbsdMap.loadSlipSystems(\"defdap/slip_systems/hexagonal_withca.txt\", cOverA=1.593)\n",
    "EbsdMap.buildQuatArray()\n",
    "EbsdMap.findBoundaries(boundDef = 3.6)\n",
    "EbsdMap.findGrains(minGrainSize= 100)\n",
    "EbsdMap.calcGrainMisOri(calcAxis = False)\n",
    "EbsdMap.calcAverageGrainSchmidFactors()"
   ]
  },
  {
   "cell_type": "code",
   "execution_count": 7,
   "metadata": {},
   "outputs": [
    {
     "name": "stdout",
     "output_type": "stream",
     "text": [
      "GrainID\tArea\tBaSc\tPrSc\tPySc\n",
      "\t(px^2)\n"
     ]
    },
    {
     "name": "stderr",
     "output_type": "stream",
     "text": [
      "/Users/mbcx9rt5/Dropbox (Research Group)/python/DefDAP/defdap/ebsd.py:744: RuntimeWarning: invalid value encountered in true_divide\n",
      "  intersection = intersection / np.sqrt(np.dot(intersection, intersection))  # normalise\n"
     ]
    },
    {
     "data": {
      "text/plain": [
       "[None,\n",
       " None,\n",
       " None,\n",
       " None,\n",
       " None,\n",
       " None,\n",
       " None,\n",
       " None,\n",
       " None,\n",
       " None,\n",
       " None,\n",
       " None,\n",
       " None,\n",
       " None,\n",
       " None,\n",
       " None,\n",
       " None,\n",
       " None,\n",
       " None,\n",
       " None,\n",
       " None,\n",
       " None,\n",
       " None,\n",
       " None,\n",
       " None,\n",
       " None,\n",
       " None,\n",
       " None,\n",
       " None,\n",
       " None,\n",
       " None,\n",
       " None,\n",
       " None,\n",
       " None,\n",
       " None,\n",
       " None,\n",
       " None,\n",
       " None,\n",
       " None,\n",
       " None]"
      ]
     },
     "execution_count": 7,
     "metadata": {},
     "output_type": "execute_result"
    }
   ],
   "source": [
    "from builtins import print\n",
    "print(\"GrainID\\tArea\\tBaSc\\tPrSc\\tPySc\")\n",
    "print(\"\\t(px^2)\")\n",
    "baschmidlist=[]\n",
    "prschmidlist=[]\n",
    "pyschmidlist=[]\n",
    "\n",
    "for x in range(0,len(EbsdMap.grainList)):\n",
    "     \n",
    "    ebsdGrain = EbsdMap[x]\n",
    "    ebsdGrain.calcAverageSchmidFactors(loadVector=np.array([1, 0, 0]))\n",
    "    ebsdGrain.calcSlipTraces()\n",
    "    baschmid=np.max(ebsdGrain.averageSchmidFactors[0])\n",
    "    prschmid=np.max((ebsdGrain.averageSchmidFactors[1],ebsdGrain.averageSchmidFactors[2],ebsdGrain.averageSchmidFactors[3]))\n",
    "    pyschmid=np.max((ebsdGrain.averageSchmidFactors[4][1:3],ebsdGrain.averageSchmidFactors[5][1:3],ebsdGrain.averageSchmidFactors[6][1:3],ebsdGrain.averageSchmidFactors[7][1:3],ebsdGrain.averageSchmidFactors[8][1:3],ebsdGrain.averageSchmidFactors[9][1:3]))\n",
    "    \n",
    "    baschmidlist.append(baschmid)\n",
    "    prschmidlist.append(prschmid)\n",
    "    pyschmidlist.append(pyschmid)\n",
    "    \n",
    "#print(len(baschmidlist))\n",
    "  \n",
    "fig,(ax0,ax1,ax2) = plt.subplots(1, 3, figsize=(12,5))\n",
    "ax0.hist(baschmidlist,range=[0,0.5], bins=25,normed=True)\n",
    "ax0.title.set_text('Basal <a>')\n",
    "ax0.set_ylim(top=18)\n",
    "ax0.set_xlim(left=0, right=0.5)\n",
    "ax0.xaxis.set_ticks(np.arange(0, 0.5, 0.1))\n",
    "ax0.yaxis.set_ticks(np.arange(0, 19, 2))\n",
    "ax0.tick_params(axis='both', which='major', direction='inout', left='on', right='on', labelsize=12)\n",
    "ax1.hist(prschmidlist,range=[0,0.5], bins=25,normed=True)\n",
    "ax1.title.set_text('Prismatic <a>')\n",
    "ax1.set_ylim(top=18)\n",
    "ax1.set_xlim(left=0, right=0.5)\n",
    "ax1.xaxis.set_ticks(np.arange(0, 0.5, 0.1))\n",
    "ax1.yaxis.set_ticks(np.arange(0, 19, 2))\n",
    "ax1.tick_params(axis='both', which='major', labelsize=12)\n",
    "ax2.hist(pyschmidlist,range=[0,0.5], bins=25,normed=True)\n",
    "ax2.title.set_text('Pyramidal <c+a>')\n",
    "ax2.set_ylim(top=18)\n",
    "ax2.set_xlim(left=0, right=0.5)\n",
    "ax2.xaxis.set_ticks(np.arange(0, 0.6, 0.1))\n",
    "ax2.yaxis.set_ticks(np.arange(0, 19, 2))\n",
    "ax2.tick_params(axis='both', which='major', labelsize=12)\n",
    "\n",
    "fig.subplots_adjust(wspace=0)\n",
    "plt.setp([a.get_yticklabels() for a in fig.axes[1:3]], visible=False)"
   ]
  },
  {
   "cell_type": "code",
   "execution_count": 15,
   "metadata": {},
   "outputs": [
    {
     "name": "stdout",
     "output_type": "stream",
     "text": [
      "GrainID\tArea\tBaSc\tPrSc\tPySc\n",
      "\t(px^2)\n"
     ]
    },
    {
     "name": "stderr",
     "output_type": "stream",
     "text": [
      "/Users/mbcx9rt5/Dropbox (Research Group)/python/DefDAP/defdap/ebsd.py:744: RuntimeWarning: invalid value encountered in true_divide\n",
      "  intersection = intersection / np.sqrt(np.dot(intersection, intersection))  # normalise\n"
     ]
    },
    {
     "name": "stdout",
     "output_type": "stream",
     "text": [
      "1003\n"
     ]
    },
    {
     "data": {
      "text/plain": [
       "[None,\n",
       " None,\n",
       " None,\n",
       " None,\n",
       " None,\n",
       " None,\n",
       " None,\n",
       " None,\n",
       " None,\n",
       " None,\n",
       " None,\n",
       " None,\n",
       " None,\n",
       " None,\n",
       " None,\n",
       " None,\n",
       " None,\n",
       " None,\n",
       " None,\n",
       " None,\n",
       " None,\n",
       " None,\n",
       " None,\n",
       " None,\n",
       " None,\n",
       " None,\n",
       " None,\n",
       " None,\n",
       " None,\n",
       " None,\n",
       " None,\n",
       " None,\n",
       " None,\n",
       " None,\n",
       " None,\n",
       " None,\n",
       " None,\n",
       " None,\n",
       " None,\n",
       " None]"
      ]
     },
     "execution_count": 15,
     "metadata": {},
     "output_type": "execute_result"
    }
   ],
   "source": [
    "from builtins import print\n",
    "print(\"GrainID\\tArea\\tBaSc\\tPrSc\\tPySc\")\n",
    "print(\"\\t(px^2)\")\n",
    "baschmidlist=[]\n",
    "prschmidlist=[]\n",
    "pyschmidlist=[]\n",
    "\n",
    "for x in range(0,len(EbsdMap.grainList)):\n",
    "     \n",
    "    ebsdGrain = EbsdMap[x]\n",
    "    ebsdGrain.calcAverageSchmidFactors(loadVector=np.array([1, 0, 0]))\n",
    "    ebsdGrain.calcSlipTraces()\n",
    "    baschmid=np.max(ebsdGrain.averageSchmidFactors[0])\n",
    "    prschmid=np.max((ebsdGrain.averageSchmidFactors[1],ebsdGrain.averageSchmidFactors[2],ebsdGrain.averageSchmidFactors[3]))\n",
    "    pyschmid=np.max((ebsdGrain.averageSchmidFactors[4][1:3],ebsdGrain.averageSchmidFactors[5][1:3],ebsdGrain.averageSchmidFactors[6][1:3],ebsdGrain.averageSchmidFactors[7][1:3],ebsdGrain.averageSchmidFactors[8][1:3],ebsdGrain.averageSchmidFactors[9][1:3]))\n",
    "    \n",
    "    baschmidlist.append(baschmid)\n",
    "    prschmidlist.append(prschmid)\n",
    "    pyschmidlist.append(pyschmid)\n",
    "    \n",
    "print(len(baschmidlist))\n",
    "  \n",
    "fig,(ax0,ax1,ax2) = plt.subplots(1, 3, figsize=(14,5))\n",
    "ax0.hist(baschmidlist,range=[0,0.5], bins=25,normed=True)\n",
    "ax0.title.set_text('Basal <a>')\n",
    "\n",
    "\n",
    "ax0.set_xlim(left=0, right=0.5)\n",
    "ax0.xaxis.set_ticks(np.arange(0, 0.6, 0.1))\n",
    "ax0.yaxis.set_ticks(np.arange(0, 19, 2))\n",
    "ax0.tick_params(axis='both', which='major', direction='inout', left='on', right='on', labelsize=12)\n",
    "ax1.hist(prschmidlist,range=[0,0.5], bins=25,normed=True)\n",
    "ax1.title.set_text('Prismatic <a>')\n",
    "\n",
    "\n",
    "ax1.set_xlim(left=0, right=0.5)\n",
    "ax1.xaxis.set_ticks(np.arange(0, 0.6, 0.1))\n",
    "ax1.yaxis.set_ticks(np.arange(0, 19, 2))\n",
    "ax1.tick_params(axis='both', which='major', direction='inout', left='on', right='on', labelsize=12)\n",
    "ax2.hist(pyschmidlist,range=[0,0.5], bins=25,normed=True)\n",
    "ax2.title.set_text('Pyramidal <c+a>')\n",
    "\n",
    "\n",
    "ax2.set_xlim(left=0, right=0.5)\n",
    "ax2.xaxis.set_ticks(np.arange(0, 0.6, 0.1))\n",
    "ax2.yaxis.set_ticks(np.arange(0, 19, 2))\n",
    "ax2.tick_params(axis='both', which='major', direction='inout', left='on', right='on', labelsize=12)\n",
    "\n",
    "plt.setp([a.get_yticklabels() for a in fig.axes[1:3]], visible=False)"
   ]
  },
  {
   "cell_type": "code",
   "execution_count": 14,
   "metadata": {},
   "outputs": [
    {
     "name": "stdout",
     "output_type": "stream",
     "text": [
      "[0.38042906466603321, 0.20226294163075689, 0.40452588326151401]\n"
     ]
    }
   ],
   "source": [
    "print(ebsdGrain.averageSchmidFactors[4])"
   ]
  },
  {
   "cell_type": "code",
   "execution_count": null,
   "metadata": {
    "collapsed": true
   },
   "outputs": [],
   "source": []
  }
 ],
 "metadata": {
  "kernelspec": {
   "display_name": "Python 3",
   "language": "python",
   "name": "python3"
  },
  "language_info": {
   "codemirror_mode": {
    "name": "ipython",
    "version": 3
   },
   "file_extension": ".py",
   "mimetype": "text/x-python",
   "name": "python",
   "nbconvert_exporter": "python",
   "pygments_lexer": "ipython3",
   "version": "3.6.1"
  },
  "toc": {
   "nav_menu": {
    "height": "12px",
    "width": "252px"
   },
   "number_sections": true,
   "sideBar": true,
   "skip_h1_title": false,
   "toc_cell": false,
   "toc_position": {},
   "toc_section_display": "block",
   "toc_window_display": true
  }
 },
 "nbformat": 4,
 "nbformat_minor": 2
}
