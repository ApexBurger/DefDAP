{
 "cells": [
  {
   "cell_type": "markdown",
   "metadata": {},
   "source": [
    "### Load DIC data"
   ]
  },
  {
   "cell_type": "code",
   "execution_count": 1,
   "metadata": {},
   "outputs": [
    {
     "name": "stdout",
     "output_type": "stream",
     "text": [
      "Loaded DaVis 8.4.0 data (dimensions: 1429 x 1253 pixels, sub-window size: 16 x 16 pixels)\n",
      "Loaded EBSD data (dimensions: 1310 x 1054 pixels, step size: 0.1 um)\n"
     ]
    }
   ],
   "source": [
    "import numpy as np\n",
    "import matplotlib.pyplot as plt\n",
    "from matplotlib import gridspec\n",
    "import matplotlib.lines as mlines\n",
    "from defdap.quat import Quat\n",
    "import defdap.ebsd as ebsd\n",
    "import defdap.hrdic as hrdic\n",
    "from IPython.display import display\n",
    "from matplotlib_scalebar.scalebar import ScaleBar\n",
    "from skimage.filters import threshold_local, sobel, threshold_adaptive\n",
    "import skimage.morphology as mph\n",
    "from skimage import feature, measure\n",
    "import scipy.ndimage as nd\n",
    "\n",
    "from skimage.transform import rescale, resize, downscale_local_mean\n",
    "from scipy import ndimage\n",
    "import matplotlib as mpl\n",
    "\n",
    "%matplotlib osx\n",
    "\n",
    "DicFilePath = \"/Users/mbcx9rt5/Dropbox (Research Group)/new davis/zrh/\"\n",
    "\n",
    "# SetA1 = hrdic.Map(DicFilePath, \"SetA_001.TXT\")\n",
    "# SetA1.setPatternPath(\"SetA_opt.jpg\", 4)\n",
    "# SetA1.setCrop(xMin=100,xMax=100,yMin=100,yMax=100)\n",
    "\n",
    "# SetA2 = hrdic.Map(DicFilePath, \"SetA_002.TXT\")\n",
    "# SetA2.setPatternPath(\"SetA_opt.jpg\", 4)\n",
    "# SetA2.setCrop(xMin=100,xMax=100,yMin=100,yMax=100)\n",
    "\n",
    "SetA3 = hrdic.Map(DicFilePath, \"SetA_003.TXT\")\n",
    "SetA3.setPatternPath(\"SetA_opt.jpg\", 4)\n",
    "SetA3.setCrop(xMin=100,xMax=100,yMin=100,yMax=100)\n",
    "\n",
    "EbsdMap = ebsd.Map(\"zrh/zr4H_a_clean2\", \"hexagonal\")\n",
    "EbsdMap.loadSlipSystems(\"defdap/slip_systems/hexagonal_withca.txt\", cOverA=1.593)\n",
    "EbsdMap.buildQuatArray()\n",
    "EbsdMap.findPhaseBoundaries()\n",
    "EbsdMap.findBoundaries(boundDef = 4)\n",
    "EbsdMap.findGrains(minGrainSize= 100)\n",
    "EbsdMap.calcGrainMisOri(calcAxis = False)\n",
    "EbsdMap.calcAverageGrainSchmidFactors()\n",
    "\n",
    "SetA3.homogPoints = np.array(( (384, 552), (718, 854), (530, 206), (1066, 774), (1188, 220), (73, 477), (152, 809), (140, 992), (383,1042),\n",
    "                              (39,208), (458, 109), (853,345), (916, 160), (181,521), (685,554), (1037, 872), (885, 986)\n",
    "                             ))\n",
    "EbsdMap.homogPoints = np.array(( (460, 555), (705, 752), (584, 331), (976, 704), (1089, 356), (223, 492), (271, 711), (252, 835), (442,867),\n",
    "                                (206,322), (533,268), (827,426), (881,308), (308, 524), (691,557), (952, 771), (832, 844)\n",
    "                               ))\n",
    "\n",
    "SetA3.linkEbsdMap(EbsdMap)\n",
    "SetA3.findGrains(minGrainSize=50)"
   ]
  },
  {
   "cell_type": "code",
   "execution_count": null,
   "metadata": {},
   "outputs": [],
   "source": [
    "if self.phaseArray[j, i]==-1 or self.phaseArray[j, i]==2 or self.phaseArray[j, i]==3 or phaseArrayShifted[j, i]==-1 or phaseArrayShifted[j, i]==2 or phaseArrayShifted[j, i]==3:\n",
    "    self.boundaries[j, i] = 0"
   ]
  },
  {
   "cell_type": "code",
   "execution_count": null,
   "metadata": {
    "collapsed": true
   },
   "outputs": [],
   "source": [
    "SetA3.homogPoints = np.array(())\n",
    "EbsdMap.homogPoints = np.array(())"
   ]
  },
  {
   "cell_type": "code",
   "execution_count": null,
   "metadata": {},
   "outputs": [],
   "source": [
    "EbsdMap.setHomogPoint()\n",
    "SetA3.setHomogPoint()"
   ]
  },
  {
   "cell_type": "markdown",
   "metadata": {},
   "source": [
    "### Plot DIC"
   ]
  },
  {
   "cell_type": "code",
   "execution_count": 17,
   "metadata": {},
   "outputs": [],
   "source": [
    "SetA3.plotMaxShear(plotGBs=True, vmax=0.1, dilateBoundaries=False)"
   ]
  },
  {
   "cell_type": "code",
   "execution_count": null,
   "metadata": {},
   "outputs": [],
   "source": [
    "fig, (ax1,ax2) = plt.subplots(1,2, sharey=True, sharex=True)\n",
    "ax1.imshow(EbsdMap.phaseArray)\n",
    "ax2.imshow(-EbsdMap.boundaries)"
   ]
  },
  {
   "cell_type": "code",
   "execution_count": null,
   "metadata": {},
   "outputs": [],
   "source": []
  },
  {
   "cell_type": "markdown",
   "metadata": {},
   "source": [
    "### Fix bounds"
   ]
  },
  {
   "cell_type": "code",
   "execution_count": 14,
   "metadata": {},
   "outputs": [
    {
     "data": {
      "text/plain": [
       "<matplotlib.image.AxesImage at 0x154f77908>"
      ]
     },
     "execution_count": 14,
     "metadata": {},
     "output_type": "execute_result"
    }
   ],
   "source": [
    "plt.imshow(SetA3.crop(SetA3.max_shear),vmax=0.08)\n",
    "\n",
    "cmap1 = mpl.colors.LinearSegmentedColormap.from_list('my_cmap', ['black', 'black'], 256)\n",
    "cmap1._init()\n",
    "cmap1._lut[:, -1] = np.linspace(0, 1, cmap1.N + 3)\n",
    "\n",
    "cmap2 = mpl.colors.LinearSegmentedColormap.from_list('my_cmap', ['white', 'white'], 256)\n",
    "cmap2._init()\n",
    "cmap2._lut[:, -1] = np.linspace(0, 1, cmap1.N + 3)\n",
    "\n",
    "boundariesImage = -SetA3.boundaries\n",
    "#boundariesImage2 = mph.binary_dilation(boundariesImage)\n",
    "plt.imshow(boundariesImage, cmap=cmap1, vmin=0, vmax=1)\n",
    "\n",
    "boundariesImage3 = mph.binary_dilation(boundariesImage)\n",
    "plt.imshow(boundariesImage3, cmap=cmap2, vmin=0, vmax=1)"
   ]
  },
  {
   "cell_type": "markdown",
   "metadata": {},
   "source": [
    "### Find phases"
   ]
  },
  {
   "cell_type": "code",
   "execution_count": 2,
   "metadata": {},
   "outputs": [
    {
     "name": "stdout",
     "output_type": "stream",
     "text": []
    }
   ],
   "source": [
    "EbsdMap.findPhaseBoundaries()"
   ]
  },
  {
   "cell_type": "code",
   "execution_count": 11,
   "metadata": {},
   "outputs": [],
   "source": [
    "EbsdMap.plotPhaseBoundaryMap(dilate=True)"
   ]
  },
  {
   "cell_type": "code",
   "execution_count": 4,
   "metadata": {},
   "outputs": [],
   "source": [
    "EbsdMap.plotPhaseMap()"
   ]
  },
  {
   "cell_type": "code",
   "execution_count": null,
   "metadata": {},
   "outputs": [],
   "source": [
    "phase2 = mph.remove_small_objects(EbsdMap.phaseArray, min_size=5, in_place=False, connectivity=2)\n",
    "\n",
    "phaseArrayShifted = np.full((EbsdMap.yDim, EbsdMap.xDim), -3)\n",
    "phaseArrayShifted[:-1, :-1] = phase2[1:, 1:]\n",
    "\n",
    "bound = np.zeros((EbsdMap.yDim, EbsdMap.xDim))\n",
    "bound = np.where(np.not_equal(phase2, phaseArrayShifted), -1, 0)\n",
    "\n",
    "plt.imshow(bound)"
   ]
  },
  {
   "cell_type": "markdown",
   "metadata": {},
   "source": [
    "### Ward phase map to DIC"
   ]
  },
  {
   "cell_type": "code",
   "execution_count": 12,
   "metadata": {},
   "outputs": [],
   "source": [
    "newmap = SetA3.warpToDicFrame(EbsdMap.phaseArray, order=0, preserve_range=True)"
   ]
  },
  {
   "cell_type": "code",
   "execution_count": 13,
   "metadata": {},
   "outputs": [
    {
     "data": {
      "text/plain": [
       "<matplotlib.image.AxesImage at 0x1548c8908>"
      ]
     },
     "execution_count": 13,
     "metadata": {},
     "output_type": "execute_result"
    }
   ],
   "source": [
    "plt.imshow(newmap)"
   ]
  },
  {
   "cell_type": "markdown",
   "metadata": {},
   "source": [
    "### Phase stats"
   ]
  },
  {
   "cell_type": "code",
   "execution_count": 15,
   "metadata": {},
   "outputs": [],
   "source": [
    "zircstrains = []\n",
    "hydridestrains = []\n",
    "sppstrains = []\n",
    "\n",
    "for x in range(100,SetA3.xDim-200):\n",
    "    for y in range(100,SetA3.xDim-200):\n",
    "        if newmap[y][x]==1:\n",
    "            zircstrains.append(SetA3.crop(SetA3.max_shear)[y][x])\n",
    "        if newmap[y][x]==2:\n",
    "            hydridestrains.append(SetA3.crop(SetA3.max_shear)[y][x])\n",
    "        if newmap[y][x]==3:\n",
    "            sppstrains.append(SetA3.crop(SetA3.max_shear)[y][x])\n",
    "            \n",
    "zircstrains = np.asarray(zircstrains)\n",
    "hydridestrains = np.asarray(hydridestrains)\n",
    "sppstrains = np.asarray(sppstrains)"
   ]
  },
  {
   "cell_type": "code",
   "execution_count": null,
   "metadata": {},
   "outputs": [],
   "source": [
    "def printStats(selMap,label='?'):\n",
    "    print(\"{0}:    \\t{1:.2f}\\t{2:.2f}\\t{3:.2f}\\t{4:.2f}\\t{5:.2f}\\t{6:.2f}\".format(label,np.min(selMap)*100,np.percentile((selMap)*100,0.1),np.mean(selMap)*100,np.percentile((selMap)*100,99.9),np.max(selMap)*100,np.percentile((selMap),99.9)/np.mean(selMap)))\n",
    "\n",
    "print(\"Paramater(%) \\tMin\\tP0.1\\tMean\\tP99.9\\tMax\\tH\")\n",
    "\n",
    "printStats(SetA3.crop(SetA3.max_shear),label=\"All\")\n",
    "printStats(zircstrains,label=\"Zirc\")\n",
    "printStats(hydridestrains,label=\"Hydride\")\n",
    "printStats(sppstrains,label=\"SPP\")"
   ]
  },
  {
   "cell_type": "code",
   "execution_count": 19,
   "metadata": {},
   "outputs": [],
   "source": [
    "f, (ax1) = plt.subplots(1)\n",
    "f.subplots_adjust(hspace=0)\n",
    "plt.setp([a.get_xticklabels() for a in f.axes[:-1]], visible=False)\n",
    "\n",
    "counts, bins, bars = ax1.hist(zircstrains*100, label='metal',bins=np.linspace(0,15,200), color='r', histtype='step', normed=True)\n",
    "counts, bins, bars = ax1.hist(hydridestrains*100, label='hydride',bins=np.linspace(0,15,200), color='b', histtype='step', normed=True)\n",
    "#counts, bins, bars = ax1.hist(sppstrains, label='spp',bins=np.linspace(0,0.15,200), color='g', histtype='step', normed=True)\n",
    "\n",
    "plt.xlabel(\"Effective shear strain (%)\",{'size': 12})\n",
    "plt.ylabel(\"Frequency\",{'size': 12})\n",
    "plt.legend()\n",
    "\n",
    "center = (bins[:-1] + bins[1:]) / 2\n",
    "\n",
    "plt.show()\n",
    "\n",
    "f.savefig(\"test.pdf\", bbox_inches='tight')"
   ]
  },
  {
   "cell_type": "markdown",
   "metadata": {},
   "source": [
    "### Warp, remove small"
   ]
  },
  {
   "cell_type": "code",
   "execution_count": null,
   "metadata": {},
   "outputs": [],
   "source": [
    "newmap3 = SetA3.warpToDicFrame(EbsdMap.phaseArray, order=1)"
   ]
  },
  {
   "cell_type": "code",
   "execution_count": null,
   "metadata": {},
   "outputs": [],
   "source": [
    "newmap3[newmap3<0.0116]=5 #Non-indexed\n",
    "newmap3[newmap3<0.019]=4 #Zirc was 0.157\n",
    "newmap3[newmap3<0.0199]=3 #Hydride\n",
    "newmap3[newmap3<1]=2 #SPP\n",
    "\n",
    "newmap3[newmap3==5]=0 #Non-indexed\n",
    "newmap3[newmap3==4]=0 #Zirc\n",
    "newmap3[newmap3==3]=1 #Hydride\n",
    "newmap3[newmap3==2]=0 #SPP\n",
    "\n",
    "plt.imshow(newmap3)"
   ]
  },
  {
   "cell_type": "code",
   "execution_count": null,
   "metadata": {},
   "outputs": [],
   "source": [
    "boolmap = newmap3.astype(bool)\n",
    "\n",
    "remsml = mph.remove_small_objects(boolmap, min_size=10, in_place=False, connectivity=1)\n",
    "\n",
    "phaseArrayShifted = np.full((SetA3.yDim, SetA3.xDim), -3)\n",
    "phaseArrayShifted[:-1, :-1] = remsml[1:, 1:]\n",
    "\n",
    "# where shifted array not equal to starting array, set to -1\n",
    "newmap2 = np.zeros((SetA3.yDim, SetA3.xDim))\n",
    "newmap2 = np.where(np.not_equal(remsml, phaseArrayShifted), 1, 0)\n"
   ]
  },
  {
   "cell_type": "markdown",
   "metadata": {},
   "source": [
    "### Plot"
   ]
  },
  {
   "cell_type": "code",
   "execution_count": null,
   "metadata": {},
   "outputs": [],
   "source": [
    "import skimage.morphology as mph\n",
    "\n",
    "plt.imshow(SetA3.crop(SetA3.max_shear),vmax=0.08)\n",
    "\n",
    "cmap1 = mpl.colors.LinearSegmentedColormap.from_list('my_cmap', ['black', 'black'], 256)\n",
    "cmap1._init()\n",
    "cmap1._lut[:, -1] = np.linspace(0, 1, cmap1.N + 3)\n",
    "\n",
    "cmap2 = mpl.colors.LinearSegmentedColormap.from_list('my_cmap', ['white', 'white'], 256)\n",
    "cmap2._init()\n",
    "cmap2._lut[:, -1] = np.linspace(0, 1, cmap1.N + 3)\n",
    "\n",
    "boundariesImage = newmap2\n",
    "#boundariesImage = mph.binary_dilation(boundariesImage)\n",
    "#boundariesImage=mph.binary_closing(boundariesImage)\n",
    "plt.imshow(boundariesImage, cmap=cmap1, vmin=0, vmax=1)\n",
    "\n",
    "#boundariesImage3 = mph.binary_dilation(boundariesImage)\n",
    "#plt.imshow(boundariesImage3, cmap=cmap2, vmin=0, vmax=1)"
   ]
  },
  {
   "cell_type": "markdown",
   "metadata": {},
   "source": [
    "### Export boundaries"
   ]
  },
  {
   "cell_type": "code",
   "execution_count": null,
   "metadata": {},
   "outputs": [],
   "source": [
    "#EXPORT BOUNDARY TO FILE\n",
    "from skimage import morphology as mph\n",
    "import matplotlib as mpl\n",
    "cmap1 = mpl.colors.LinearSegmentedColormap.from_list('my_cmap', ['white', 'black'], 256)\n",
    "cmap1._init()\n",
    "cmap1._lut[:, -1] = np.linspace(0, 1, cmap1.N + 3)\n",
    "boundariesImage = newmap2\n",
    "plt.imshow(boundariesImage, cmap=cmap1, vmin=0, vmax=1)\n",
    "\n",
    "import scipy.misc\n",
    "scipy.misc.imsave('newdata/a_phase.bmp', boundariesImage)"
   ]
  },
  {
   "cell_type": "code",
   "execution_count": null,
   "metadata": {},
   "outputs": [],
   "source": [
    "###IMPORT FROM FILE\n",
    "\n",
    "import scipy\n",
    "\n",
    "phaseboundaries = np.zeros((SetA3.yDim, SetA3.xDim))\n",
    "phaseboundaries = scipy.misc.imread('newdata/a_phase.bmp').astype(int)\n",
    "phaseboundaries[phaseboundaries < 200] = 0\n",
    "\n",
    "phaseboundaries[phaseboundaries > 200] = 1"
   ]
  },
  {
   "cell_type": "markdown",
   "metadata": {},
   "source": [
    "### Plot"
   ]
  },
  {
   "cell_type": "code",
   "execution_count": null,
   "metadata": {},
   "outputs": [],
   "source": [
    "import skimage.morphology as mph\n",
    "\n",
    "plt.imshow(SetA3.crop(SetA3.max_shear),vmax=0.08)\n",
    "plt.colorbar()\n",
    "\n",
    "cmap1 = mpl.colors.LinearSegmentedColormap.from_list('my_cmap', ['black', 'black'], 256)\n",
    "cmap1._init()\n",
    "cmap1._lut[:, -1] = np.linspace(0, 1, cmap1.N + 3)\n",
    "\n",
    "cmap2 = mpl.colors.LinearSegmentedColormap.from_list('my_cmap', ['white', 'white'], 256)\n",
    "cmap2._init()\n",
    "cmap2._lut[:, -1] = np.linspace(0, 1, cmap1.N + 3)\n",
    "\n",
    "phaseboundaries = mph.binary_dilation(phaseboundaries)\n",
    "grainboundaries = mph.binary_dilation(-SetA3.boundaries)\n",
    "plt.imshow(-SetA3.boundaries, cmap=cmap2, vmin=0, vmax=1)\n",
    "plt.imshow(phaseboundaries, cmap=cmap1, vmin=0, vmax=1)"
   ]
  },
  {
   "cell_type": "markdown",
   "metadata": {},
   "source": [
    "### Tweak boundary"
   ]
  },
  {
   "cell_type": "markdown",
   "metadata": {},
   "source": [
    "### Select DIC map"
   ]
  },
  {
   "cell_type": "code",
   "execution_count": null,
   "metadata": {
    "collapsed": true
   },
   "outputs": [],
   "source": [
    "DicMap=SetA3\n",
    "\n",
    "print(\"Max Exx: {0:.2f}%\".format(np.max(DicMap.crop(DicMap.f11))*100))\n",
    "print(\"Max shear: {0:.2f}%\".format(np.max(DicMap.crop(DicMap.max_shear))*100))\n",
    "print(\"Min shear: {0:.2f}%\".format(np.min(DicMap.crop(DicMap.max_shear))*100))\n",
    "print(\"Mean Exx: {0:.2f}%\".format(np.mean(DicMap.crop(DicMap.f11))*100))\n",
    "print(\"Mean shear: {0:.2f}%\".format(np.mean(DicMap.crop(DicMap.max_shear))*100))\n",
    "print(\"Points: {0}\".format(len(DicMap.crop(DicMap.max_shear)[0])*len(DicMap.crop(DicMap.max_shear)[1])))"
   ]
  },
  {
   "cell_type": "markdown",
   "metadata": {},
   "source": [
    "### Load and threshold BSE image"
   ]
  },
  {
   "cell_type": "code",
   "execution_count": null,
   "metadata": {
    "collapsed": true
   },
   "outputs": [],
   "source": [
    "from skimage.transform import rescale\n",
    "image = plt.imread(DicMap.patternImPath)\n",
    "#image = nd.filters.median_filter(image,size=16)\n",
    "image2 = rescale(image, 1.0 / 4.0)"
   ]
  },
  {
   "cell_type": "code",
   "execution_count": null,
   "metadata": {
    "collapsed": true
   },
   "outputs": [],
   "source": [
    "plt.imshow(DicMap.crop(image2),cmap='binary')"
   ]
  },
  {
   "cell_type": "code",
   "execution_count": null,
   "metadata": {
    "collapsed": true
   },
   "outputs": [],
   "source": [
    "#thres = threshold_adaptive(image2, 1501, offset=10)\n",
    "\n",
    "thresh = threshold_local(image2, 1501, offset=10)\n",
    "image3 = image2 > thresh\n"
   ]
  },
  {
   "cell_type": "code",
   "execution_count": null,
   "metadata": {
    "collapsed": true
   },
   "outputs": [],
   "source": [
    "plt.imshow(DicMap.crop(image3),cmap='binary')"
   ]
  },
  {
   "cell_type": "code",
   "execution_count": null,
   "metadata": {
    "collapsed": true
   },
   "outputs": [],
   "source": [
    "binary = rescale(thres, 1.0 / 4.0)\n",
    "\n",
    "\n",
    "binary = mph.binary_closing(binary)\n",
    "binary=mph.remove_small_objects(binary,min_size=2000,connectivity=4)"
   ]
  },
  {
   "cell_type": "code",
   "execution_count": null,
   "metadata": {
    "collapsed": true
   },
   "outputs": [],
   "source": [
    "plt.figure(figsize=(16,10))\n",
    "plt.imshow(binary,cmap='binary')\n",
    "plt.show()"
   ]
  },
  {
   "cell_type": "code",
   "execution_count": null,
   "metadata": {
    "code_folding": [],
    "collapsed": true
   },
   "outputs": [],
   "source": [
    "edges = sobel(binary)\n",
    "edges[edges>=0.01] = 1\n",
    "edges[edges<0.01] = 0"
   ]
  },
  {
   "cell_type": "code",
   "execution_count": null,
   "metadata": {
    "collapsed": true
   },
   "outputs": [],
   "source": [
    "plt.figure(figsize=(16,10))\n",
    "plt.imshow(edges)\n",
    "plt.show()"
   ]
  },
  {
   "cell_type": "markdown",
   "metadata": {},
   "source": [
    "### Plot DIC and skeleton"
   ]
  },
  {
   "cell_type": "code",
   "execution_count": null,
   "metadata": {
    "collapsed": true
   },
   "outputs": [],
   "source": [
    "cmap1 = mpl.colors.LinearSegmentedColormap.from_list('my_cmap', ['white', 'white'], 256)\n",
    "cmap1._init()\n",
    "cmap1._lut[:, -1] = np.linspace(0, 1,cmap1.N + 3)"
   ]
  },
  {
   "cell_type": "code",
   "execution_count": null,
   "metadata": {
    "collapsed": true
   },
   "outputs": [],
   "source": [
    "fig = plt.figure(frameon=False,figsize=(8,7))\n",
    "ax = plt.Axes(fig, [0., 0., 0.9, 1.])\n",
    "#fig,ax=plt.subplots(1, 1, figsize=(10, 8),frameon=False)\n",
    "ax.set_axis_off()\n",
    "fig.add_axes(ax)\n",
    "\n",
    "img = ax.imshow(DicMap.crop(DicMap.max_shear)*100,vmax=10)\n",
    "ax.imshow(DicMap.crop(edges),cmap=cmap1)\n",
    "\n",
    "ax.xaxis.set_visible(False)\n",
    "ax.yaxis.set_visible(False)\n",
    "\n",
    "scalebar = ScaleBar(0.078125e-6) # 1 pixel = 0.2 meter\n",
    "plt.gca().add_artist(scalebar)\n",
    "\n",
    "cbar=plt.colorbar(img, ax=ax,fraction=0.03, pad=0.02, anchor=(0.0, 0.22))\n",
    "cbar.set_label(label=\"Effective shear strain (%)\",size=12)\n",
    "cbar.ax.tick_params(labelsize=11) \n",
    "plt.show()\n",
    "\n",
    "fig.savefig('fig2.png',dpi=300, bbox_inches='tight', pad_inches=0)"
   ]
  },
  {
   "cell_type": "markdown",
   "metadata": {},
   "source": [
    "##### "
   ]
  }
 ],
 "metadata": {
  "kernelspec": {
   "display_name": "Python 3",
   "language": "python",
   "name": "python3"
  },
  "language_info": {
   "codemirror_mode": {
    "name": "ipython",
    "version": 3
   },
   "file_extension": ".py",
   "mimetype": "text/x-python",
   "name": "python",
   "nbconvert_exporter": "python",
   "pygments_lexer": "ipython3",
   "version": "3.6.1"
  },
  "toc": {
   "nav_menu": {},
   "number_sections": true,
   "sideBar": true,
   "skip_h1_title": false,
   "toc_cell": false,
   "toc_position": {},
   "toc_section_display": "block",
   "toc_window_display": false
  }
 },
 "nbformat": 4,
 "nbformat_minor": 2
}
