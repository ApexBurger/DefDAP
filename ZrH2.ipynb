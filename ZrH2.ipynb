{
 "cells": [
  {
   "cell_type": "code",
   "execution_count": 1,
   "metadata": {
    "collapsed": true
   },
   "outputs": [],
   "source": [
    "import numpy as np\n",
    "import matplotlib.pyplot as plt\n",
    "from matplotlib import gridspec\n",
    "import matplotlib.lines as mlines\n",
    "from DICEBSD.quat import Quat\n",
    "import DICEBSD.ebsd as ebsd\n",
    "import DICEBSD.hrdic as hrdic\n",
    "from IPython.display import display\n",
    "\n",
    "%matplotlib osx\n",
    "\n",
    "#Load in DIC maps\n",
    "DicFilePath = \"/Users/mbcx9rt5/Dropbox (Research Group)/new davis/zrh/\"\n",
    "SetA = hrdic.Map(DicFilePath, \"SetA_002.TXT\")\n",
    "SetA.setPatternPath(\"SetA_opt.jpg\", 4)\n",
    "SetA.setCrop(xMin=100,xMax=100,yMin=100,yMax=100)\n",
    "\n",
    "DicFilePath = \"/Users/mbcx9rt5/Dropbox (Research Group)/new davis/zrh/\"\n",
    "SetC = hrdic.Map(DicFilePath, \"SetC_002.TXT\")\n",
    "SetC.setPatternPath(\"SetC_opt.jpg\", 4)\n",
    "SetC.setCrop(xMin=100,xMax=100,yMin=100,yMax=100)\n",
    "\n",
    "DicFilePath = \"/Users/mbcx9rt5/Dropbox (Research Group)/new davis/zrh/\"\n",
    "SetD = hrdic.Map(DicFilePath, \"SetD_002.TXT\")\n",
    "SetD.setPatternPath(\"SetD_opt.jpg\", 4)\n",
    "SetD.setCrop(xMin=100,xMax=100,yMin=100,yMax=100)\n"
   ]
  },
  {
   "cell_type": "code",
   "execution_count": 2,
   "metadata": {},
   "outputs": [
    {
     "name": "stdout",
     "output_type": "stream",
     "text": [
      "Max Exx: 54.65%\n",
      "Max shear: 45.07%\n",
      "Min shear: 0.00%\n",
      "Mean Exx: 1.23%\n",
      "Mean shear: 1.40%\n",
      "Points: 1510441\n"
     ]
    }
   ],
   "source": [
    "DicMap=SetA\n",
    "\n",
    "print(\"Max Exx: {0:.2f}%\".format(np.max(DicMap.crop(DicMap.f11))*100))\n",
    "\n",
    "print(\"Max shear: {0:.2f}%\".format(np.max(DicMap.crop(DicMap.max_shear))*100))\n",
    "\n",
    "print(\"Min shear: {0:.2f}%\".format(np.min(DicMap.crop(DicMap.max_shear))*100))\n",
    "\n",
    "print(\"Mean Exx: {0:.2f}%\".format(np.mean(DicMap.crop(DicMap.f11))*100))\n",
    "\n",
    "print(\"Mean shear: {0:.2f}%\".format(np.mean(DicMap.crop(DicMap.max_shear))*100))\n",
    "\n",
    "print(\"Points: {0}\".format(len(DicMap.crop(DicMap.max_shear)[0])*len(DicMap.crop(DicMap.max_shear)[1])))"
   ]
  },
  {
   "cell_type": "code",
   "execution_count": 33,
   "metadata": {
    "collapsed": true
   },
   "outputs": [],
   "source": [
    "SetA.plotMaxShear(vmax=6,figsize=(20,10))"
   ]
  },
  {
   "cell_type": "code",
   "execution_count": 4,
   "metadata": {},
   "outputs": [
    {
     "data": {
      "text/plain": [
       "<matplotlib.image.AxesImage at 0x129e556a0>"
      ]
     },
     "execution_count": 4,
     "metadata": {},
     "output_type": "execute_result"
    }
   ],
   "source": [
    "self=SetA\n",
    "\n",
    "bseImage = plt.imread(self.patternImPath)\n",
    "\n",
    "plt.figure(figsize=(16,10))\n",
    "plt.imshow(bseImage,cmap='binary')"
   ]
  },
  {
   "cell_type": "code",
   "execution_count": 9,
   "metadata": {},
   "outputs": [
    {
     "name": "stderr",
     "output_type": "stream",
     "text": [
      "/Users/mbcx9rt5/anaconda/lib/python3.6/site-packages/skimage/filters/thresholding.py:222: skimage_deprecation: Function ``threshold_adaptive`` is deprecated and will be removed in version 0.15. Use ``threshold_local`` instead.\n",
      "  def threshold_adaptive(image, block_size, method='gaussian', offset=0,\n",
      "/Users/mbcx9rt5/anaconda/lib/python3.6/site-packages/skimage/filters/thresholding.py:224: UserWarning: The return value of `threshold_local` is a threshold image, while `threshold_adaptive` returned the *thresholded* image.\n",
      "  warn('The return value of `threshold_local` is a threshold image, while '\n",
      "/Users/mbcx9rt5/anaconda/lib/python3.6/site-packages/skimage/transform/_warps.py:84: UserWarning: The default mode, 'constant', will be changed to 'reflect' in skimage 0.15.\n",
      "  warn(\"The default mode, 'constant', will be changed to 'reflect' in \"\n",
      "/Users/mbcx9rt5/anaconda/lib/python3.6/site-packages/skimage/transform/_warps.py:84: UserWarning: The default mode, 'constant', will be changed to 'reflect' in skimage 0.15.\n",
      "  warn(\"The default mode, 'constant', will be changed to 'reflect' in \"\n"
     ]
    }
   ],
   "source": [
    "from skimage.filters import threshold_mean\n",
    "from skimage.filters import threshold_otsu, threshold_adaptive\n",
    "import skimage.morphology as mph\n",
    "from skimage import feature\n",
    "import scipy.ndimage as nd\n",
    "\n",
    "image = bseImage\n",
    "image = nd.filters.median_filter(image,size=16)\n",
    "thresh = threshold_mean(image)\n",
    "\n",
    "thres = threshold_adaptive(image, 55, offset=10)\n",
    "\n",
    "binary = image < thresh - 44\n",
    "binary = rescale(binary, 1.0 / 4.0)\n",
    "binary = mph.binary_closing(binary)\n",
    "binary=mph.remove_small_objects(binary,min_size=500,connectivity=1)\n",
    "\n",
    "binary2 = binary = image < 30\n",
    "binary2 = rescale(binary, 1.0 / 4.0)"
   ]
  },
  {
   "cell_type": "code",
   "execution_count": 10,
   "metadata": {
    "collapsed": true
   },
   "outputs": [],
   "source": [
    "plt.figure(figsize=(16,10))\n",
    "plt.imshow(binary)\n",
    "plt.show()"
   ]
  },
  {
   "cell_type": "code",
   "execution_count": null,
   "metadata": {
    "collapsed": true
   },
   "outputs": [],
   "source": []
  },
  {
   "cell_type": "code",
   "execution_count": 6,
   "metadata": {
    "code_folding": [],
    "collapsed": true
   },
   "outputs": [],
   "source": [
    "from skimage import measure\n",
    "from skimage.filters import sobel\n",
    "from skimage.transform import rescale, resize, downscale_local_mean\n",
    "    \n",
    "from scipy import ndimage\n",
    "#magnitude = feature.canny(binary)\n",
    "edges = sobel(binary)\n",
    "edges[edges<0.01] = 0\n",
    "edges[edges>=0.01] = 1"
   ]
  },
  {
   "cell_type": "code",
   "execution_count": 91,
   "metadata": {
    "collapsed": true
   },
   "outputs": [],
   "source": [
    "skeleton=mph.skeletonize(edges)\n",
    "skeleton=mph.binary_dilation(edges)"
   ]
  },
  {
   "cell_type": "code",
   "execution_count": 92,
   "metadata": {
    "collapsed": true
   },
   "outputs": [],
   "source": [
    "plt.figure(figsize=(16,10))\n",
    "plt.imshow(skeleton)\n",
    "plt.show()"
   ]
  },
  {
   "cell_type": "code",
   "execution_count": 93,
   "metadata": {
    "collapsed": true
   },
   "outputs": [],
   "source": [
    "import matplotlib as mpl\n",
    "cmap1 = mpl.colors.LinearSegmentedColormap.from_list('my_cmap', ['white', 'white'], 256)\n",
    "cmap1._init()\n",
    "cmap1._lut[:, -1] = np.linspace(0, 1, cmap1.N + 3)"
   ]
  },
  {
   "cell_type": "code",
   "execution_count": 94,
   "metadata": {
    "collapsed": true
   },
   "outputs": [],
   "source": [
    "plt.figure(figsize=(16,10))\n",
    "plt.imshow(SetA.max_shear,vmax=0.1)\n",
    "plt.imshow(skeleton,cmap=cmap1)\n",
    "plt.show()"
   ]
  },
  {
   "cell_type": "markdown",
   "metadata": {},
   "source": [
    "##### "
   ]
  }
 ],
 "metadata": {
  "kernelspec": {
   "display_name": "Python 3",
   "language": "python",
   "name": "python3"
  },
  "language_info": {
   "codemirror_mode": {
    "name": "ipython",
    "version": 3
   },
   "file_extension": ".py",
   "mimetype": "text/x-python",
   "name": "python",
   "nbconvert_exporter": "python",
   "pygments_lexer": "ipython3",
   "version": "3.6.1"
  },
  "toc": {
   "nav_menu": {},
   "number_sections": true,
   "sideBar": true,
   "skip_h1_title": false,
   "toc_cell": false,
   "toc_position": {},
   "toc_section_display": "block",
   "toc_window_display": false
  }
 },
 "nbformat": 4,
 "nbformat_minor": 2
}
