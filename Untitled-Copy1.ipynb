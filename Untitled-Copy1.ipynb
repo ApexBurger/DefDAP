{
 "cells": [
  {
   "cell_type": "code",
   "execution_count": 2,
   "metadata": {
    "collapsed": true
   },
   "outputs": [],
   "source": [
    "#Load third-party packages\n",
    "import numpy as np\n",
    "import matplotlib.pyplot as plt\n",
    "\n",
    "from skimage import transform as tf\n",
    "from skimage import io\n",
    "\n",
    "#Load quat, ebsd and hrdic packages from 'packages' sub-directory\n",
    "from packages.quat import Quat\n",
    "import packages.ebsd as ebsd\n",
    "import packages.hrdic as hrdic\n",
    "\n",
    "#Set plot behaviour\n",
    "#Interactive grain selection has only been tested in osx display mode\n",
    "%matplotlib osx"
   ]
  },
  {
   "cell_type": "code",
   "execution_count": 12,
   "metadata": {},
   "outputs": [
    {
     "name": "stderr",
     "output_type": "stream",
     "text": [
      "/Users/mbcx9rt5/Documents/GitHub/DataAnalysisUtilities/packages/ebsd.py:539: RuntimeWarning: invalid value encountered in true_divide\n",
      "  misOriAxis[:, :] = (2 * Dq[1:4, :] * np.arccos(Dq[0, :])) / np.sqrt(1 - np.power(Dq[0, :], 2))\n",
      "/Users/mbcx9rt5/Documents/GitHub/DataAnalysisUtilities/packages/ebsd.py:539: RuntimeWarning: invalid value encountered in arccos\n",
      "  misOriAxis[:, :] = (2 * Dq[1:4, :] * np.arccos(Dq[0, :])) / np.sqrt(1 - np.power(Dq[0, :], 2))\n",
      "/Users/mbcx9rt5/Documents/GitHub/DataAnalysisUtilities/packages/ebsd.py:539: RuntimeWarning: invalid value encountered in sqrt\n",
      "  misOriAxis[:, :] = (2 * Dq[1:4, :] * np.arccos(Dq[0, :])) / np.sqrt(1 - np.power(Dq[0, :], 2))\n"
     ]
    }
   ],
   "source": [
    "#Load in DIC maps\n",
    "DicFilePath = \"newdata/\"\n",
    "DicMap = hrdic.Map(DicFilePath, \"AZ31.npy\")\n",
    "DicMap.setPatternPath(\"irr_000_8bin.jpg\", 2)\n",
    "DicMap.setCrop(xMin=150,xMax=293,yMin=115,yMax=214)"
   ]
  },
  {
   "cell_type": "code",
   "execution_count": 14,
   "metadata": {
    "collapsed": true
   },
   "outputs": [],
   "source": [
    "EbsdMap.plotMisOriMap(plotGBs=True,vmax=1)"
   ]
  },
  {
   "cell_type": "code",
   "execution_count": null,
   "metadata": {
    "collapsed": true
   },
   "outputs": [],
   "source": []
  }
 ],
 "metadata": {
  "kernelspec": {
   "display_name": "Python 3",
   "language": "python",
   "name": "python3"
  },
  "language_info": {
   "codemirror_mode": {
    "name": "ipython",
    "version": 3
   },
   "file_extension": ".py",
   "mimetype": "text/x-python",
   "name": "python",
   "nbconvert_exporter": "python",
   "pygments_lexer": "ipython3",
   "version": "3.6.1"
  },
  "toc": {
   "nav_menu": {},
   "number_sections": true,
   "sideBar": true,
   "skip_h1_title": false,
   "toc_cell": false,
   "toc_position": {},
   "toc_section_display": "block",
   "toc_window_display": false
  }
 },
 "nbformat": 4,
 "nbformat_minor": 2
}
