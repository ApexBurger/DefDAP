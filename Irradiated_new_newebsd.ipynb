{
 "cells": [
  {
   "cell_type": "markdown",
   "metadata": {},
   "source": [
    "### Read data"
   ]
  },
  {
   "cell_type": "code",
   "execution_count": 3,
   "metadata": {},
   "outputs": [
    {
     "name": "stderr",
     "output_type": "stream",
     "text": [
      "Widget Javascript not detected.  It may not be installed or enabled properly.\n"
     ]
    },
    {
     "data": {
      "application/vnd.jupyter.widget-view+json": {
       "model_id": "bc7b0860f0224fd7bcec9a5f09cb627c"
      }
     },
     "metadata": {},
     "output_type": "display_data"
    },
    {
     "ename": "IndexError",
     "evalue": "index 721 is out of bounds for axis 1 with size 721",
     "output_type": "error",
     "traceback": [
      "\u001b[0;31m---------------------------------------------------------------------------\u001b[0m",
      "\u001b[0;31mIndexError\u001b[0m                                Traceback (most recent call last)",
      "\u001b[0;32m<ipython-input-3-bbe7d5e93794>\u001b[0m in \u001b[0;36m<module>\u001b[0;34m()\u001b[0m\n\u001b[1;32m     42\u001b[0m \u001b[0mEbsdMap\u001b[0m\u001b[0;34m.\u001b[0m\u001b[0mboundaries\u001b[0m\u001b[0;34m[\u001b[0m\u001b[0mEbsdMap\u001b[0m\u001b[0;34m.\u001b[0m\u001b[0mboundaries\u001b[0m \u001b[0;34m==\u001b[0m \u001b[0;36m0\u001b[0m\u001b[0;34m]\u001b[0m \u001b[0;34m=\u001b[0m \u001b[0;36m0\u001b[0m\u001b[0;34m\u001b[0m\u001b[0m\n\u001b[1;32m     43\u001b[0m \u001b[0mEbsdMap\u001b[0m\u001b[0;34m.\u001b[0m\u001b[0mboundaries\u001b[0m\u001b[0;34m[\u001b[0m\u001b[0mEbsdMap\u001b[0m\u001b[0;34m.\u001b[0m\u001b[0mboundaries\u001b[0m \u001b[0;34m==\u001b[0m \u001b[0;36m255\u001b[0m\u001b[0;34m]\u001b[0m \u001b[0;34m=\u001b[0m \u001b[0;34m-\u001b[0m\u001b[0;36m1\u001b[0m\u001b[0;34m\u001b[0m\u001b[0m\n\u001b[0;32m---> 44\u001b[0;31m \u001b[0mEbsdMap\u001b[0m\u001b[0;34m.\u001b[0m\u001b[0mfindGrains\u001b[0m\u001b[0;34m(\u001b[0m\u001b[0mminGrainSize\u001b[0m\u001b[0;34m=\u001b[0m \u001b[0;36m50\u001b[0m\u001b[0;34m)\u001b[0m\u001b[0;34m\u001b[0m\u001b[0m\n\u001b[0m\u001b[1;32m     45\u001b[0m \u001b[0mEbsdMap\u001b[0m\u001b[0;34m.\u001b[0m\u001b[0mcalcGrainMisOri\u001b[0m\u001b[0;34m(\u001b[0m\u001b[0mcalcAxis\u001b[0m \u001b[0;34m=\u001b[0m \u001b[0;32mFalse\u001b[0m\u001b[0;34m)\u001b[0m\u001b[0;34m\u001b[0m\u001b[0m\n\u001b[1;32m     46\u001b[0m \u001b[0mf\u001b[0m\u001b[0;34m.\u001b[0m\u001b[0mvalue\u001b[0m \u001b[0;34m+=\u001b[0m \u001b[0;36m25\u001b[0m\u001b[0;34m\u001b[0m\u001b[0m\n",
      "\u001b[0;32m/Users/mbcx9rt5/Dropbox (Research Group)/python/DefDAP/defdap/ebsd.py\u001b[0m in \u001b[0;36mfindGrains\u001b[0;34m(self, minGrainSize)\u001b[0m\n\u001b[1;32m    357\u001b[0m         \u001b[0;32mwhile\u001b[0m \u001b[0munknownPoints\u001b[0m\u001b[0;34m[\u001b[0m\u001b[0;36m0\u001b[0m\u001b[0;34m]\u001b[0m\u001b[0;34m.\u001b[0m\u001b[0mshape\u001b[0m\u001b[0;34m[\u001b[0m\u001b[0;36m0\u001b[0m\u001b[0;34m]\u001b[0m \u001b[0;34m>\u001b[0m \u001b[0;36m0\u001b[0m\u001b[0;34m:\u001b[0m\u001b[0;34m\u001b[0m\u001b[0m\n\u001b[1;32m    358\u001b[0m             \u001b[0;31m# Flood fill first unknown point and return grain object\u001b[0m\u001b[0;34m\u001b[0m\u001b[0;34m\u001b[0m\u001b[0m\n\u001b[0;32m--> 359\u001b[0;31m             \u001b[0mcurrentGrain\u001b[0m \u001b[0;34m=\u001b[0m \u001b[0mself\u001b[0m\u001b[0;34m.\u001b[0m\u001b[0mfloodFill\u001b[0m\u001b[0;34m(\u001b[0m\u001b[0munknownPoints\u001b[0m\u001b[0;34m[\u001b[0m\u001b[0;36m1\u001b[0m\u001b[0;34m]\u001b[0m\u001b[0;34m[\u001b[0m\u001b[0;36m0\u001b[0m\u001b[0;34m]\u001b[0m\u001b[0;34m,\u001b[0m \u001b[0munknownPoints\u001b[0m\u001b[0;34m[\u001b[0m\u001b[0;36m0\u001b[0m\u001b[0;34m]\u001b[0m\u001b[0;34m[\u001b[0m\u001b[0;36m0\u001b[0m\u001b[0;34m]\u001b[0m\u001b[0;34m,\u001b[0m \u001b[0mgrainIndex\u001b[0m\u001b[0;34m)\u001b[0m\u001b[0;34m\u001b[0m\u001b[0m\n\u001b[0m\u001b[1;32m    360\u001b[0m \u001b[0;34m\u001b[0m\u001b[0m\n\u001b[1;32m    361\u001b[0m             \u001b[0mgrainSize\u001b[0m \u001b[0;34m=\u001b[0m \u001b[0mlen\u001b[0m\u001b[0;34m(\u001b[0m\u001b[0mcurrentGrain\u001b[0m\u001b[0;34m)\u001b[0m\u001b[0;34m\u001b[0m\u001b[0m\n",
      "\u001b[0;32m/Users/mbcx9rt5/Dropbox (Research Group)/python/DefDAP/defdap/ebsd.py\u001b[0m in \u001b[0;36mfloodFill\u001b[0;34m(self, x, y, grainIndex)\u001b[0m\n\u001b[1;32m    407\u001b[0m         \u001b[0mcurrentGrain\u001b[0m \u001b[0;34m=\u001b[0m \u001b[0mGrain\u001b[0m\u001b[0;34m(\u001b[0m\u001b[0mself\u001b[0m\u001b[0;34m)\u001b[0m\u001b[0;34m\u001b[0m\u001b[0m\n\u001b[1;32m    408\u001b[0m \u001b[0;34m\u001b[0m\u001b[0m\n\u001b[0;32m--> 409\u001b[0;31m         \u001b[0mcurrentGrain\u001b[0m\u001b[0;34m.\u001b[0m\u001b[0maddPoint\u001b[0m\u001b[0;34m(\u001b[0m\u001b[0;34m(\u001b[0m\u001b[0mx\u001b[0m\u001b[0;34m,\u001b[0m \u001b[0my\u001b[0m\u001b[0;34m)\u001b[0m\u001b[0;34m,\u001b[0m \u001b[0mself\u001b[0m\u001b[0;34m.\u001b[0m\u001b[0mquatArray\u001b[0m\u001b[0;34m[\u001b[0m\u001b[0my\u001b[0m\u001b[0;34m,\u001b[0m \u001b[0mx\u001b[0m\u001b[0;34m]\u001b[0m\u001b[0;34m)\u001b[0m\u001b[0;34m\u001b[0m\u001b[0m\n\u001b[0m\u001b[1;32m    410\u001b[0m \u001b[0;34m\u001b[0m\u001b[0m\n\u001b[1;32m    411\u001b[0m         \u001b[0medge\u001b[0m \u001b[0;34m=\u001b[0m \u001b[0;34m[\u001b[0m\u001b[0;34m(\u001b[0m\u001b[0mx\u001b[0m\u001b[0;34m,\u001b[0m \u001b[0my\u001b[0m\u001b[0;34m)\u001b[0m\u001b[0;34m]\u001b[0m\u001b[0;34m\u001b[0m\u001b[0m\n",
      "\u001b[0;31mIndexError\u001b[0m: index 721 is out of bounds for axis 1 with size 721"
     ]
    }
   ],
   "source": [
    "import numpy as np\n",
    "import matplotlib.pyplot as plt\n",
    "from matplotlib import gridspec\n",
    "from matplotlib_scalebar.scalebar import ScaleBar\n",
    "import matplotlib.lines as mlines\n",
    "from defdap.quat import Quat\n",
    "import defdap.ebsd as ebsd\n",
    "import defdap.hrdic as hrdic\n",
    "from skimage import transform as tf\n",
    "from skimage import io, measure\n",
    "from IPython.display import display\n",
    "import scipy as scipy\n",
    "import peakutils\n",
    "from ipywidgets import FloatProgress\n",
    "from IPython.display import display\n",
    "%matplotlib osx\n",
    "f = FloatProgress(min=0, max=100)\n",
    "display(f)\n",
    "\n",
    "#Load in DIC maps\n",
    "DicFilePath = \"newdata/\"\n",
    "DicMap = hrdic.Map(DicFilePath, \"irr_003.TXT\")\n",
    "DicMap.setPatternPath(\"irr_000_8bin.jpg\", 2)\n",
    "#DicMap.setCrop(xMin=100,xMax=100,yMin=100,yMax=200)\n",
    "DicMap.setCrop(xMin=150,xMax=293,yMin=115,yMax=214)\n",
    "f.value += 25\n",
    "\n",
    "DicMap2 = hrdic.Map(DicFilePath, \"nonirr_003.TXT\")\n",
    "DicMap2.setPatternPath(\"nonirr_000_8bin.jpg\", 2)\n",
    "#DicMap2.setCrop(xMin=115,xMax=150,yMin=80,yMax=100)\n",
    "DicMap2.setCrop(xMin=131,xMax=166,yMin=100,yMax=99)\n",
    "f.value += 25\n",
    "\n",
    "pixelinm=78.125e-9\n",
    "\n",
    "#Load in EBSD map and calculate misorientation\n",
    "EbsdMap = ebsd.Map(\"newdata/irr_02_cleaned\", \"hexagonal\")\n",
    "EbsdMap.loadSlipSystems(\"defdap/slip_systems/hexagonal_withca.txt\", cOverA=1.593)\n",
    "EbsdMap.buildQuatArray()\n",
    "EbsdMap.findBoundaries(boundDef = 4)\n",
    "EbsdMap.boundaries = scipy.misc.imread('newdata/newebsd/i_boundaries.bmp').astype(int)\n",
    "EbsdMap.boundaries[EbsdMap.boundaries == 0] = 0\n",
    "EbsdMap.boundaries[EbsdMap.boundaries == 255] = -1\n",
    "EbsdMap.findGrains(minGrainSize= 50)\n",
    "EbsdMap.calcGrainMisOri(calcAxis = False)\n",
    "f.value += 25\n",
    "\n",
    "EbsdMap2 = ebsd.Map(\"newdata/newebsd/ni-clean6\", \"hexagonal\")\n",
    "EbsdMap2.loadSlipSystems(\"defdap/slip_systems/hexagonal_withca.txt\", cOverA=1.593)\n",
    "EbsdMap2.buildQuatArray()\n",
    "EbsdMap2.findBoundaries(boundDef = 4)\n",
    "EbsdMap2.boundaries = scipy.misc.imread('newdata/newebsd/ni_boundaries.bmp').astype(int)\n",
    "EbsdMap2.boundaries[EbsdMap2.boundaries == 0] = 0\n",
    "EbsdMap2.boundaries[EbsdMap2.boundaries == 255] = -1\n",
    "EbsdMap2.findGrains(minGrainSize= 100)\n",
    "EbsdMap2.calcGrainMisOri(calcAxis = False)\n",
    "f.value += 25"
   ]
  },
  {
   "cell_type": "markdown",
   "metadata": {
    "heading_collapsed": true
   },
   "source": [
    "### Export boundaries"
   ]
  },
  {
   "cell_type": "code",
   "execution_count": null,
   "metadata": {
    "collapsed": true,
    "hidden": true
   },
   "outputs": [],
   "source": [
    "#EXPORT BOUNDARY TO FILE\n",
    "from skimage import morphology as mph\n",
    "import matplotlib as mpl\n",
    "cmap1 = mpl.colors.LinearSegmentedColormap.from_list('my_cmap', ['white', 'black'], 256)\n",
    "cmap1._init()\n",
    "cmap1._lut[:, -1] = np.linspace(0, 1, cmap1.N + 3)\n",
    "boundariesImage = -EbsdMap2.boundaries\n",
    "#boundariesImage = mph.binary_dilation(boundariesImage)\n",
    "plt.imshow(boundariesImage, cmap=cmap1, vmin=0, vmax=1)\n",
    "\n",
    "import scipy.misc\n",
    "scipy.misc.imsave('newdata/newebsd/ni_boundaries.bmp', boundariesImage)"
   ]
  },
  {
   "cell_type": "markdown",
   "metadata": {},
   "source": [
    "### Define homologous points"
   ]
  },
  {
   "cell_type": "code",
   "execution_count": null,
   "metadata": {
    "collapsed": true
   },
   "outputs": [],
   "source": [
    "DicMap2.homogPoints = np.array((  (342, 397), (134, 560), (1182, 975), (1124, 1032), \n",
    "                                (158, 1062), (268, 1112), (80, 786), (84, 220), (726, 956), \n",
    "                                (596, 1148), (1042, 504), (1220, 326), (1182, 620), (1060, 872), \n",
    "                                (904, 1121), (652, 629), (501, 910), (502, 648), (716, 296) , \n",
    "                                (430, 239), (890, 690), (879, 79), (242, 64), (568, 48) ))\n",
    "EbsdMap2.homogPoints = np.array((  (167, 232), (80, 286), (484, 469), (462, 489), (79, 472), \n",
    "                                 (121, 494), (54, 368), (67, 160), (305, 446), (253, 516), \n",
    "                                 (440, 289), (513, 229), (491, 337), (438, 428), (373, 519), \n",
    "                                 (281, 325), (218, 423), (226, 327), (317, 204), (203, 174), \n",
    "                                 (378, 353), (385, 128), (135, 106), (262, 106) ))\n",
    "DicMap.homogPoints = np.array(( (379, 204), (55, 1072), (559, 318), (800, 1074), (1136, 747), (1114, 1097), (1141, 562), (1048, 174), (796, 222), (435, 103), (153, 485), (153, 228), (325, 1110), (454, 674), (906, 570), (1050, 866), (1038, 374), (459, 481), (788, 657), (334, 860), (119, 681), (765, 98), (96, 41), (1184, 14), (693, 806), (680, 1134), (1172, 114), (734, 463), (666, 330) ))\n",
    "EbsdMap.homogPoints = np.array(( (196, 94), (46, 404), (263, 136), (327, 419), (464, 300), (445, 434), (471, 231), (451, 93), (353, 107), (219, 62), (102, 186), (109, 99), (155, 424), (208, 259), (380, 230), (430, 342), (439, 161), (216, 192), (336, 259), (159, 327), (83, 257), (342, 66), (94, 42), (506, 48), (293, 312), (280, 443), (499, 78), (321, 189), (301, 139) ))  "
   ]
  },
  {
   "cell_type": "code",
   "execution_count": null,
   "metadata": {
    "collapsed": true
   },
   "outputs": [],
   "source": [
    "#DicMap.homogPoints = np.array((   ))\n",
    "#EbsdMap.homogPoints = np.array((   ))\n",
    "\n",
    "#DicMap2.setHomogPoint(display=\"pattern\")\n",
    "#EbsdMap2.setHomogPoint()\n",
    "\n",
    "DicMap.setHomogPoint(display=\"pattern\")\n",
    "EbsdMap.setHomogPoint()"
   ]
  },
  {
   "cell_type": "code",
   "execution_count": null,
   "metadata": {
    "collapsed": true
   },
   "outputs": [],
   "source": [
    "print(DicMap.homogPoints)\n",
    "print(EbsdMap.homogPoints)"
   ]
  },
  {
   "cell_type": "markdown",
   "metadata": {},
   "source": [
    "### Link maps and find grains"
   ]
  },
  {
   "cell_type": "code",
   "execution_count": null,
   "metadata": {},
   "outputs": [],
   "source": [
    "DicMap.linkEbsdMap(EbsdMap)\n",
    "DicMap.findGrains(minGrainSize=100)"
   ]
  },
  {
   "cell_type": "code",
   "execution_count": null,
   "metadata": {
    "collapsed": true
   },
   "outputs": [],
   "source": [
    "DicMap2.linkEbsdMap(EbsdMap2)\n",
    "DicMap2.setEbsdShift(xShift=0, yShift=0)\n",
    "DicMap2.findGrains(minGrainSize=100)"
   ]
  },
  {
   "cell_type": "markdown",
   "metadata": {},
   "source": [
    "### Plot max shear"
   ]
  },
  {
   "cell_type": "code",
   "execution_count": 9,
   "metadata": {},
   "outputs": [],
   "source": [
    "DicMap.plotMaxShear(plotGBs=True,vmin=0,vmax=10,plotColourBar=True,dilateBoundaries=True)"
   ]
  },
  {
   "cell_type": "code",
   "execution_count": 51,
   "metadata": {
    "collapsed": true
   },
   "outputs": [],
   "source": [
    "EbsdMap.plotMisOriMap(plotGBs=True,vmax=8)"
   ]
  },
  {
   "cell_type": "code",
   "execution_count": null,
   "metadata": {
    "collapsed": true
   },
   "outputs": [],
   "source": [
    "plt.imshow(EbsdMap.boundaries)\n",
    "#EbsdMap.plotEulerMap()"
   ]
  },
  {
   "cell_type": "code",
   "execution_count": null,
   "metadata": {
    "collapsed": true
   },
   "outputs": [],
   "source": [
    "#fig, ((ax0, ax1)) = plt.subplots(1, 2, figsize=(20, 10))\n",
    "ax0 = plt.subplot(121)\n",
    "ax1 = plt.subplot(122, sharex=ax0, sharey=ax0)\n",
    "ax0.imshow(DicMap.crop(DicMap.max_shear),vmax=0.1)\n",
    "ax1.imshow(DicMap.crop(0.5*DicMap.f12-0.5*DicMap.f21),cmap='coolwarm',vmin=-0.08,vmax=0.08)"
   ]
  },
  {
   "cell_type": "code",
   "execution_count": null,
   "metadata": {
    "collapsed": true
   },
   "outputs": [],
   "source": [
    "shear_map_filt=DicMap.crop(DicMap.f21)-DicMap.crop(DicMap.f12)\n",
    "shear_map_filt2=DicMap.crop(DicMap.max_shear)\n",
    "plt.figure()\n",
    "gs = gridspec.GridSpec(1, 3)\n",
    "ax0=plt.subplot(gs[0])\n",
    "ax1=plt.subplot(gs[1], sharex=ax0, sharey=ax0)\n",
    "ax2=plt.subplot(gs[2], sharex=ax0, sharey=ax0)\n",
    "ax0.imshow(shear_map_filt,cmap='coolwarm',vmin=-0.12,vmax=0.12)\n",
    "ax1.imshow(shear_map_filt2,cmap='viridis',vmin=0.00,vmax=0.08)\n",
    "bseImage = plt.imread(DicMap.patternImPath)\n",
    "bseImage=scipy.misc.imresize(bseImage,0.5)\n",
    "ax2.imshow(DicMap.crop(bseImage, binned=0.5), cmap='gray', vmin=0, vmax=255)"
   ]
  },
  {
   "cell_type": "code",
   "execution_count": null,
   "metadata": {
    "collapsed": true
   },
   "outputs": [],
   "source": [
    "from matplotlib.colors import PowerNorm\n",
    "\n",
    "rot_map=DicMap.crop(DicMap.max_shear)\n",
    "plt.figure()\n",
    "gs = gridspec.GridSpec(1, 1)\n",
    "ax0=plt.subplot(gs[0])\n",
    "img=ax0.imshow(rot_map,cmap='viridis',vmin=0,vmax=0.2, norm=PowerNorm(gamma=0.8))\n",
    "plt.colorbar(img, ax=ax0, label=\"Effective shear strain (%)\")"
   ]
  },
  {
   "cell_type": "code",
   "execution_count": null,
   "metadata": {
    "collapsed": true
   },
   "outputs": [],
   "source": [
    "EbsdMap.calcAverageGrainSchmidFactors\n",
    "EbsdMap.plotAverageGrainSchmidFactorsMap()"
   ]
  },
  {
   "cell_type": "markdown",
   "metadata": {},
   "source": [
    "### Histograms"
   ]
  },
  {
   "cell_type": "code",
   "execution_count": null,
   "metadata": {
    "collapsed": true
   },
   "outputs": [],
   "source": [
    "print(\"Max Exx irr: {0:.2f}%\".format(np.max(DicMap.crop(DicMap.f11))*100))\n",
    "print(\"Max Exx ni: {0:.2f}%\".format(np.max(DicMap2.crop(DicMap2.f11))*100))\n",
    "\n",
    "print(\"Max shear irr: {0:.2f}%\".format(np.max(DicMap.crop(DicMap.max_shear))*100))\n",
    "print(\"Max shear ni: {0:.2f}%\".format(np.max(DicMap2.crop(DicMap2.max_shear))*100))\n",
    "\n",
    "print(\"Min shear irr: {0:.2f}%\".format(np.min(DicMap.crop(DicMap.max_shear))*100))\n",
    "print(\"Min shear ni: {0:.2f}%\".format(np.min(DicMap2.crop(DicMap2.max_shear))*100))\n",
    "\n",
    "print(\"Mean Exx irr: {0:.2f}%\".format(np.mean(DicMap.crop(DicMap.f11))*100))\n",
    "print(\"Mean Exx ni: {0:.2f}%\".format(np.mean(DicMap2.crop(DicMap2.f11))*100))\n",
    "\n",
    "print(\"Mean shear irr: {0:.2f}%\".format(np.mean(DicMap.crop(DicMap.max_shear))*100))\n",
    "print(\"Mean shear ni: {0:.2f}%\".format(np.mean(DicMap2.crop(DicMap2.max_shear))*100))\n",
    "\n",
    "print(np.percentile(DicMap.crop(DicMap.max_shear)*100,99.9))\n",
    "print(np.percentile(DicMap2.crop(DicMap2.max_shear)*100,99.9))\n",
    "\n",
    "print(\"Points irr: {0}\".format(len(DicMap.crop(DicMap.max_shear)[0])*len(DicMap.crop(DicMap.max_shear)[1])))\n",
    "print(\"Points ni: {0}\".format(len(DicMap2.crop(DicMap2.max_shear)[0])*len(DicMap2.crop(DicMap2.max_shear)[1])))"
   ]
  },
  {
   "cell_type": "code",
   "execution_count": null,
   "metadata": {
    "collapsed": true
   },
   "outputs": [],
   "source": [
    "irr_crop= DicMap.crop(DicMap.max_shear)\n",
    "irr_crop= DicMap.crop(DicMap.max_shear) / np.mean(DicMap.crop(DicMap.max_shear))\n",
    "ni_crop= DicMap2.crop(DicMap2.max_shear)\n",
    "ni_crop= DicMap2.crop(DicMap2.max_shear) / np.mean(DicMap2.crop(DicMap2.max_shear))\n",
    "\n",
    "hist, bins = np.histogram(irr_crop, bins=800,range=[0,60],density=True)\n",
    "width = 0.7 * (bins[1] - bins[0])\n",
    "center = (bins[:-1] + bins[1:]) / 2\n",
    "plt.bar(center, hist, align='center', width=width)\n",
    "#plt.show()\n",
    "np.savetxt('irr.csv', (hist), delimiter=',')\n",
    "\n",
    "hist, bins = np.histogram(ni_crop, bins=800,range=[0,60],density=True)\n",
    "width = 0.7 * (bins[1] - bins[0])\n",
    "center = (bins[:-1] + bins[1:]) / 2\n",
    "plt.bar(center, hist, align='center', width=width)\n",
    "#plt.show()\n",
    "np.savetxt('nonirr.csv', (hist), delimiter='\\n')"
   ]
  },
  {
   "cell_type": "code",
   "execution_count": null,
   "metadata": {
    "collapsed": true
   },
   "outputs": [],
   "source": [
    "gs = gridspec.GridSpec(1, 3)\n",
    "ax0=plt.subplot(gs[0])\n",
    "ax1=plt.subplot(gs[1],sharex=ax0,sharey=ax0)\n",
    "ax2=plt.subplot(gs[2],sharex=ax0,sharey=ax0)\n",
    "ax0.imshow(DicMap.crop(DicMap.max_shear),vmax=0.1)\n",
    "ax1.imshow(DicMap.crop(DicMap.x_map),vmax=0.01)\n",
    "ax2.imshow(DicMap.crop(DicMap.y_map),vmax=0.01)"
   ]
  },
  {
   "cell_type": "code",
   "execution_count": null,
   "metadata": {
    "collapsed": true
   },
   "outputs": [],
   "source": [
    "gb_binary=(DicMap.boundaries<0)\n",
    "plt.imshow((gb_binary.astype(int)))\n",
    "grain_labels=measure.label(gb_binary)\n",
    "print(grain_labels)"
   ]
  },
  {
   "cell_type": "code",
   "execution_count": 8,
   "metadata": {},
   "outputs": [
    {
     "ename": "IndexError",
     "evalue": "list index out of range",
     "output_type": "error",
     "traceback": [
      "\u001b[0;31m---------------------------------------------------------------------------\u001b[0m",
      "\u001b[0;31mIndexError\u001b[0m                                Traceback (most recent call last)",
      "\u001b[0;32m<ipython-input-8-df264f97790f>\u001b[0m in \u001b[0;36m<module>\u001b[0;34m()\u001b[0m\n\u001b[1;32m      4\u001b[0m \u001b[0;32mfor\u001b[0m \u001b[0mgrainID\u001b[0m \u001b[0;32min\u001b[0m \u001b[0mrange\u001b[0m\u001b[0;34m(\u001b[0m\u001b[0;36m0\u001b[0m\u001b[0;34m,\u001b[0m\u001b[0;36m130\u001b[0m\u001b[0;34m)\u001b[0m\u001b[0;34m:\u001b[0m\u001b[0;34m\u001b[0m\u001b[0m\n\u001b[1;32m      5\u001b[0m \u001b[0;34m\u001b[0m\u001b[0m\n\u001b[0;32m----> 6\u001b[0;31m     \u001b[0mxmiddle\u001b[0m\u001b[0;34m=\u001b[0m\u001b[0;34m(\u001b[0m\u001b[0mDicMap\u001b[0m\u001b[0;34m.\u001b[0m\u001b[0mgrainList\u001b[0m\u001b[0;34m[\u001b[0m\u001b[0mgrainID\u001b[0m\u001b[0;34m]\u001b[0m\u001b[0;34m.\u001b[0m\u001b[0mextremeCoords\u001b[0m\u001b[0;34m[\u001b[0m\u001b[0;36m2\u001b[0m\u001b[0;34m]\u001b[0m\u001b[0;34m+\u001b[0m\u001b[0mDicMap\u001b[0m\u001b[0;34m.\u001b[0m\u001b[0mgrainList\u001b[0m\u001b[0;34m[\u001b[0m\u001b[0mgrainID\u001b[0m\u001b[0;34m]\u001b[0m\u001b[0;34m.\u001b[0m\u001b[0mextremeCoords\u001b[0m\u001b[0;34m[\u001b[0m\u001b[0;36m0\u001b[0m\u001b[0;34m]\u001b[0m\u001b[0;34m)\u001b[0m\u001b[0;34m/\u001b[0m\u001b[0;36m2\u001b[0m\u001b[0;34m\u001b[0m\u001b[0m\n\u001b[0m\u001b[1;32m      7\u001b[0m     \u001b[0mymiddle\u001b[0m\u001b[0;34m=\u001b[0m\u001b[0;34m(\u001b[0m\u001b[0mDicMap\u001b[0m\u001b[0;34m.\u001b[0m\u001b[0mgrainList\u001b[0m\u001b[0;34m[\u001b[0m\u001b[0mgrainID\u001b[0m\u001b[0;34m]\u001b[0m\u001b[0;34m.\u001b[0m\u001b[0mextremeCoords\u001b[0m\u001b[0;34m[\u001b[0m\u001b[0;36m3\u001b[0m\u001b[0;34m]\u001b[0m\u001b[0;34m+\u001b[0m\u001b[0mDicMap\u001b[0m\u001b[0;34m.\u001b[0m\u001b[0mgrainList\u001b[0m\u001b[0;34m[\u001b[0m\u001b[0mgrainID\u001b[0m\u001b[0;34m]\u001b[0m\u001b[0;34m.\u001b[0m\u001b[0mextremeCoords\u001b[0m\u001b[0;34m[\u001b[0m\u001b[0;36m1\u001b[0m\u001b[0;34m]\u001b[0m\u001b[0;34m)\u001b[0m\u001b[0;34m/\u001b[0m\u001b[0;36m2\u001b[0m\u001b[0;34m\u001b[0m\u001b[0m\n\u001b[1;32m      8\u001b[0m     \u001b[0max\u001b[0m\u001b[0;34m.\u001b[0m\u001b[0mtext\u001b[0m\u001b[0;34m(\u001b[0m\u001b[0mxmiddle\u001b[0m\u001b[0;34m,\u001b[0m \u001b[0mymiddle\u001b[0m\u001b[0;34m,\u001b[0m \u001b[0mgrainID\u001b[0m\u001b[0;34m,\u001b[0m\u001b[0mfontsize\u001b[0m\u001b[0;34m=\u001b[0m\u001b[0;36m10\u001b[0m\u001b[0;34m)\u001b[0m\u001b[0;34m\u001b[0m\u001b[0m\n",
      "\u001b[0;31mIndexError\u001b[0m: list index out of range"
     ]
    }
   ],
   "source": [
    "fig,ax= plt.subplots()\n",
    "ax.imshow(DicMap.boundaries)\n",
    "\n",
    "for grainID in range(0,130):\n",
    "    \n",
    "    xmiddle=(DicMap.grainList[grainID].extremeCoords[2]+DicMap.grainList[grainID].extremeCoords[0])/2\n",
    "    ymiddle=(DicMap.grainList[grainID].extremeCoords[3]+DicMap.grainList[grainID].extremeCoords[1])/2\n",
    "    ax.text(xmiddle, ymiddle, grainID,fontsize=10)"
   ]
  },
  {
   "cell_type": "markdown",
   "metadata": {
    "heading_collapsed": true
   },
   "source": [
    "### RDR Calculation"
   ]
  },
  {
   "cell_type": "code",
   "execution_count": null,
   "metadata": {
    "collapsed": true,
    "hidden": true,
    "scrolled": true
   },
   "outputs": [],
   "source": [
    "import matplotlib as mpl\n",
    "from skimage import morphology as mph\n",
    "bigulist=[]\n",
    "bigvlist=[]\n",
    "biggradlist=[]\n",
    "bigrsquaredlist=[]\n",
    "\n",
    "#Define the lines (x0,y0)->(x1,y1)\n",
    "#x0=np.array([338,321,314,350,357,308,327])\n",
    "#y0=np.array([87,96,110,82,77,120,152])\n",
    "#x1=np.array([423,414,397,427,428,385,361])\n",
    "#y1=np.array([162,177,184,150,138,187,180])\n",
    "#x0-=5\n",
    "#y0-=5\n",
    "#x1+=5\n",
    "#y1+=5\n",
    "\n",
    "#x0=np.array([18,97,82])\n",
    "#y0=np.array([902,883,967])\n",
    "#x1=np.array([220,245,235])\n",
    "#y1=np.array([706,734,819])\n",
    "\n",
    "x0=np.array([951,1006,1036])\n",
    "y0=np.array([100,118,168])\n",
    "x1=np.array([939,991,1027])\n",
    "y1=np.array([127,143,187])\n",
    "\n",
    "minx=np.amin([x0,x1])\n",
    "minx-=50\n",
    "maxx=np.amax([x0,x1])\n",
    "maxx+=50\n",
    "miny=np.amin([y0,y1])\n",
    "miny-=50\n",
    "maxy=np.amax([y0,y1])\n",
    "maxy+=50\n",
    "\n",
    "gs = gridspec.GridSpec(1, 3)\n",
    "ax0=plt.subplot(gs[0])\n",
    "ax1=plt.subplot(gs[1])\n",
    "\n",
    "ax0.imshow(DicMap.crop(DicMap.max_shear),vmax=0.1,cmap='viridis')\n",
    "#ax0.plot(x,y,'-')\n",
    "ax0.set_title('Effective shear strain')\n",
    "ax0.set_xlim(minx,maxx)\n",
    "ax0.set_ylim(maxy,miny)\n",
    "scalebar = ScaleBar(pixelinm) # 1 pixel = 0.2 meter\n",
    "ax0.add_artist(scalebar)\n",
    "cmap1 = mpl.colors.LinearSegmentedColormap.from_list('my_cmap', ['white', 'white'], 256)\n",
    "cmap1._init()\n",
    "cmap1._lut[:, -1] = np.linspace(0, 1, cmap1.N + 3)\n",
    "boundariesImage = -DicMap.boundaries\n",
    "boundariesImage = mph.binary_dilation(boundariesImage)\n",
    "ax0.imshow(boundariesImage, cmap=cmap1, vmin=0, vmax=1)\n",
    "\n",
    "for x0,y0,x1,y1 in zip(x0,y0,x1,y1):\n",
    "    grad=(y1-y0)/(x1-x0)\n",
    "    pergrad=-1/grad\n",
    "    profile_length=np.sqrt((y1-y0)**2+(x1-x0)**2)\n",
    "    num = np.round(1+profile_length/np.sqrt(grad**2+1))\n",
    "    x, y = np.linspace(x0, x1, num), np.linspace(y0, y1, num)\n",
    "    x=np.round(x)\n",
    "    y=np.round(y)\n",
    "\n",
    "    for i,j in zip(x,y):\n",
    "        x0new=i+np.sqrt(8/(pergrad**2+1))*np.sign(grad)\n",
    "        y0new=j-np.sqrt(8/(1/pergrad**2+1))\n",
    "        x1new=i-np.sqrt(8/(pergrad**2+1))*np.sign(grad)\n",
    "        y1new=j+np.sqrt(8/(1/pergrad**2+1))\n",
    "        profile_length=np.sqrt((y1new-y0new)**2+(x1new-x0new)**2)\n",
    "        num = np.round(profile_length)\n",
    "        xnew, ynew = np.linspace(x0new, x1new, num), np.linspace(y0new, y1new, num)\n",
    "        xnew=np.round(xnew)\n",
    "        ynew=np.round(ynew)\n",
    "        ax0.plot(xnew,ynew, '-',lw=2)\n",
    "        ulist=[]\n",
    "        vlist=[]\n",
    "        for xnew,ynew in zip(xnew,ynew):\n",
    "            xnew.astype(int)\n",
    "            ynew.astype(int)\n",
    "            ulist.append(DicMap.crop(DicMap.x_map)[np.int_(xnew),np.int_(ynew)])\n",
    "            vlist.append(DicMap.crop(DicMap.y_map)[np.int_(xnew),np.int_(ynew)])\n",
    "        ulistav=np.mean(ulist)\n",
    "        vlistav=np.mean(vlist)\n",
    "        ulist-=ulistav\n",
    "        vlist-=vlistav\n",
    "        #plt.plot(ylist,xlist)\n",
    "        slope, intercept, r_value, p_value, std_err = scipy.stats.linregress(vlist,ulist)\n",
    "        if r_value**2>0.8:\n",
    "            bigulist.extend(ulist)\n",
    "            bigvlist.extend(vlist)\n",
    "            biggradlist.append(slope)\n",
    "            bigrsquaredlist.append(r_value**2)\n",
    "    ax0.plot([x0, x1], [y0, y1], 'rx-',lw=2)\n",
    "    \n",
    "slope, intercept, r_value, p_value, std_err = scipy.stats.linregress(bigvlist,bigulist)\n",
    "\n",
    "ax1.scatter(bigvlist,bigulist,marker='x')\n",
    "minx=np.min(bigvlist)\n",
    "maxx=np.max(bigvlist)\n",
    "miny=slope*minx+intercept\n",
    "maxy=slope*maxx+intercept\n",
    "ax1.plot([minx, maxx],[miny,maxy], '-')\n",
    "ax1.set_xlabel('v-centered')\n",
    "ax1.set_ylabel('u-centered')\n",
    "print(\"Slope = {0:.3f} +- {1:.3f}\".format(slope,std_err))\n",
    "print(\"R-squared = {0:.3f}\".format(r_value**2))\n",
    "ax2=plt.subplot(gs[2])\n",
    "ax2.plot(np.arange(len(biggradlist)),biggradlist)\n",
    "#ax2.scatter(biggradlist,bigrsquaredlist)\n",
    "\n",
    "print(np.average(biggradlist))\n",
    "print(np.std(biggradlist)/np.sqrt(len(biggradlist)))\n"
   ]
  },
  {
   "cell_type": "markdown",
   "metadata": {},
   "source": [
    "### Locate a grain of interest"
   ]
  },
  {
   "cell_type": "code",
   "execution_count": null,
   "metadata": {
    "collapsed": true
   },
   "outputs": [],
   "source": [
    "DicMap.locateGrainID(displaySelected=True, vmax=10)\n",
    "maxStrain = np.max(DicMap.max_shear)\n",
    "print(\"Max effective shear strain: {0:.3f} %\\n\".format(maxStrain))"
   ]
  },
  {
   "cell_type": "code",
   "execution_count": null,
   "metadata": {
    "collapsed": true
   },
   "outputs": [],
   "source": [
    "DicMap2.grainList[DicMap2.currGrainId].plotMaxShear(vmax=10)"
   ]
  },
  {
   "cell_type": "code",
   "execution_count": null,
   "metadata": {
    "collapsed": true
   },
   "outputs": [],
   "source": [
    "DicMap2.grainList[DicMap2.currGrainId].ebsdGrain.plotMisOri(vmax=5)"
   ]
  },
  {
   "cell_type": "code",
   "execution_count": null,
   "metadata": {
    "collapsed": true
   },
   "outputs": [],
   "source": [
    "plt.hist([142.17,141.25,139.54,66.6,133.47,46.65,137.14,69.6,49.3,41.11,47.38,121.48,57.29,138.75,133.04,69.4,34.63,138.03,140.71,93,68.52,35.61, 59.46,65.63,128.387,58.7,57.46,67.82,121.68,133.83,47.09,121.52,124.29,137,132.72,47.19,136.29,56.71,37.04,44.09,135.32,52.96,55.96,129.47,30.22,45.67,48.6,141.42,50.45,143.11,125.84,130.39,56.72,53.5,129.07,143.87,58.41,38.02,72.93,119.45,55.33,49.53,49.82,131.17,141.66,143.04],bins=18,range=[0,180])"
   ]
  },
  {
   "cell_type": "markdown",
   "metadata": {
    "heading_collapsed": true
   },
   "source": [
    "### Grain info"
   ]
  },
  {
   "cell_type": "code",
   "execution_count": null,
   "metadata": {
    "collapsed": true,
    "hidden": true
   },
   "outputs": [],
   "source": [
    "from builtins import print\n",
    "Grain=DicMap.grainList[DicMap.currGrainId]\n",
    "ebsdGrain = Grain.ebsdGrain\n",
    "\n",
    "print(\"Area: {} px^2\".format(len(ebsdGrain)*0.25))\n",
    "print(\"width: {0}\".format(Grain.extremeCoords[2]-Grain.extremeCoords[0]))\n",
    "print(\"height: {0}\".format(Grain.extremeCoords[3]-Grain.extremeCoords[1]))\n",
    "minStrain = np.min(Grain.maxShearList)*100\n",
    "meanStrain = np.mean(Grain.maxShearList)*100\n",
    "maxStrain = np.max(Grain.maxShearList)*100\n",
    "print(\"Min effective shear strain: {0:.3f} %\".format(minStrain))\n",
    "print(\"Mean effective shear strain: {0:.3f} %\".format(meanStrain))\n",
    "print(\"Max effective shear strain: {0:.3f} %\\n\".format(maxStrain))\n",
    "\n",
    "ebsdGrain.calcAverageSchmidFactors(loadVector=np.array([1, 0, 0]))\n",
    "ebsdGrain.calcSlipTraces()\n",
    "print(\"Euler angles: \")\n",
    "#print(\"\",ebsdGrain.refOri.eulerAngles()*180/np.pi, \"\\n\")\n",
    "\n",
    "angle=ebsdGrain.refOri.eulerAngles()[1]*180/np.pi\n",
    "\n",
    "if ebsdGrain.refOri.eulerAngles()[1]*180/np.pi > 90:\n",
    "    angle=180-angle\n",
    "\n",
    "print(\"Angle from c-axis?: {0:.1f} degrees\\n\".format(angle))\n",
    "\n",
    "schdFacs = ebsdGrain.averageSchmidFactors\n",
    "slipTraces = ebsdGrain.slipTraces\n",
    "for ssGroup, sfGroup, slipTrace in zip(EbsdMap.slipSystems, schdFacs, slipTraces):\n",
    "    stAngle = np.arctan(slipTrace[1]/slipTrace[0]) *180/np.pi\n",
    "    if stAngle < 0: stAngle += 180\n",
    "    if stAngle > 180: stAngle -= 180\n",
    "    print(\"Slip Plane Normal {0:s}\\tSlip trace: ({1:.3f}, {2:.3f})\\tAngle: {3:.1f}\".\n",
    "          format(ssGroup[0].slipPlaneLabel, slipTrace[0], slipTrace[1], stAngle))\n",
    "    for ss, sf in zip(ssGroup, sfGroup):\n",
    "        slipDirSample=ebsdGrain.refOri.conjugate.transformVector(ss.slipDir)\n",
    "        print(\"\\tSlip Direction {0:s}\\tSchmid factor: {1:.3f}\\tRDR: {2:.3f}\".\n",
    "              format(ss.slipDirLabel, sf,slipDirSample[0]/slipDirSample[1]))\n",
    "        "
   ]
  },
  {
   "cell_type": "markdown",
   "metadata": {
    "heading_collapsed": true
   },
   "source": [
    "### Grain Stats"
   ]
  },
  {
   "cell_type": "code",
   "execution_count": null,
   "metadata": {
    "collapsed": true,
    "hidden": true
   },
   "outputs": [],
   "source": [
    "from builtins import print\n",
    "print(\"GrainID\\tArea\\t<ESS>\\tEuler1\\tEuler2\\tEuler3\\tAngC\\tMaxESS\\tMinESS\")\n",
    "print(\"\\t(px^2)\\t(%)\\t(deg)\\t(deg)\\t(deg)\\t(deg)\\t(%)\\t(%)\")\n",
    "meanStrains=[]\n",
    "angC=[]\n",
    "maxStrains=[]\n",
    "minStrains=[]\n",
    "errors=[0,0]\n",
    "maxschmidlist=[]\n",
    "\n",
    "SelDicMap=DicMap\n",
    "\n",
    "for x in range(0,len(SelDicMap.grainList)):\n",
    "     \n",
    "    ebsdGrain = SelDicMap[x].ebsdGrain\n",
    "    meanStrain = np.mean(SelDicMap.grainList[x].maxShearList)*100\n",
    "    maxStrain = np.max(SelDicMap.grainList[x].maxShearList)*100\n",
    "    minStrain = np.min(SelDicMap.grainList[x].maxShearList)*100\n",
    "    ebsdGrain.calcAverageSchmidFactors(loadVector=np.array([1, 0, 0]))\n",
    "    ebsdGrain.calcSlipTraces()\n",
    "    Euler1=ebsdGrain.refOri.eulerAngles()[0]*180/np.pi\n",
    "    Euler2=ebsdGrain.refOri.eulerAngles()[1]*180/np.pi\n",
    "    Euler3=ebsdGrain.refOri.eulerAngles()[2]*180/np.pi\n",
    "    angle=ebsdGrain.refOri.eulerAngles()[1]*180/np.pi\n",
    "    meanStrains.append(meanStrain)\n",
    "    maxStrains.append(maxStrain)\n",
    "    minStrains.append(minStrain)\n",
    "    if angle > 90:\n",
    "        angle=180-angle\n",
    "    angC.append(angle)\n",
    "    prismschmid=np.max((ebsdGrain.averageSchmidFactors[1],ebsdGrain.averageSchmidFactors[2],ebsdGrain.averageSchmidFactors[3]))\n",
    "    #prismschmid=ebsdGrain.averageSchmidFactors[0]\n",
    "    maxschmidlist.append(prismschmid)\n",
    "    \n",
    "    print(\"{0}\\t{1:.2f}\\t{2:.2f}\\t{3:.2f}\\t{4:.2f}\\t{5:.2f}\\t{6:.2f}\\t{7:.2f}\\t{8:.2f}\\t{9:.3f}\\t\".format(x,len(ebsdGrain)*0.25,meanStrain,Euler1,Euler2,Euler3,angle,maxStrain,minStrain,prismschmid))\n",
    "  \n",
    "lowe=[i - j for i, j in zip(meanStrains, minStrains)]\n",
    "highe=[k - l for k, l in zip(maxStrains, meanStrains)]\n",
    "errors[0]=lowe\n",
    "errors[1]=highe\n",
    "#fig=plt.errorbar(angC,meanStrains,yerr=errors, marker='x',linestyle=\"None\",capsize=5)\n",
    "#plt.scatter(angC,[k / l for k, l in zip(maxStrains, meanStrains)])\n",
    "plt.show()\n",
    "plt.hist(maxschmidlist)\n",
    "#prism ni 0.457 i 0.455\n",
    "#basal ni 0.161 i 0.174\n",
    "print(np.mean(maxschmidlist))"
   ]
  },
  {
   "cell_type": "markdown",
   "metadata": {
    "heading_collapsed": true
   },
   "source": [
    "### Grain profile"
   ]
  },
  {
   "cell_type": "code",
   "execution_count": null,
   "metadata": {
    "collapsed": true,
    "hidden": true
   },
   "outputs": [],
   "source": [
    "def plot_profile(def_map,start_point,end_point):\n",
    "    x0,y0  = start_point[0], start_point[1] # These are in _pixel_ coordinates!!\n",
    "    x1,y1 = end_point[0], end_point[1]\n",
    "    profile_length=np.sqrt((y1-y0)**2+(x1-x0)**2)\n",
    "    num = np.round(profile_length)\n",
    "    x, y = np.linspace(x0, x1, num), np.linspace(y0, y1, num)\n",
    "\n",
    "    # Extract the values along the line, using cubic interpolation\\n\",\n",
    "    zi = scipy.ndimage.map_coordinates(np.transpose(def_map), np.vstack((x,y)))\n",
    "    return zi"
   ]
  },
  {
   "cell_type": "code",
   "execution_count": null,
   "metadata": {
    "collapsed": true,
    "hidden": true
   },
   "outputs": [],
   "source": [
    "Grain=DicMap2.grainList[DicMap2.currGrainId]\n",
    "unzippedCoordlist = list(zip(*Grain.coordList))\n",
    "x0 = min(unzippedCoordlist[0])\n",
    "y0 = min(unzippedCoordlist[1])\n",
    "xmax = max(unzippedCoordlist[0])\n",
    "ymax = max(unzippedCoordlist[1])\n",
    "grainMaxShear = np.full((ymax - y0 + 1, xmax - x0 + 1), 0, dtype=float)\n",
    "\n",
    "\n",
    "for coord, maxShear in zip(Grain.coordList, Grain.maxShearList):\n",
    "    grainMaxShear[coord[1] - y0, coord[0] - x0] = maxShear\n",
    "    \n",
    "plt.imshow(grainMaxShear)\n",
    "\n",
    "point1=[35,35]\n",
    "point2=[230,150]\n",
    "\n",
    "plt.scatter(35,35)\n",
    "plt.scatter(230,150)\n",
    "\n",
    "corr_profile2=plot_profile(grainMaxShear,point1,point2)\n",
    "\n",
    "#fig2=plt.scatter(range(len(corr_profile2)),corr_profile2,linestyle='-')\n",
    "\n",
    "#f=open('/Users/mbcx9rt5/Dropbox (Research Group)/python/corr_profile.txt', 'wb')\n",
    "np.savetxt('corr_profile.txt',corr_profile2,fmt='%.6f')\n",
    "#f.close()"
   ]
  },
  {
   "cell_type": "code",
   "execution_count": null,
   "metadata": {
    "collapsed": true,
    "hidden": true
   },
   "outputs": [],
   "source": [
    "Grain=DicMap.grainList[DicMap.currGrainId]\n",
    "unzippedCoordlist = list(zip(*Grain.coordList))\n",
    "x0 = min(unzippedCoordlist[0])\n",
    "y0 = min(unzippedCoordlist[1])\n",
    "xmax = max(unzippedCoordlist[0])\n",
    "ymax = max(unzippedCoordlist[1])\n",
    "grainMaxShear = np.full((ymax - y0 + 1, xmax - x0 + 1), 0, dtype=float)\n",
    "\n",
    "for coord, maxShear in zip(Grain.coordList, Grain.maxShearList):\n",
    "    grainMaxShear[coord[1] - y0, coord[0] - x0] = maxShear\n",
    "\n",
    "print(grainMaxShear)\n",
    "    \n",
    "corr_profile2=plot_profile(grainMaxShear,[90,90],[260,260])\n",
    "\n",
    "#f=open('/Users/mbcx9rt5/Dropbox (Research Group)/python/corr_profile.txt', 'wb')\n",
    "np.savetxt('corr_profile2.txt',corr_profile2,fmt='%.6f')\n",
    "#f.close()"
   ]
  },
  {
   "cell_type": "code",
   "execution_count": null,
   "metadata": {
    "collapsed": true,
    "hidden": true
   },
   "outputs": [],
   "source": [
    "newvalues = [x for x in DicMap2.grainList[DicMap2.currGrainId].maxShearList if x != 0]\n",
    "\n",
    "hist, bins = np.histogram(newvalues, bins=800,range=[0,0.6],density=True)\n",
    "#hist=np.log10(hist*100)\n",
    "width = 0.7 * (bins[1] - bins[0])\n",
    "center = (bins[:-1] + bins[1:]) / 2\n",
    "plt.bar(center, hist, align='center', width=width)\n",
    "np.savetxt('grainnirr.csv', (hist), delimiter=',')"
   ]
  },
  {
   "cell_type": "markdown",
   "metadata": {
    "heading_collapsed": true
   },
   "source": [
    "### Grain info"
   ]
  },
  {
   "cell_type": "code",
   "execution_count": null,
   "metadata": {
    "collapsed": true,
    "hidden": true
   },
   "outputs": [],
   "source": [
    "#Calculate FWHM given peak positions (indexes) and array (x,y) \n",
    "def FWHM(indexes, Xorig,Yori):\n",
    "    fwhmList=[]   #Define empty array for resulting FWHMs\n",
    "    indexes+=20\n",
    "    Xorig=np.arange(220)\n",
    "    Yorig=np.concatenate((Yori[160:180],Yori,Yori[0:20]))\n",
    "    \n",
    "    for indexes in indexes:\n",
    "        X=Xorig[indexes-18:indexes+18]\n",
    "        Y=Yorig[indexes-18:indexes+18]\n",
    "        half_max = max(Y) / 2.\n",
    "        #find when function crosses line half_max (when sign of diff flips)\n",
    "        #take the 'derivative' of signum(half_max - Y[])\n",
    "        d = np.sign(half_max - np.array(Y[0:-1])) - np.sign(half_max - np.array(Y[1:]))\n",
    "        #plot(X,d) #if you are interested\n",
    "        #find the left and right most indexes\n",
    "        left_idx = X[np.where( d > 0.1 )]\n",
    "        right_idx = X[np.where( d < -0.1 )]\n",
    "        FWHM=0\n",
    "        if len(right_idx)==1 and len(left_idx)==1:\n",
    "            FWHM=right_idx - left_idx #return the difference (full width)\n",
    "        fwhmList.append(np.int(FWHM))\n",
    "    fwhmList=np.asarray(fwhmList)\n",
    "    return fwhmList"
   ]
  },
  {
   "cell_type": "code",
   "execution_count": null,
   "metadata": {
    "collapsed": true,
    "hidden": true,
    "scrolled": false
   },
   "outputs": [],
   "source": [
    "SelDicMap=DicMap2\n",
    "\n",
    "for grainID in range (99,100):\n",
    "    ebsdGrain = SelDicMap[grainID].ebsdGrain\n",
    "    minStrain = np.min(SelDicMap.grainList[grainID].maxShearList)*100\n",
    "    meanStrain = np.mean(SelDicMap.grainList[grainID].maxShearList)*100\n",
    "    maxStrain = np.max(SelDicMap.grainList[grainID].maxShearList)*100\n",
    "    medianStrain = np.median(SelDicMap.grainList[grainID].maxShearList)*100\n",
    "    ebsdGrain.calcAverageSchmidFactors(loadVector=np.array([1, 0, 0]))\n",
    "    ebsdGrain.calcSlipTraces()\n",
    "    np.set_printoptions(precision=3)\n",
    "##### GENERATE MAX SHEARS\n",
    "    x0, y0, xmax, ymax = SelDicMap[grainID].extremeCoords\n",
    "    grainMaxShear = np.full((ymax - y0 + 1, xmax - x0 + 1), np.nan, dtype=float)\n",
    "    for coord, maxShear in zip(SelDicMap.grainList[grainID].coordList, SelDicMap.grainList[grainID].maxShearList):\n",
    "        grainMaxShear[coord[1] - y0, coord[0] - x0] = maxShear\n",
    "##### WRITE TEXT  \n",
    "        B = []\n",
    "    def print(str):\n",
    "        global B\n",
    "        B.append(str)\n",
    "    #from builtins import print\n",
    "    print(\"Grain ID: {0:.0f}\".format(grainID))\n",
    "    print(\"Area: {} um^2\".format(len(SelDicMap.grainList[grainID].coordList)*0.006103515625))\n",
    "    print(\"Min effective shear strain: {0:.3f} %\".format(minStrain))\n",
    "    print(\"Mean effective shear strain: {0:.3f} %\".format(meanStrain))\n",
    "    print(\"Max effective shear strain: {0:.3f} %\".format(maxStrain))\n",
    "    print(\"Median effective shear strain: {0:.3f} %\\n\".format(medianStrain))\n",
    "    print(ebsdGrain.refOri.eulerAngles()*180/np.pi)\n",
    "    angle=ebsdGrain.refOri.eulerAngles()[1]*180/np.pi\n",
    "    if ebsdGrain.refOri.eulerAngles()[1]*180/np.pi > 90:\n",
    "        angle=180-angle\n",
    "    print(\"Angle from c-axis?: {0:.1f} degrees\\n\".format(angle))\n",
    "##### SHOW MAX SHEAR\n",
    "    fig, ((ax0, ax1, ax2, ax3), (ax4, ax5, ax6, ax7)) = plt.subplots(2, 4, figsize=(20, 10))\n",
    "    im=ax1.imshow(grainMaxShear,cmap='viridis',vmin=0,vmax=0.1)\n",
    "    fig.colorbar(im, ax=ax1,label=\"Effective shear strain (%)\")\n",
    "    scalebar = ScaleBar(pixelinm) # 1 pixel = 0.2 meter\n",
    "    ax1.add_artist(scalebar)\n",
    "    ax1.axis('off')\n",
    "##### CALCULATE RADON\n",
    "    grainMaxShear[np.isnan(grainMaxShear)]=0\n",
    "    sin_map = tf.radon(grainMaxShear,circle=False,theta=list(range(90,180)) + list(range(90)))\n",
    "    profile = np.max(sin_map, axis=0)\n",
    "    x = np.arange(180)\n",
    "    y = profile\n",
    "    base = peakutils.baseline(y, 2)\n",
    "    y=y-base\n",
    "    indexes = peakutils.indexes(y, thres=0.2, min_dist=20)\n",
    "    peaks = peakutils.interpolate(x, y, ind=indexes)\n",
    "    shearBandAngles = peaks\n",
    "    breadths=FWHM(indexes,x,y)\n",
    "    for ID in range(0,len(shearBandAngles)):\n",
    "        if shearBandAngles[ID] > 180:\n",
    "            shearBandAngles[ID]-=180\n",
    "    print(\"Angles detected: {}\".format(shearBandAngles))\n",
    "    print(\"FWHMs: {}\".format(breadths))\n",
    "###### CALCULATE SLIP TRACE ANGLES\n",
    "    schdFacs = ebsdGrain.averageSchmidFactors\n",
    "    slipTraces = ebsdGrain.slipTraces\n",
    "    for ssGroup, sfGroup, slipTrace in zip(EbsdMap.slipSystems, schdFacs, slipTraces):\n",
    "        stAngle = np.arctan(slipTrace[1]/slipTrace[0]) *180/np.pi\n",
    "        stAngle += 2\n",
    "        if stAngle < 0: stAngle += 180\n",
    "        if stAngle > 180: stAngle -= 180\n",
    "        print(\"{0:s}     Angle: {1:.1f}\".\n",
    "              format(ssGroup[0].slipPlaneLabel, stAngle))\n",
    "        for ss, sf in zip(ssGroup, sfGroup):\n",
    "            print(\"{0:s}     {1:.3f}\".format(ss.slipDirLabel, sf))\n",
    "\n",
    "    colours = [\"red\", \"blue\", \"blue\", \"blue\", \"green\", \"green\", \"green\", \"green\", \"green\", \"green\"]\n",
    "    xPos = int((xmax - x0) / 2)\n",
    "    yPos = int((ymax - y0) / 2)\n",
    "##### GENERATE FIGURES\n",
    "    ax2.axis('off')\n",
    "    ax3.axis('off')\n",
    "    ax0.imshow(sin_map)\n",
    "    ax4.plot(x,y)\n",
    "    for xc in peaks:\n",
    "        ax4.axvline(x=xc)\n",
    "##### PLOTTING RADON AND FWHM\n",
    "    plotRadon='False'\n",
    "    if plotRadon=='True':\n",
    "        shearBandAngles = -(180-shearBandAngles) * np.pi / 180\n",
    "        breadths = -breadths * np.pi / 180\n",
    "        shearBandVectors = np.array((np.cos(shearBandAngles), np.sin(shearBandAngles)))\n",
    "        ax3.quiver(xPos, yPos, shearBandVectors[0], shearBandVectors[1], scale=0.9, pivot=\"middle\",\n",
    "                           color='orange', headwidth=1, headlength=0)\n",
    "        fwhmAngles = []\n",
    "        for breadth, angle in zip(breadths, shearBandAngles):\n",
    "            fwhmAngles.append(angle+(breadth/2))\n",
    "            fwhmAngles.append(angle-(breadth/2))\n",
    "        fwhmVectors = np.array((np.cos(fwhmAngles), np.sin(fwhmAngles)))\n",
    "        ax3.quiver(xPos, yPos, fwhmVectors[0], fwhmVectors[1], scale=0.9, pivot=\"middle\",\n",
    "                           color='orange', headwidth=1, headlength=0)\n",
    "###### PLOT SLIP TRACE ANGLES\n",
    "    for i, slipTrace in enumerate(slipTraces):\n",
    "        colour = colours[len(colours) - 1] if i >= len(colours) else colours[i]\n",
    "        ax3.quiver(xPos, yPos, slipTrace[0], slipTrace[1], scale=1, pivot=\"middle\",\n",
    "                              color=colour, headwidth=1, headlength=0)\n",
    "###### MAKE HISTOGRAM\n",
    "    newvalues = [x for x in SelDicMap.grainList[grainID].maxShearList if x != 0]\n",
    "    hist, bins = np.histogram(newvalues, bins=800,range=[0,0.6],density=True)\n",
    "    #hist=np.log10(hist*100)\n",
    "    width = 0.7 * (bins[1] - bins[0])\n",
    "    center = (bins[:-1] + bins[1:]) / 2\n",
    "    ax7.plot(center, hist, marker='x',color='b',linestyle='none')\n",
    "    #align='center', width=width\n",
    "    ax7.set_xscale(\"log\", nonposx='clip')\n",
    "    ax7.set_yscale(\"log\", nonposy='clip')\n",
    "    #f=open('/Users/mbcx9rt5/Dropbox (Research Group)/python/grain_freq_profile.txt', 'wb')\n",
    "    #combined = np.vstack((x,y)).T\n",
    "    #np.savetxt(f,combined,delimiter=\" \", fmt=\"%s\")\n",
    "    #f.close()\n",
    "###### SHOW TEXT   \n",
    "    plt.text(0.5, 0.5,'\\n'.join([ str(myelement) for myelement in B ]), horizontalalignment='center',verticalalignment='center',transform=ax2.transAxes,fontsize=6)\n",
    "    plt.tight_layout(pad=0)\n",
    "    from builtins import print\n",
    "    #print ('\\n'.join([ str(myelement) for myelement in B ]))\n",
    "    #print ('\\n')\n",
    "    #print(\"\\n\")"
   ]
  },
  {
   "cell_type": "markdown",
   "metadata": {},
   "source": [
    "### Detect slip system"
   ]
  },
  {
   "cell_type": "code",
   "execution_count": 46,
   "metadata": {},
   "outputs": [
    {
     "name": "stdout",
     "output_type": "stream",
     "text": [
      "Prismatic: 27 (81.8%) / Pyramidal: 6 (18.2%)\n",
      "One solution: 33 / No solution: 6 / Multiple: 36 / Total: 75\n",
      "0.360423091959\n"
     ]
    }
   ],
   "source": [
    "ID=[0,1,14,11,9,18,19,22,23,24,26,27,27,30,32,36,38,37,40,40,39,42,44,44,46,48,48,52,52,55,57,60,60,61,61,63,64,66,70,69,71,71,72,72,73,74,75,77,78,79,82,82,83,84,86,85,87,88,89,91,93,92,95,96,100,101,103,104,105,106,107,107,108,111,113]\n",
    "DetAngles=[66.6,139.54,141.25,142.17,49.3,69.6,137.14,46.65,133.47,138.75,57.29,121.48,61.02,47.38,41.11,93,140.71,138.03,34.63,149.94,69.4,133.04,65.63,108.79,59.46,35.61,140.55,68.52,120.35,133.83,67.82,57.46,42.59,58.7,118.09,128.387,136.29,47.19,132.72,137,124.29,68.47,121.52,57.26,47.09,129.47,55.96,52.96,135.32,44.09,37.04,151.96,56.71,130.39,125.84,143.11,50.45,141.42,48.6,45.67,58.41,143.87,129.07,53.5,56.72,141.66,131.17,49.82,49.53,55.33,119.45,59.17,72.93,38.02,143.04]\n",
    "SelDicMap=DicMap\n",
    "\n",
    "#ID=[2,8,10,11,12,13,21,22,24,25,27,30,36,36,39,41,42,45,47,48,49,52,52,53,54,55,56,57,58,59,60,61,62,66,70,72,75,75,76,78,81,84,93,95,98,98,99,99,103,104,105,109,110,112]\n",
    "#DetAngles=[58.86,150.9,40.1,51.55,139.17,132.75,160,53.27,80.04,134.59,148.31,142.35,35.42,152.84,57.28,126.01,44.15,120.89,123.87,121.69,74.34,32.94,151.83,53.17,45.67,51.5,131.95,64.81,119.54,159.72,146,130.51,128.56,145.64,130.18,38.35,116.87,67.55,50.78,53.13,127,131.95,66.05,134.08,59.16,112.88,130.27,69.69,143.31,111.33,124.76,36.87,53.78,50.1]\n",
    "#SelDicMap=DicMap2\n",
    "\n",
    "EbsdMap.calcAverageGrainSchmidFactors()\n",
    "EbsdMap2.calcAverageGrainSchmidFactors()\n",
    "\n",
    "bigdev=[]\n",
    "bigschmid=[]\n",
    "bigsystem=[]\n",
    "bigmean=[]\n",
    "bigmax=[]\n",
    "counter=[0,0,0,0]\n",
    "for i in range (0,len(ID)):\n",
    "    grainID=ID[i]\n",
    "    ebsdGrain = SelDicMap[grainID].ebsdGrain\n",
    "    ebsdGrain.calcSlipTraces()\n",
    "    schdFacs = ebsdGrain.averageSchmidFactors\n",
    "    slipTraces = ebsdGrain.slipTraces\n",
    "    \n",
    "    #print(\"GrainID: {0}\".format(grainID))\n",
    "    #print(DetAngles[grainID])\n",
    "\n",
    "    angles=[]\n",
    "    systems=[]\n",
    "    schmids=[]\n",
    "    detected=[]\n",
    "    dev=[]\n",
    "    \n",
    "    for ssGroup, sfGroup, slipTrace in zip(EbsdMap.slipSystems, schdFacs, slipTraces):\n",
    "        stAngle = np.arctan(slipTrace[1]/slipTrace[0]) *180/np.pi\n",
    "        if stAngle < 0: stAngle += 180\n",
    "        if stAngle > 180: stAngle -= 180\n",
    "        stAngle += 2.6\n",
    "        #print(\"{0:s}     Angle: {1:.1f}\".format(ssGroup[0].slipPlaneLabel, stAngle))\n",
    "        angles.append(stAngle)\n",
    "        systems.append(ssGroup[0].slipPlaneLabel)\n",
    "        for ss, sf in zip(ssGroup, sfGroup):\n",
    "            schmids.append(sf)\n",
    "    systems=['Ba','Pr1','Pr2','Pr3','Py1','Py2','Py3','Py4','Py5','Py6']\n",
    "    \n",
    "    for x in range(0,10):\n",
    "        if angles[x]-5 <= DetAngles[i] <= angles[x]+5:\n",
    "            detected.append(systems[x])\n",
    "            dev.append(DetAngles[i]-angles[x])\n",
    "    if len(dev)==0:\n",
    "        counter[0]+=1\n",
    "    if len(dev)==1:\n",
    "        bigdev.append(dev)\n",
    "        counter[1]+=1\n",
    "        if 'Pr' in detected[0]:\n",
    "            counter[2]+=1\n",
    "            bigsystem.append('Pr')\n",
    "            bigschmid.append(np.max((ebsdGrain.averageSchmidFactors[1],ebsdGrain.averageSchmidFactors[2],ebsdGrain.averageSchmidFactors[3])))\n",
    "            bigmean.append(np.mean(SelDicMap.grainList[i].maxShearList)*100)\n",
    "            bigmax.append(np.max(SelDicMap.grainList[i].maxShearList)*100)\n",
    "        if 'Py' in detected[0]:\n",
    "            counter[3]+=1\n",
    "            bigsystem.append('Py')\n",
    "            bigschmid.append(np.max((ebsdGrain.averageSchmidFactors[4],ebsdGrain.averageSchmidFactors[5],ebsdGrain.averageSchmidFactors[6],ebsdGrain.averageSchmidFactors[7],ebsdGrain.averageSchmidFactors[8])))\n",
    "            bigmean.append(np.mean(SelDicMap.grainList[i].maxShearList)*100)\n",
    "            bigmax.append(np.max(SelDicMap.grainList[i].maxShearList)*100)\n",
    "    #print(detected)\n",
    "    #print(dev)\n",
    "\n",
    "print(\"Prismatic: {0} ({2:.1f}%) / Pyramidal: {1} ({3:.1f}%)\".format(counter[2],counter[3],counter[2]*100/(counter[2]+counter[3]),counter[3]*100/(counter[2]+counter[3])))\n",
    "\n",
    "print(\"One solution: {0} / No solution: {1} / Multiple: {2} / Total: {3}\".format(counter[1],counter[0],len(ID)-counter[1]-counter[0],len(ID)))\n",
    "print(np.mean(bigdev))\n",
    "\n",
    "hist, bins = np.histogram(bigdev, bins=40,range=[-10,10],density=False);\n",
    "width = 0.7 * (bins[1] - bins[0])\n",
    "center = (bins[:-1] + bins[1:]) / 2\n",
    "plt.bar(center, hist, align='center', width=width)\n",
    "\n",
    "hist, bins = np.histogram(bigschmid, bins=40,range=[0,0.5],density=False);\n",
    "width = 0.7 * (bins[1] - bins[0])\n",
    "center = (bins[:-1] + bins[1:]) / 2\n",
    "#plt.bar(center, hist, align='center', width=width)\n",
    "\n",
    "#plt.scatter(bigschmid,bigmax)\n",
    "#plt.xlim(0, 0.5)"
   ]
  },
  {
   "cell_type": "markdown",
   "metadata": {},
   "source": [
    "### Plot profile across max shear map"
   ]
  },
  {
   "cell_type": "code",
   "execution_count": null,
   "metadata": {
    "collapsed": true
   },
   "outputs": [],
   "source": [
    "def plot_profile(def_map,start_point,end_point):\n",
    "    x0,y0  = start_point[0], start_point[1] # These are in _pixel_ coordinates!!\n",
    "    x1,y1 = end_point[0], end_point[1]\n",
    "    profile_length=np.sqrt((y1-y0)**2+(x1-x0)**2)\n",
    "    num = np.round(profile_length)\n",
    "    x, y = np.linspace(x0, x1, num), np.linspace(y0, y1, num)\n",
    "\n",
    "    # Extract the values along the line, using cubic interpolation\n",
    "    zi = scipy.ndimage.map_coordinates(np.transpose(def_map), np.vstack((x,y)))\n",
    "    plt.figure(figsize=(20,6))\n",
    "    gs = gridspec.GridSpec(1, 2, height_ratios=[1]) \n",
    "    ax0=plt.subplot(gs[0])\n",
    "    ax1=plt.subplot(gs[1])\n",
    "    ax0.imshow(def_map,vmin=-0.00,vmax=0.2,interpolation='bilinear',cmap='viridis');\n",
    "    ax0.plot([x0, x1], [y0, y1], 'rx-',lw=2);\n",
    "    ax0.axis('image');\n",
    "    ax1.plot(zi)\n",
    "    ax1.axis('tight')\n",
    "    return zi;"
   ]
  },
  {
   "cell_type": "code",
   "execution_count": null,
   "metadata": {
    "collapsed": true
   },
   "outputs": [],
   "source": [
    "#corr_profile=plot_profile(DicMap.max_shear,[583,627],[445,772])\n",
    "#corr_profile2=plot_profile(DicMap2.max_shear,[820,607],[911,718])\n",
    "corr_profile2=plot_profile(DicMap2.crop(DicMap2.max_shear),[160,426],[361,525])\n",
    "#f=open('/Users/mbcx9rt5/Dropbox (Research Group)/python/corr_profile.txt', 'wb')\n",
    "#np.savetxt(f,corr_profile,fmt='%.6f')\n",
    "#f.close()\n",
    "f=open('/Users/mbcx9rt5/Dropbox (Research Group)/python/corr_profile.txt', 'wb')\n",
    "np.savetxt(f,corr_profile2,fmt='%.6f')\n",
    "f.close()"
   ]
  },
  {
   "cell_type": "markdown",
   "metadata": {
    "heading_collapsed": true
   },
   "source": [
    "### 2-point correlation GRAIN"
   ]
  },
  {
   "cell_type": "code",
   "execution_count": null,
   "metadata": {
    "collapsed": true,
    "hidden": true
   },
   "outputs": [],
   "source": [
    "unzippedCoordlist = list(zip(DicMap.grainList[DicMap.currGrainId].coordList))\n",
    "x0 = min(unzippedCoordlist[0])\n",
    "y0 = min(unzippedCoordlist[1])\n",
    "xmax = max(unzippedCoordlist[0])\n",
    "ymax = max(unzippedCoordlist[1])\n",
    "grainMaxShear = np.full((ymax - y0 + 1, xmax - x0 + 1), np.nan, dtype=float)\n",
    "\n",
    "for coord, maxShear in zip(DicMap.grainList[DicMap.currGrainId].coordList, DicMap.grainList[DicMap.currGrainId].maxShearList):\n",
    "            grainMaxShear[coord[1] - y0, coord[0] - x0] = maxShear\n",
    "\n",
    "x=acorr_map(grainMaxShear)\n",
    "plt.imshow(x,cmap='viridis')"
   ]
  },
  {
   "cell_type": "markdown",
   "metadata": {
    "heading_collapsed": true
   },
   "source": [
    "### 2-point correlation MAP"
   ]
  },
  {
   "cell_type": "code",
   "execution_count": null,
   "metadata": {
    "collapsed": true,
    "hidden": true
   },
   "outputs": [],
   "source": [
    "def acorr_map(def_map,c_range=[]):\n",
    "    acorr=(np.fft.fft2(def_map)*np.conjugate(np.fft.fft2(def_map)))\n",
    "    ashift=np.fft.fftshift(acorr)\n",
    "    corr_map=np.log(np.fft.fftshift((np.abs(np.fft.ifft2(ashift)))))\n",
    "    if c_range==[]:\n",
    "        plt.imshow(corr_map, interpolation='nearest', cmap='viridis');\n",
    "    else:\n",
    "        plt.imshow(corr_map, interpolation='nearest', cmap='viridis',\n",
    "                   vmin=c_range[0], vmax=c_range[1]);\n",
    "    return corr_map\n",
    "\n",
    "x=acorr_map(DicMap.max_shear[200:1200,200:1200])\n",
    "y=acorr_map(DicMap2.max_shear[200:1200, 200:1200])\n",
    "\n",
    "plt.imshow(DicMap.max_shear[200:1200,200:1200])\n",
    "\n",
    "plt.figure(figsize=(10,5))\n",
    "gs = gridspec.GridSpec(1, 2)\n",
    "ax0=plt.subplot(gs[0])\n",
    "ax1=plt.subplot(gs[1])\n",
    "ax0.imshow(y,cmap='viridis')\n",
    "ax1.imshow(x,cmap='viridis')\n",
    "\n",
    "plt.figure(figsize=(10,5))\n",
    "gs = gridspec.GridSpec(1, 2)\n",
    "ax0=plt.subplot(gs[0])\n",
    "ax1=plt.subplot(gs[1])\n",
    "ax0.imshow(y[450:550,450:550],cmap='viridis')\n",
    "ax1.imshow(x[450:550,450:550],cmap='viridis')"
   ]
  },
  {
   "cell_type": "markdown",
   "metadata": {
    "heading_collapsed": true
   },
   "source": [
    "### Plot max shear for isolated grain with slip traces"
   ]
  },
  {
   "cell_type": "code",
   "execution_count": null,
   "metadata": {
    "collapsed": true,
    "hidden": true
   },
   "outputs": [],
   "source": [
    "DicMap.grainList[DicMap.currGrainId].calcSlipTraces()\n",
    "DicMap.grainList[DicMap.currGrainId].plotMaxShear(plotSlipTraces=True)\n",
    "\n",
    "#DicMap.grainList[DicMap.currGrainId].calcSlipTraces(correctAvOri=False)\n",
    "#DicMap.grainList[DicMap.currGrainId].plotMaxShear(plotSlipTraces=True)"
   ]
  },
  {
   "cell_type": "code",
   "execution_count": null,
   "metadata": {
    "collapsed": true,
    "hidden": true
   },
   "outputs": [],
   "source": [
    "scale=0.02\n",
    "fig = plt.figure()\n",
    "plt.subplot(221)\n",
    "\n",
    "fig = plt.imshow(DicMap.f11,cmap='coolwarm',vmin=-scale,vmax=scale);\n",
    "cbar = plt.colorbar(pad=0.02)\n",
    "cbar.set_label(label=\"f11\")\n",
    "\n",
    "plt.subplot(222)\n",
    "\n",
    "fig = plt.imshow(DicMap.f12,cmap='coolwarm',vmin=-scale,vmax=scale);\n",
    "cbar = plt.colorbar(pad=0.02)\n",
    "cbar.set_label(label=\"f12\")\n",
    "\n",
    "plt.subplot(223)\n",
    "\n",
    "fig = plt.imshow(DicMap.f21,cmap='coolwarm',vmin=-scale,vmax=scale);\n",
    "cbar = plt.colorbar(pad=0.02)\n",
    "cbar.set_label(label=\"f21\")\n",
    "\n",
    "plt.subplot(224)\n",
    "\n",
    "fig = plt.imshow(DicMap.f22,cmap='coolwarm',vmin=-scale,vmax=scale);\n",
    "cbar = plt.colorbar(pad=0.02)\n",
    "cbar.set_label(label=\"f22\")\n",
    "\n",
    "plt.show()"
   ]
  },
  {
   "cell_type": "markdown",
   "metadata": {
    "heading_collapsed": true
   },
   "source": [
    "### Display maps with homologous points"
   ]
  },
  {
   "cell_type": "code",
   "execution_count": null,
   "metadata": {
    "collapsed": true,
    "hidden": true
   },
   "outputs": [],
   "source": [
    "EbsdMap.plotBoundaryMap()\n",
    "plt.scatter(x=EbsdMap.homogPoints[:, 0], y=EbsdMap.homogPoints[:, 1], c='y', s=60)"
   ]
  },
  {
   "cell_type": "code",
   "execution_count": null,
   "metadata": {
    "collapsed": true,
    "hidden": true
   },
   "outputs": [],
   "source": [
    "DicMap.plotMaxShear()\n",
    "plt.scatter(x=DicMap.homogPoints[:, 0], y=DicMap.homogPoints[:, 1], c='y', s=60)"
   ]
  },
  {
   "cell_type": "code",
   "execution_count": null,
   "metadata": {
    "collapsed": true,
    "hidden": true
   },
   "outputs": [],
   "source": [
    "rawImagePath = \"irr1/raw.png\"\n",
    "\n",
    "rawImage = io.imread(rawImagePath)\n",
    "\n",
    "plt.figure()\n",
    "plt.imshow(rawImage)\n",
    "plt.scatter(x=DicMap.homogPoints[:, 0], y=DicMap.homogPoints[:, 1], c='y', s=60)\n",
    "plt.show()"
   ]
  },
  {
   "cell_type": "markdown",
   "metadata": {
    "hidden": true
   },
   "source": [
    "shear_map_filt=DicMap2.f11[200:1200,200:1200]\n",
    "shear_map_filt2=DicMap2.max_shear[200:1200,200:1200]\n",
    "plt.figure()\n",
    "gs = gridspec.GridSpec(1, 2)\n",
    "ax0=plt.subplot(gs[0])\n",
    "ax1=plt.subplot(gs[1])\n",
    "ax0.imshow(shear_map_filt,cmap='viridis',vmin=-0.01,vmax=0.1)\n",
    "ax1.imshow(shear_map_filt2,cmap='viridis',vmax=0.1)"
   ]
  },
  {
   "cell_type": "markdown",
   "metadata": {
    "heading_collapsed": true
   },
   "source": [
    "### SPP MSS/Rot"
   ]
  },
  {
   "cell_type": "code",
   "execution_count": null,
   "metadata": {
    "collapsed": true,
    "hidden": true
   },
   "outputs": [],
   "source": [
    "shear_map_filt=DicMap2.f21[540:610,590:670]-DicMap2.f12[540:610,590:670]\n",
    "shear_map_filt2=DicMap2.max_shear[540:610,590:670]\n",
    "plt.figure()\n",
    "gs = gridspec.GridSpec(1, 2)\n",
    "ax0=plt.subplot(gs[0])\n",
    "ax1=plt.subplot(gs[1])\n",
    "ax0.imshow(shear_map_filt,cmap='coolwarm',vmin=-0.08,vmax=0.1)\n",
    "ax1.imshow(shear_map_filt2,cmap='viridis',vmin=0.00,vmax=0.08)\n",
    "#ax0.title('max shear', fontsize=20)\n",
    "\n",
    "#f11_profile=plot_profile(shear_map_filt2,[30,50],[44,66])\n",
    "#f11_profile=plot_profile(shear_map_filt,[30,50],[44,66])\n",
    "maxStrain = np.max(DicMap.max_shear)*100\n",
    "print(\"Max effective shear strain: {0:.3f} %\\n\".format(maxStrain)) "
   ]
  },
  {
   "cell_type": "code",
   "execution_count": null,
   "metadata": {
    "collapsed": true,
    "hidden": true
   },
   "outputs": [],
   "source": [
    "shear_map_filt=DicMap.f21[840:1210,890:1270]-DicMap.f12[840:1210,890:1270]\n",
    "shear_map_filt2=DicMap.max_shear[840:1210,890:1270]\n",
    "plt.figure()\n",
    "gs = gridspec.GridSpec(1, 2)\n",
    "ax0=plt.subplot(gs[0])\n",
    "ax1=plt.subplot(gs[1])\n",
    "ax0.imshow(shear_map_filt,cmap='coolwarm',vmin=-0.0008,vmax=0.001)\n",
    "ax1.imshow(shear_map_filt2,cmap='viridis',vmin=0.0000,vmax=0.0008)\n",
    "#ax0.title('max shear', fontsize=20)\n",
    "\n",
    "#f11_profile=plot_profile(shear_map_filt2,[30,50],[44,66])\n",
    "#f11_profile=plot_profile(shear_map_filt,[30,50],[44,66])\n",
    "maxStrain = np.max(DicMap.max_shear)*100\n",
    "print(\"Max effective shear strain: {0:.3f} %\\n\".format(maxStrain)) "
   ]
  },
  {
   "cell_type": "code",
   "execution_count": null,
   "metadata": {
    "collapsed": true,
    "hidden": true
   },
   "outputs": [],
   "source": [
    "### Smaller"
   ]
  },
  {
   "cell_type": "code",
   "execution_count": null,
   "metadata": {
    "collapsed": true,
    "hidden": true
   },
   "outputs": [],
   "source": [
    "cropmap=DicMap2.max_shear[200:1200,200:1200]\n",
    "plt.figure()\n",
    "gs = gridspec.GridSpec(1, 1)\n",
    "ax0=plt.subplot(gs[0])\n",
    "ax0.imshow(cropmap,cmap='coolwarm',vmin=-0.08,vmax=0.1)\n",
    "\n",
    "maxStrain = np.max(cropmap)*100\n",
    "print(\"Max effective shear strain: {0:.3f} %\\n\".format(maxStrain)) "
   ]
  },
  {
   "cell_type": "code",
   "execution_count": null,
   "metadata": {
    "collapsed": true,
    "hidden": true
   },
   "outputs": [],
   "source": [
    "shear_map_filt=DicMap.f21[1000:1200,850:1200]-DicMap2.f12[1000:1200,850:1200]\n",
    "shear_map_filt2=DicMap.f11[1000:1200,850:1200]\n",
    "plt.figure()\n",
    "gs = gridspec.GridSpec(1, 2)\n",
    "ax0=plt.subplot(gs[0])\n",
    "ax1=plt.subplot(gs[1])\n",
    "ax0.imshow(shear_map_filt,cmap='viridis',vmin=0.00,vmax=0.08)\n",
    "ax1.imshow(shear_map_filt2,cmap='viridis',vmin=0.00,vmax=0.08)"
   ]
  },
  {
   "cell_type": "markdown",
   "metadata": {},
   "source": [
    "### Threshold"
   ]
  },
  {
   "cell_type": "code",
   "execution_count": null,
   "metadata": {
    "collapsed": true
   },
   "outputs": [],
   "source": [
    "#99th irr 19.05   nonirr 6.16\n",
    "#98th irr 9.61 nonirr 5.37\n",
    "\n",
    "threshold=0.02\n",
    "shear_map_filt=DicMap2.crop(DicMap2.max_shear)>threshold\n",
    "\n",
    "import scipy.misc\n",
    "scipy.misc.imsave('newdata/nirr_threshold.bmp', DicMap2.crop(DicMap2.max_shear)>threshold)\n",
    "\n",
    "sin_map = tf.radon(shear_map_filt, circle=False)\n",
    "profile_filt=np.max(sin_map,axis=0)\n",
    "plt.figure()\n",
    "gs = gridspec.GridSpec(1, 2)\n",
    "ax0=plt.subplot(gs[0])\n",
    "ax1=plt.subplot(gs[1])\n",
    "strain_title='Threshold: {:2.3f}'.format(threshold)\n",
    "ax0.imshow(shear_map_filt,cmap='binary')\n",
    "ax0.set_title(strain_title)\n",
    "ax1.plot(profile_filt)"
   ]
  },
  {
   "cell_type": "code",
   "execution_count": null,
   "metadata": {
    "collapsed": true
   },
   "outputs": [],
   "source": [
    "threshold=0.117\n",
    "shear_map_filt=DicMap.crop(DicMap.max_shear)>threshold\n",
    "\n",
    "import scipy.misc\n",
    "scipy.misc.imsave('newdata/irr_threshold.bmp', DicMap.crop(DicMap.max_shear)>threshold)\n",
    "\n",
    "sin_map = tf.radon(shear_map_filt, circle=False)\n",
    "profile_filt=np.max(sin_map,axis=0)\n",
    "plt.figure(figsize=(30,15))\n",
    "gs = gridspec.GridSpec(1, 2)\n",
    "ax0=plt.subplot(gs[0])\n",
    "ax1=plt.subplot(gs[1])\n",
    "strain_title='Threshold: {:2.3f}'.format(threshold)\n",
    "ax0.imshow(shear_map_filt,cmap='viridis')\n",
    "ax0.set_title(strain_title)\n",
    "ax1.plot(profile_filt)"
   ]
  },
  {
   "cell_type": "markdown",
   "metadata": {},
   "source": [
    "###### DicMap.buildNeighbourNetwork()"
   ]
  },
  {
   "cell_type": "code",
   "execution_count": null,
   "metadata": {
    "collapsed": true
   },
   "outputs": [],
   "source": [
    "DicMap.displayNeighbours()"
   ]
  },
  {
   "cell_type": "code",
   "execution_count": null,
   "metadata": {
    "collapsed": true
   },
   "outputs": [],
   "source": []
  }
 ],
 "metadata": {
  "kernelspec": {
   "display_name": "Python 3",
   "language": "python",
   "name": "python3"
  },
  "language_info": {
   "codemirror_mode": {
    "name": "ipython",
    "version": 3
   },
   "file_extension": ".py",
   "mimetype": "text/x-python",
   "name": "python",
   "nbconvert_exporter": "python",
   "pygments_lexer": "ipython3",
   "version": "3.6.1"
  },
  "toc": {
   "nav_menu": {},
   "number_sections": true,
   "sideBar": true,
   "skip_h1_title": false,
   "toc_cell": false,
   "toc_position": {},
   "toc_section_display": "block",
   "toc_window_display": false
  }
 },
 "nbformat": 4,
 "nbformat_minor": 2
}
