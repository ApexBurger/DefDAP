{
 "cells": [
  {
   "cell_type": "markdown",
   "metadata": {},
   "source": [
    "### Initialise data"
   ]
  },
  {
   "cell_type": "code",
   "execution_count": null,
   "metadata": {},
   "outputs": [],
   "source": [
    "import numpy as np\n",
    "import matplotlib.pyplot as plt\n",
    "from matplotlib import gridspec\n",
    "from matplotlib_scalebar.scalebar import ScaleBar\n",
    "import matplotlib.lines as mlines\n",
    "from defdap.quat import Quat\n",
    "import defdap.ebsd as ebsd\n",
    "import defdap.hrdic as hrdic\n",
    "from skimage import transform as tf\n",
    "from skimage import io, measure\n",
    "from IPython.display import display\n",
    "import scipy as scipy\n",
    "import peakutils\n",
    "\n",
    "import os\n",
    "if os.name == 'posix':\n",
    "    %matplotlib osx\n",
    "\n",
    "#Load in DIC maps\n",
    "DicFilePath = \"/Users/mbcx9rt5/Desktop/\"\n",
    "DicMap = hrdic.Map(DicFilePath, \"irr.TXT\")\n",
    "DicMap.setPatternPath(\"irr_000_8bin.jpg\", 2)\n",
    "DicMap.setCrop(xMin=150,xMax=293,yMin=115,yMax=214)\n",
    "\n",
    "DicMap2 = hrdic.Map(DicFilePath, \"nonirr.TXT\")\n",
    "DicMap2.setPatternPath(\"nonirr_000_8bin.jpg\", 2)\n",
    "DicMap2.setCrop(xMin=131,xMax=166,yMin=100,yMax=99)\n",
    "\n",
    "pixelinm=78.125e-9\n",
    "\n",
    "#Load in EBSD map and calculate misorientation\n",
    "EbsdMap = ebsd.Map(\"/Users/mbcx9rt5/Desktop/irr\", \"hexagonal\")\n",
    "EbsdMap.loadSlipSystems(\"defdap/slip_systems/hexagonal_withca.txt\", cOverA=1.593)\n",
    "EbsdMap.buildQuatArray()\n",
    "EbsdMap.findBoundaries(boundDef = 3.6)\n",
    "#EbsdMap.boundaries = scipy.misc.imread('newdata/irr_boundaries.bmp').astype(int)\n",
    "#EbsdMap.boundaries[EbsdMap.boundaries == 0] = -1\n",
    "#EbsdMap.boundaries[EbsdMap.boundaries == 255] = 0\n",
    "EbsdMap.findGrains(minGrainSize= 100)\n",
    "EbsdMap.calcGrainMisOri(calcAxis = False)\n",
    "EbsdMap.calcAverageGrainSchmidFactors(loadVector=np.array([1, 0, 0]))\n",
    "\n",
    "EbsdMap2 = ebsd.Map(\"/Users/mbcx9rt5/Desktop/ni\", \"hexagonal\")\n",
    "EbsdMap2.loadSlipSystems(\"defdap/slip_systems/hexagonal_withca.txt\", cOverA=1.593)\n",
    "EbsdMap2.buildQuatArray()\n",
    "EbsdMap2.findBoundaries(boundDef = 3.6)\n",
    "#EbsdMap2.boundaries = scipy.misc.imread('newdata/nonirr_boundaries.bmp').astype(int)\n",
    "#EbsdMap2.boundaries[EbsdMap2.boundaries == 0] = -1\n",
    "#EbsdMap2.boundaries[EbsdMap2.boundaries == 255] = 0\n",
    "EbsdMap2.findGrains(minGrainSize= 100)\n",
    "EbsdMap2.calcGrainMisOri(calcAxis = False)\n",
    "EbsdMap2.calcAverageGrainSchmidFactors(loadVector=np.array([1, 0, 0]))\n",
    "\n",
    "DicMap2.homogPoints = np.array((((326, 377), (118 , 540),(1166, 955), (1108, 1012), (142, 1042), (252, 1092), (64, 766), (68,200), \n",
    "                                 (710, 936), (580, 1128), (1026, 484), (1204, 306), (1166, 600), (1044,  852), (888, 1101), (636, 609),\n",
    "                                 (485, 890), (486, 628), (700, 276), (414, 219), (874, 670), (863, 59), (226, 44), (552, 28))))\n",
    "EbsdMap2.homogPoints = np.array(((167, 232), (80, 286), (484, 469), (462, 489), (79, 472), (121, 494), (54, 368), (67, 160), \n",
    "                                 (305, 446), (253, 516), (440, 289), (513, 229), (491, 337), (438, 428), (373, 519), (281, 325),\n",
    "                                 (218, 423), (226, 327), (317, 204), (203, 174), (378, 353), (385, 128), (135, 106), (262, 106)))\n",
    "DicMap.homogPoints = np.array(( (430, 219), (107, 1082), (111, 164), (547, 1106), (1164, 1108),\n",
    "                               (1410, 887), (1424, 608), (1290, 180), (846, 236), (814, 36),\n",
    "                               (462, 58), (1000, 620), (43, 652), (206, 498), (476, 723),\n",
    "                               (582, 747), (850, 1088), (1183, 764), (686, 428), (668, 538),\n",
    "                               (854, 851) ))\n",
    "EbsdMap.homogPoints = np.array(( (202, 141), (57, 434), (78, 118), (228, 450), (471, 461), (570, 388),\n",
    "                                (582, 290), (539, 144), (365, 155), (358, 87), (217, 90), (415, 288),\n",
    "                                (40, 284), (107, 233), (209, 315), (247, 325), (347, 447), (484, 341),\n",
    "                                (299, 215), (289, 253), (346, 357) ))\n",
    "\n",
    "DicMap.homogPoints[:,:1] -= 50\n",
    "DicMap.homogPoints[:,1:2] -= 15\n",
    "\n",
    "DicMap.linkEbsdMap(EbsdMap)\n",
    "DicMap.findGrains(minGrainSize=100)\n",
    "\n",
    "DicMap2.linkEbsdMap(EbsdMap2)\n",
    "DicMap2.findGrains(minGrainSize=100)"
   ]
  },
  {
   "cell_type": "code",
   "execution_count": null,
   "metadata": {
    "collapsed": true
   },
   "outputs": [],
   "source": [
    "#EXPORT BOUNDARY TO FILE\n",
    "from skimage import morphology as mph\n",
    "import matplotlib as mpl\n",
    "cmap1 = mpl.colors.LinearSegmentedColormap.from_list('my_cmap', ['white', 'black'], 256)\n",
    "cmap1._init()\n",
    "cmap1._lut[:, -1] = np.linspace(0, 1, cmap1.N + 3)\n",
    "boundariesImage = -DicMap2.boundaries\n",
    "boundariesImage2 = mph.binary_dilation(boundariesImage)\n",
    "plt.imshow(boundariesImage2, cmap=cmap1, vmin=0, vmax=1)\n",
    "\n",
    "import scipy.misc\n",
    "scipy.misc.imsave('newdata/nirr_exp.bmp', boundariesImage)"
   ]
  },
  {
   "cell_type": "code",
   "execution_count": null,
   "metadata": {
    "collapsed": true
   },
   "outputs": [],
   "source": [
    "#DicMap2.homogPoints = np.array((   ))\n",
    "#EbsdMap2.homogPoints = np.array((   ))\n",
    "\n",
    "#DicMap2.setHomogPoint(display=\"pattern\")\n",
    "#EbsdMap2.setHomogPoint()\n",
    "\n",
    "DicMap2.setHomogPoint()\n",
    "EbsdMap2.setHomogPoint()"
   ]
  },
  {
   "cell_type": "markdown",
   "metadata": {},
   "source": [
    "### EBSD Misori plot"
   ]
  },
  {
   "cell_type": "code",
   "execution_count": null,
   "metadata": {},
   "outputs": [],
   "source": [
    "EbsdMap.calcGrainMisOri(calcAxis = True)\n",
    "EbsdMap2.calcGrainMisOri(calcAxis = True)"
   ]
  },
  {
   "cell_type": "code",
   "execution_count": null,
   "metadata": {},
   "outputs": [],
   "source": [
    "EbsdMap2.plotMisOriMap(plotGBs=True, boundaryColour='black', vmin=-4, vmax=4,\n",
    "                      cmap=\"coolwarm\")"
   ]
  },
  {
   "cell_type": "markdown",
   "metadata": {},
   "source": [
    "### Plot DIC maps"
   ]
  },
  {
   "cell_type": "code",
   "execution_count": 2,
   "metadata": {
    "collapsed": true
   },
   "outputs": [],
   "source": [
    "DicMap2.plotMaxShear(plotGBs=True,vmin=0,vmax=0.08,plotColourBar=True,dilateBoundaries=True)"
   ]
  },
  {
   "cell_type": "markdown",
   "metadata": {},
   "source": [
    "### Plot EBSD Maps"
   ]
  },
  {
   "cell_type": "code",
   "execution_count": null,
   "metadata": {
    "collapsed": true
   },
   "outputs": [],
   "source": [
    "EbsdMap2.plotMisOriMap(plotGBs=True,vmin=0,vmax=6)"
   ]
  },
  {
   "cell_type": "markdown",
   "metadata": {},
   "source": [
    "### Stats"
   ]
  },
  {
   "cell_type": "code",
   "execution_count": null,
   "metadata": {
    "collapsed": true
   },
   "outputs": [],
   "source": [
    "DicMap.printStatsTable(percentiles=['Min', 1, 5, 'Mean', 95, 99.99, 'Max'], components=['f11','mss'])\n",
    "DicMap2.printStatsTable(percentiles=['Min', 1, 5, 'Mean', 95, 99.99, 'Max'], components=['f11','mss'])"
   ]
  },
  {
   "cell_type": "markdown",
   "metadata": {},
   "source": [
    "#### loglog"
   ]
  },
  {
   "cell_type": "code",
   "execution_count": null,
   "metadata": {
    "collapsed": true
   },
   "outputs": [],
   "source": [
    "irr_crop= DicMap.crop(DicMap.max_shear)\n",
    "irr_crop= DicMap.crop(DicMap.max_shear) / np.mean(DicMap.crop(DicMap.max_shear))\n",
    "ni_crop= DicMap2.crop(DicMap2.max_shear)\n",
    "ni_crop= DicMap2.crop(DicMap2.max_shear) / np.mean(DicMap2.crop(DicMap2.max_shear))\n",
    "\n",
    "irr2=[item for sublist in irr_crop for item in sublist]\n",
    "nirr2=[item for sublist in ni_crop for item in sublist]\n",
    "\n",
    "f, (ax1) = plt.subplots(1, figsize=(6, 4))\n",
    "\n",
    "counts, bins, bars = ax1.hist(irr2, bins=np.logspace(np.log10(0.001),np.log10(50.0),100), color='r', histtype='step',  label='Irradiated',normed=True)\n",
    "plt.xlabel(\"Effective shear strain (multiples of average)\", fontsize=\"12\")\n",
    "plt.ylabel(\"Frequency\", fontsize=\"12\")\n",
    "center = (bins[:-1] + bins[1:]) / 2\n",
    "np.savetxt('irr.csv', (center, counts), delimiter='\\n')\n",
    "\n",
    "counts2, bins, bars = ax1.hist(nirr2, bins=np.logspace(np.log10(0.001),np.log10(50.0),100), color='g', histtype='step',  label='Non irradiated',normed=True)\n",
    "plt.xscale(\"log\", nonposx='clip'); plt.yscale(\"log\", nonposy='clip');\n",
    "plt.xlim(1e-2,5e1); \n",
    "plt.ylim(0,1e2);\n",
    "\n",
    "center = (bins[:-1] + bins[1:]) / 2\n",
    "np.savetxt('nonirr.csv', (center, counts2), delimiter='\\n')\n",
    "\n",
    "plt.tick_params(top='on', right='on', which='both', direction='in')\n",
    "plt.tick_params(axis='y', which='minor')\n",
    "plt.axvline(1, color='black', linestyle='dashed', linewidth=1)\n",
    "plt.legend()\n",
    "f.tight_layout()\n",
    "plt.show()\n",
    "\n",
    "f.savefig('histograms.png',dpi=400, pad_inches=0)"
   ]
  },
  {
   "cell_type": "markdown",
   "metadata": {},
   "source": [
    "### Schmid factor map"
   ]
  },
  {
   "cell_type": "code",
   "execution_count": null,
   "metadata": {
    "collapsed": true
   },
   "outputs": [],
   "source": [
    "import matplotlib as mpl\n",
    "from skimage import morphology as mph\n",
    "\n",
    "selDicMap=DicMap\n",
    "percentile=95\n",
    "fig = plt.figure(frameon=False, figsize=(8,7))\n",
    "schmidlist=[];\n",
    "\n",
    "ax = plt.Axes(fig, [0., 0., 0.9, 1.])\n",
    "ax.set_axis_off()\n",
    "fig.add_axes(ax)\n",
    "\n",
    "cmap1 = mpl.colors.LinearSegmentedColormap.from_list('my_cmap', ['black', 'black'], 256)\n",
    "cmap1._init()\n",
    "cmap1._lut[:, -1] = np.linspace(0, 1, cmap1.N + 3)\n",
    "cmap2 = mpl.colors.LinearSegmentedColormap.from_list('my_cmap', ['red', 'red'], 256)\n",
    "cmap2._init()\n",
    "cmap2._lut[:, -1] = np.linspace(0, 1, cmap2.N + 3)\n",
    "\n",
    "avschmid = np.zeros([selDicMap.yDim, selDicMap.xDim])\n",
    "for Grain in selDicMap.grainList:\n",
    "    #max Schmid factor\n",
    "    currentSchmidFactor = np.max([Grain.ebsdGrain.averageSchmidFactors[1],Grain.ebsdGrain.averageSchmidFactors[2],Grain.ebsdGrain.averageSchmidFactors[3]])\n",
    "    schmidlist.append(currentSchmidFactor)       \n",
    "    # currentSchmidFactor = grain.averageSchmidFactors[0][0]\n",
    "    for coord in Grain.coordList:\n",
    "        avschmid[coord[1], coord[0]] = currentSchmidFactor\n",
    "prism=ax.imshow(avschmid,interpolation='none', cmap='gray', vmin=0, vmax=0.5)\n",
    "\n",
    "boundariesImage = -selDicMap.boundaries\n",
    "boundariesImage2 = mph.binary_dilation(boundariesImage)\n",
    "img=ax.imshow(boundariesImage2, cmap=cmap1, vmin=0, vmax=1)\n",
    "\n",
    "cbar=plt.colorbar(prism, ax=ax,fraction=0.03, pad=0.02, anchor=(0.0, 0.12))\n",
    "cbar.set_label(label=\"Prismatic Schmid Factor\",size=12)\n",
    "cbar.ax.tick_params(labelsize=11) \n",
    "\n",
    "threshold=np.percentile(selDicMap.crop(selDicMap.max_shear),percentile)\n",
    "print(threshold)\n",
    "thresholdmap=selDicMap.crop(selDicMap.max_shear)>threshold\n",
    "ax.imshow(thresholdmap,cmap=cmap2,alpha=0.9)\n",
    "\n",
    "ax.xaxis.set_visible(False)\n",
    "ax.yaxis.set_visible(False)\n",
    "\n",
    "fig.savefig('fig2.png',dpi=600, bbox_inches='tight', pad_inches=0)\n",
    "print('Average prismatic schmid: {0:.3f} +- {1:.3f}'.format(np.mean(schmidlist),np.std(schmidlist)))"
   ]
  },
  {
   "cell_type": "code",
   "execution_count": null,
   "metadata": {},
   "outputs": [],
   "source": []
  }
 ],
 "metadata": {
  "kernelspec": {
   "display_name": "Python 3",
   "language": "python",
   "name": "python3"
  },
  "language_info": {
   "codemirror_mode": {
    "name": "ipython",
    "version": 3
   },
   "file_extension": ".py",
   "mimetype": "text/x-python",
   "name": "python",
   "nbconvert_exporter": "python",
   "pygments_lexer": "ipython3",
   "version": "3.6.1"
  },
  "toc": {
   "nav_menu": {
    "height": "405px",
    "width": "252px"
   },
   "number_sections": true,
   "sideBar": true,
   "skip_h1_title": false,
   "toc_cell": false,
   "toc_position": {
    "height": "756px",
    "left": "0px",
    "right": "1161px",
    "top": "107px",
    "width": "273px"
   },
   "toc_section_display": "block",
   "toc_window_display": true
  }
 },
 "nbformat": 4,
 "nbformat_minor": 2
}
