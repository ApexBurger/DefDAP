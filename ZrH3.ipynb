{
 "cells": [
  {
   "cell_type": "markdown",
   "metadata": {},
   "source": [
    "### Load DIC data"
   ]
  },
  {
   "cell_type": "code",
   "execution_count": 168,
   "metadata": {
    "collapsed": true
   },
   "outputs": [],
   "source": [
    "import numpy as np\n",
    "import matplotlib.pyplot as plt\n",
    "from matplotlib import gridspec\n",
    "import matplotlib.lines as mlines\n",
    "from DICEBSD.quat import Quat\n",
    "import DICEBSD.ebsd as ebsd\n",
    "import DICEBSD.hrdic as hrdic\n",
    "from IPython.display import display\n",
    "from matplotlib_scalebar.scalebar import ScaleBar\n",
    "from skimage.filters import threshold_local, sobel\n",
    "import skimage.morphology as mph\n",
    "from skimage import feature, measure\n",
    "import scipy.ndimage as nd\n",
    "from skimage.transform import rescale, resize, downscale_local_mean\n",
    "from scipy import ndimage\n",
    "import matplotlib as mpl\n",
    "\n",
    "%matplotlib osx\n",
    "\n",
    "#Load in DIC maps\n",
    "\n",
    "DicFilePath = \"/Users/mbcx9rt5/Dropbox (Research Group)/new davis/zrh/\"\n",
    "SetA1 = hrdic.Map(DicFilePath, \"SetA_001.TXT\")\n",
    "SetA1.setPatternPath(\"SetA_opt.jpg\", 4)\n",
    "SetA.setCrop(xMin=100,xMax=100,yMin=100,yMax=100)\n",
    "\n",
    "SetA2 = hrdic.Map(DicFilePath, \"SetA_002.TXT\")\n",
    "SetA2.setPatternPath(\"SetA_opt.jpg\", 4)\n",
    "SetA2.setCrop(xMin=100,xMax=100,yMin=100,yMax=100)\n",
    "\n",
    "SetA3 = hrdic.Map(DicFilePath, \"SetA_003.TXT\")\n",
    "SetA3.setPatternPath(\"SetA_opt.jpg\", 4)\n",
    "SetA3.setCrop(xMin=100,xMax=100,yMin=100,yMax=100)\n",
    "\n",
    "SetC = hrdic.Map(DicFilePath, \"SetC_002.TXT\")\n",
    "SetC.setPatternPath(\"SetC_opt.jpg\", 4)\n",
    "SetC.setCrop(xMin=100,xMax=100,yMin=100,yMax=100)\n",
    "\n",
    "SetD = hrdic.Map(DicFilePath, \"SetD_002.TXT\")\n",
    "SetD.setPatternPath(\"SetD_opt.jpg\", 4)\n",
    "SetD.setCrop(xMin=100,xMax=100,yMin=100,yMax=100)\n"
   ]
  },
  {
   "cell_type": "markdown",
   "metadata": {},
   "source": [
    "### Select DIC map"
   ]
  },
  {
   "cell_type": "code",
   "execution_count": 287,
   "metadata": {},
   "outputs": [
    {
     "name": "stdout",
     "output_type": "stream",
     "text": [
      "Max Exx: 96.02%\n",
      "Max shear: 85.38%\n",
      "Min shear: 0.00%\n",
      "Mean Exx: 3.01%\n",
      "Mean shear: 2.65%\n",
      "Points: 1510441\n"
     ]
    }
   ],
   "source": [
    "DicMap=SetA3\n",
    "\n",
    "print(\"Max Exx: {0:.2f}%\".format(np.max(DicMap.crop(DicMap.f11))*100))\n",
    "print(\"Max shear: {0:.2f}%\".format(np.max(DicMap.crop(DicMap.max_shear))*100))\n",
    "print(\"Min shear: {0:.2f}%\".format(np.min(DicMap.crop(DicMap.max_shear))*100))\n",
    "print(\"Mean Exx: {0:.2f}%\".format(np.mean(DicMap.crop(DicMap.f11))*100))\n",
    "print(\"Mean shear: {0:.2f}%\".format(np.mean(DicMap.crop(DicMap.max_shear))*100))\n",
    "print(\"Points: {0}\".format(len(DicMap.crop(DicMap.max_shear)[0])*len(DicMap.crop(DicMap.max_shear)[1])))"
   ]
  },
  {
   "cell_type": "markdown",
   "metadata": {},
   "source": [
    "### Load and threshold BSE image"
   ]
  },
  {
   "cell_type": "code",
   "execution_count": 170,
   "metadata": {
    "collapsed": true
   },
   "outputs": [],
   "source": [
    "image = plt.imread(DicMap.patternImPath)\n",
    "image = nd.filters.median_filter(image,size=16)"
   ]
  },
  {
   "cell_type": "code",
   "execution_count": 267,
   "metadata": {},
   "outputs": [
    {
     "name": "stderr",
     "output_type": "stream",
     "text": [
      "/Users/mbcx9rt5/anaconda/lib/python3.6/site-packages/skimage/transform/_warps.py:84: UserWarning: The default mode, 'constant', will be changed to 'reflect' in skimage 0.15.\n",
      "  warn(\"The default mode, 'constant', will be changed to 'reflect' in \"\n",
      "/Users/mbcx9rt5/anaconda/lib/python3.6/site-packages/skimage/transform/_warps.py:84: UserWarning: The default mode, 'constant', will be changed to 'reflect' in skimage 0.15.\n",
      "  warn(\"The default mode, 'constant', will be changed to 'reflect' in \"\n"
     ]
    }
   ],
   "source": [
    "thres = threshold_local(image, 55, offset=10)\n",
    "\n",
    "binary = image < thresh - 20\n",
    "binary = rescale(binary, 1.0 / 4.0)\n",
    "binary = mph.binary_closing(binary)\n",
    "binary=mph.remove_small_objects(binary,min_size=200,connectivity=1)\n",
    "\n",
    "binary2 = image < 30\n",
    "binary2 = rescale(binary, 1.0 / 4.0)"
   ]
  },
  {
   "cell_type": "code",
   "execution_count": 268,
   "metadata": {
    "collapsed": true
   },
   "outputs": [],
   "source": [
    "plt.figure(figsize=(16,10))\n",
    "plt.imshow(binary)\n",
    "plt.show()"
   ]
  },
  {
   "cell_type": "code",
   "execution_count": 269,
   "metadata": {
    "code_folding": [],
    "collapsed": true
   },
   "outputs": [],
   "source": [
    "edges = sobel(binary)\n",
    "edges[edges>=0.01] = 1\n",
    "edges[edges<0.01] = 0"
   ]
  },
  {
   "cell_type": "code",
   "execution_count": 270,
   "metadata": {
    "collapsed": true
   },
   "outputs": [],
   "source": [
    "plt.figure(figsize=(16,10))\n",
    "plt.imshow(edges)\n",
    "plt.show()"
   ]
  },
  {
   "cell_type": "markdown",
   "metadata": {},
   "source": [
    "### Plot DIC and skeleton"
   ]
  },
  {
   "cell_type": "code",
   "execution_count": 274,
   "metadata": {
    "collapsed": true
   },
   "outputs": [],
   "source": [
    "cmap1 = mpl.colors.LinearSegmentedColormap.from_list('my_cmap', ['white', 'white'], 256)\n",
    "cmap1._init()\n",
    "cmap1._lut[:, -1] = np.linspace(0, 1,cmap1.N + 3)"
   ]
  },
  {
   "cell_type": "code",
   "execution_count": 290,
   "metadata": {
    "collapsed": true
   },
   "outputs": [],
   "source": [
    "fig = plt.figure(frameon=False,figsize=(8,7))\n",
    "ax = plt.Axes(fig, [0., 0., 0.9, 1.])\n",
    "#fig,ax=plt.subplots(1, 1, figsize=(10, 8),frameon=False)\n",
    "ax.set_axis_off()\n",
    "fig.add_axes(ax)\n",
    "\n",
    "img = ax.imshow(DicMap.crop(DicMap.max_shear)*100,vmax=12)\n",
    "ax.imshow(DicMap.crop(edges),cmap=cmap1)\n",
    "\n",
    "ax.xaxis.set_visible(False)\n",
    "ax.yaxis.set_visible(False)\n",
    "\n",
    "scalebar = ScaleBar(0.078125e-6) # 1 pixel = 0.2 meter\n",
    "plt.gca().add_artist(scalebar)\n",
    "\n",
    "cbar=plt.colorbar(img, ax=ax,fraction=0.03, pad=0.02, anchor=(0.0, 0.22))\n",
    "cbar.set_label(label=\"Effective shear strain (%)\",size=12)\n",
    "cbar.ax.tick_params(labelsize=11) \n",
    "plt.show()\n",
    "\n",
    "#fig.savefig('fig2.png',dpi=600, bbox_inches='tight', pad_inches=0)"
   ]
  },
  {
   "cell_type": "markdown",
   "metadata": {},
   "source": [
    "##### "
   ]
  }
 ],
 "metadata": {
  "kernelspec": {
   "display_name": "Python 3",
   "language": "python",
   "name": "python3"
  },
  "language_info": {
   "codemirror_mode": {
    "name": "ipython",
    "version": 3
   },
   "file_extension": ".py",
   "mimetype": "text/x-python",
   "name": "python",
   "nbconvert_exporter": "python",
   "pygments_lexer": "ipython3",
   "version": "3.6.1"
  },
  "toc": {
   "nav_menu": {},
   "number_sections": true,
   "sideBar": true,
   "skip_h1_title": false,
   "toc_cell": false,
   "toc_position": {},
   "toc_section_display": "block",
   "toc_window_display": false
  }
 },
 "nbformat": 4,
 "nbformat_minor": 2
}
