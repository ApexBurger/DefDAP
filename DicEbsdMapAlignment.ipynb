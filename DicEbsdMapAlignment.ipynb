{
 "cells": [
  {
   "cell_type": "markdown",
   "metadata": {},
   "source": [
    "## Example workbook for DIC <-> EBSD linking"
   ]
  },
  {
   "cell_type": "code",
   "execution_count": 1,
   "metadata": {},
   "outputs": [],
   "source": [
    "#Load thrid-party packages\n",
    "import numpy as np\n",
    "import matplotlib.pyplot as plt\n",
    "\n",
    "from skimage import transform as tf\n",
    "from skimage import io\n",
    "\n",
    "#Load quat, ebsd and hrdic packages from 'packages' sub-directory\n",
    "from packages.quat import Quat\n",
    "import packages.ebsd as ebsd\n",
    "import packages.hrdic as hrdic\n",
    "\n",
    "#Set plot behaviour\n",
    "#Interactive grain selection has only been tested in osx display mode\n",
    "%matplotlib osx"
   ]
  },
  {
   "cell_type": "markdown",
   "metadata": {},
   "source": [
    "### Load in and display DIC map"
   ]
  },
  {
   "cell_type": "code",
   "execution_count": 2,
   "metadata": {
    "collapsed": true
   },
   "outputs": [],
   "source": [
    "#Load in DIC map\n",
    "DicFilePath = \"example_data/\"\n",
    "#Load in BSE pattern image\n",
    "DicMap = hrdic.Map(DicFilePath, \"B00005.txt\")\n",
    "#Set crop\n",
    "DicMap.setCrop(xMin=15, xMax=28, yMin=30, yMax=15)"
   ]
  },
  {
   "cell_type": "code",
   "execution_count": 3,
   "metadata": {
    "collapsed": true
   },
   "outputs": [],
   "source": [
    "#Display max shear map\n",
    "DicMap.plotMaxShear(plotColourBar=True)"
   ]
  },
  {
   "cell_type": "markdown",
   "metadata": {},
   "source": [
    "### Load in EBSD map then display local misorientation"
   ]
  },
  {
   "cell_type": "code",
   "execution_count": 5,
   "metadata": {},
   "outputs": [],
   "source": [
    "#Load in EBSD map and calculate misorientation\n",
    "EbsdFilePath = \"example_data/Map Data 2-DIC area\"\n",
    "EbsdMap = ebsd.Map(EbsdFilePath, \"cubic\")\n",
    "EbsdMap.loadSlipSystems(filepath=\"slip_systems/cubic.txt\")\n",
    "EbsdMap.binData = EbsdMap.binData[::-1]  #Rotate the map 180 degrees\n",
    "EbsdMap.buildQuatArray()\n",
    "EbsdMap.findBoundaries(boundDef = 10)    #Find boundaries\n",
    "EbsdMap.findGrains(minGrainSize=10)      #Find grains\n",
    "EbsdMap.calcGrainMisOri(calcAxis = True)"
   ]
  },
  {
   "cell_type": "code",
   "execution_count": null,
   "metadata": {
    "collapsed": true
   },
   "outputs": [],
   "source": [
    "EbsdMap.plotMisOriMap(plotGBs=True, vmin=0, vmax=4)"
   ]
  },
  {
   "cell_type": "markdown",
   "metadata": {},
   "source": [
    "### Find a grain of interest (click around the map)"
   ]
  },
  {
   "cell_type": "code",
   "execution_count": null,
   "metadata": {},
   "outputs": [],
   "source": [
    "EbsdMap.locateGrainID()"
   ]
  },
  {
   "cell_type": "markdown",
   "metadata": {},
   "source": [
    "### Plot misorientation for isolated grain"
   ]
  },
  {
   "cell_type": "code",
   "execution_count": null,
   "metadata": {
    "collapsed": true
   },
   "outputs": [],
   "source": [
    "EbsdMap.grainList[EbsdMap.currGrainId].plotMisOri()"
   ]
  },
  {
   "cell_type": "code",
   "execution_count": null,
   "metadata": {
    "collapsed": true
   },
   "outputs": [],
   "source": [
    "EbsdMap.grainList[EbsdMap.currGrainId].plotMisOri(component=4)"
   ]
  },
  {
   "cell_type": "markdown",
   "metadata": {},
   "source": [
    "## Link EBSD map to DIC map"
   ]
  },
  {
   "cell_type": "markdown",
   "metadata": {},
   "source": [
    "### Define homologous points"
   ]
  },
  {
   "cell_type": "code",
   "execution_count": null,
   "metadata": {
    "collapsed": true
   },
   "outputs": [],
   "source": [
    "#Set homologous points   (x, y)\n",
    "DicMap.homogPoints = np.array((\n",
    "    (303, 408), (120, 392), (275, 25)\n",
    "))\n",
    "\n",
    "EbsdMap.homogPoints = np.array((\n",
    "    (536, 776), (236, 790), (466, 160)\n",
    "))"
   ]
  },
  {
   "cell_type": "markdown",
   "metadata": {},
   "source": [
    "### Display map with homologous points"
   ]
  },
  {
   "cell_type": "code",
   "execution_count": null,
   "metadata": {},
   "outputs": [],
   "source": [
    "EbsdMap.plotBoundaryMap()\n",
    "plt.scatter(x=EbsdMap.homogPoints[:, 0], y=EbsdMap.homogPoints[:, 1], c='y', s=60)"
   ]
  },
  {
   "cell_type": "code",
   "execution_count": null,
   "metadata": {},
   "outputs": [],
   "source": [
    "DicMap.plotMaxShear()\n",
    "plt.scatter(x=DicMap.homogPoints[:, 0], y=DicMap.homogPoints[:, 1], c='y', s=60)"
   ]
  },
  {
   "cell_type": "markdown",
   "metadata": {},
   "source": [
    "### Link the maps with a shift for corrections"
   ]
  },
  {
   "cell_type": "code",
   "execution_count": null,
   "metadata": {
    "collapsed": true
   },
   "outputs": [],
   "source": [
    "DicMap.linkEbsdMap(EbsdMap)\n",
    "DicMap.setEbsdShift(xShift=0, yShift=3)"
   ]
  },
  {
   "cell_type": "markdown",
   "metadata": {},
   "source": [
    "### Plot max shear with boundaries"
   ]
  },
  {
   "cell_type": "code",
   "execution_count": null,
   "metadata": {
    "collapsed": true
   },
   "outputs": [],
   "source": [
    "DicMap.plotMaxShear(plotGBs=True)"
   ]
  },
  {
   "cell_type": "markdown",
   "metadata": {},
   "source": [
    "### Detect grains in the DIC map"
   ]
  },
  {
   "cell_type": "code",
   "execution_count": null,
   "metadata": {
    "collapsed": true
   },
   "outputs": [],
   "source": [
    "DicMap.findGrains(minGrainSize=10)"
   ]
  },
  {
   "cell_type": "markdown",
   "metadata": {},
   "source": [
    "### Locate a grain of interest"
   ]
  },
  {
   "cell_type": "code",
   "execution_count": null,
   "metadata": {},
   "outputs": [],
   "source": [
    "DicMap.locateGrainID(displaySelected=True,dilateBoundaries=False)\n",
    "#displaySelected will show the selcted grain in a separate figure window. \n",
    "#Do not close the window and it will update as you click grains."
   ]
  },
  {
   "cell_type": "markdown",
   "metadata": {},
   "source": [
    "### Plot max shear for isolated grain"
   ]
  },
  {
   "cell_type": "code",
   "execution_count": null,
   "metadata": {
    "collapsed": true
   },
   "outputs": [],
   "source": [
    "DicMap.grainList[DicMap.currGrainId].plotMaxShear()"
   ]
  },
  {
   "cell_type": "markdown",
   "metadata": {},
   "source": [
    "### Plot a histogram of it"
   ]
  },
  {
   "cell_type": "code",
   "execution_count": null,
   "metadata": {
    "collapsed": true
   },
   "outputs": [],
   "source": [
    "plt.figure()\n",
    "plt.hist(DicMap.grainList[DicMap.currGrainId].maxShearList, bins=100);"
   ]
  },
  {
   "cell_type": "markdown",
   "metadata": {},
   "source": [
    "### Plot misorientation for isolated grain"
   ]
  },
  {
   "cell_type": "code",
   "execution_count": null,
   "metadata": {
    "collapsed": true
   },
   "outputs": [],
   "source": [
    "ebsdGrainId = DicMap.ebsdGrainIds[DicMap.currGrainId]\n",
    "EbsdMap.grainList[ebsdGrainId].plotMisOri()"
   ]
  },
  {
   "cell_type": "markdown",
   "metadata": {},
   "source": [
    "### Plot max shear for isolated grain with slip traces"
   ]
  },
  {
   "cell_type": "code",
   "execution_count": null,
   "metadata": {
    "collapsed": true
   },
   "outputs": [],
   "source": [
    "DicMap.grainList[DicMap.currGrainId].calcSlipTraces()\n",
    "DicMap.grainList[DicMap.currGrainId].plotMaxShear(plotSlipTraces=True)"
   ]
  },
  {
   "cell_type": "markdown",
   "metadata": {},
   "source": [
    "### Plot boundaries without crop to see rotation"
   ]
  },
  {
   "cell_type": "code",
   "execution_count": null,
   "metadata": {},
   "outputs": [],
   "source": [
    "plt.figure()\n",
    "\n",
    "warpedBoundaries = tf.warp(-DicMap.ebsdMap.boundaries.astype(float), DicMap.ebsdTransform) > 0.1\n",
    "\n",
    "warpedBoundaries = -warpedBoundaries.astype(int)\n",
    "\n",
    "plt.imshow(warpedBoundaries, cmap=\"gray\")"
   ]
  },
  {
   "cell_type": "code",
   "execution_count": null,
   "metadata": {
    "collapsed": true
   },
   "outputs": [],
   "source": []
  },
  {
   "cell_type": "code",
   "execution_count": null,
   "metadata": {
    "collapsed": true
   },
   "outputs": [],
   "source": []
  },
  {
   "cell_type": "code",
   "execution_count": null,
   "metadata": {
    "collapsed": true
   },
   "outputs": [],
   "source": [
    "#Error in euler angles due to rotation of frame. Could correct the orientations or move DIC to ebsd frame.\n",
    "#Things to do:\n",
    "#-Sort crop out\n",
    "#-Negative shifts\n",
    "#-Tool for setting homog points\n",
    "#-Calculate slip band plane spacing using angle of planes into sample\n",
    "#-Define homog points on speckle image\n",
    "#-Correct euler angles after warping (done)"
   ]
  }
 ],
 "metadata": {
  "kernelspec": {
   "display_name": "Python 3",
   "language": "python",
   "name": "python3"
  },
  "language_info": {
   "codemirror_mode": {
    "name": "ipython",
    "version": 3
   },
   "file_extension": ".py",
   "mimetype": "text/x-python",
   "name": "python",
   "nbconvert_exporter": "python",
   "pygments_lexer": "ipython3",
   "version": "3.6.1"
  },
  "toc": {
   "nav_menu": {},
   "number_sections": true,
   "sideBar": true,
   "skip_h1_title": false,
   "toc_cell": false,
   "toc_position": {},
   "toc_section_display": "block",
   "toc_window_display": false
  }
 },
 "nbformat": 4,
 "nbformat_minor": 1
}
