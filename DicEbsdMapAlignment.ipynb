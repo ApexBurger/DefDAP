{
 "cells": [
  {
   "cell_type": "markdown",
   "metadata": {},
   "source": [
    "## Example workbook for DIC <-> EBSD linking"
   ]
  },
  {
   "cell_type": "code",
   "execution_count": 1,
   "metadata": {
    "collapsed": true
   },
   "outputs": [],
   "source": [
    "# Load third-party packages\n",
    "import numpy as np\n",
    "%matplotlib qt\n",
    "import matplotlib.pyplot as plt\n",
    "\n",
    "# Load quat, ebsd and hrdic packages from defdap package\n",
    "from defdap.quat import Quat\n",
    "import defdap.ebsd as ebsd\n",
    "import defdap.hrdic as hrdic"
   ]
  },
  {
   "cell_type": "markdown",
   "metadata": {},
   "source": [
    "### Load in and display DIC map"
   ]
  },
  {
   "cell_type": "code",
   "execution_count": 2,
   "metadata": {},
   "outputs": [
    {
     "name": "stdout",
     "output_type": "stream",
     "text": [
      "Loaded DaVis 8.1.5 data (dimensions: 586 x 510 pixels, sub-window size: 12 x 12 pixels)\n"
     ]
    }
   ],
   "source": [
    "#Load in DIC map\n",
    "DicFilePath = \"example_data/\"\n",
    "DicMap = hrdic.Map(DicFilePath, \"B00005.txt\")\n",
    "\n",
    "#Set crop\n",
    "DicMap.setCrop(xMin=15, xMax=28, yMin=30, yMax=15)"
   ]
  },
  {
   "cell_type": "code",
   "execution_count": 3,
   "metadata": {
    "collapsed": true
   },
   "outputs": [],
   "source": [
    "DicMap.setScale(micrometrePerPixel=0.02)"
   ]
  },
  {
   "cell_type": "code",
   "execution_count": 4,
   "metadata": {
    "collapsed": true
   },
   "outputs": [
    {
     "data": {
      "text/plain": [
       "<defdap.plotting.MapPlot at 0x11bc08518>"
      ]
     },
     "execution_count": 4,
     "metadata": {},
     "output_type": "execute_result"
    }
   ],
   "source": [
    "# Display max shear map\n",
    "DicMap.plotMaxShear(plotColourBar=True, plotScaleBar=True, vmin=0, vmax=0.1)"
   ]
  },
  {
   "cell_type": "markdown",
   "metadata": {},
   "source": [
    "### Print stats table"
   ]
  },
  {
   "cell_type": "code",
   "execution_count": 5,
   "metadata": {},
   "outputs": [
    {
     "name": "stdout",
     "output_type": "stream",
     "text": [
      "\u001b[1mDicMap (dimensions: 543 x 465 pixels, sub-window size: 12 x 12 pixels, number of points: 252495)\n",
      "\n",
      "Component\tMin\tP5\tMean\tP95\tMax\t\u001b[0m\n",
      "mss\t\t0.01\t0.39\t1.95\t4.39\t12.74\t\n",
      "f11\t\t-9.26\t-0.34\t2.13\t5.15\t16.30\t\n",
      "f22\t\t-13.78\t-3.77\t-1.10\t0.88\t7.63\t\n",
      "\n"
     ]
    }
   ],
   "source": [
    "DicMap.printStatsTable(percentiles=['Min', 5, 'Mean', 95,'Max'], components = ['mss', 'f11', 'f22'])"
   ]
  },
  {
   "cell_type": "markdown",
   "metadata": {},
   "source": [
    "### Effective shear strain histogram"
   ]
  },
  {
   "cell_type": "code",
   "execution_count": 6,
   "metadata": {
    "collapsed": true
   },
   "outputs": [],
   "source": [
    "histData = DicMap.crop(DicMap.max_shear).flatten()\n",
    "\n",
    "fig, ax = plt.subplots(1)\n",
    "\n",
    "counts, bins, bars = ax.hist(histData, bins=np.linspace(0,0.1,100), color='r', histtype='step')\n",
    "\n",
    "ax.set_xlabel(\"Effective shear strain\")\n",
    "ax.set_ylabel(\"Frequency\")\n",
    "\n",
    "fig.show()"
   ]
  },
  {
   "cell_type": "markdown",
   "metadata": {},
   "source": [
    "### Load in EBSD map then calculate local misorientation and display it"
   ]
  },
  {
   "cell_type": "code",
   "execution_count": 7,
   "metadata": {},
   "outputs": [
    {
     "name": "stdout",
     "output_type": "stream",
     "text": [
      "Loaded EBSD data (dimensions: 1006 x 996 pixels, step size: 0.1 um)\n",
      "Done                                               "
     ]
    }
   ],
   "source": [
    "# Load in EBSD map\n",
    "EbsdFilePath = \"example_data/Map Data 2-DIC area\"\n",
    "EbsdMap = ebsd.Map(EbsdFilePath, \"cubic\")\n",
    "\n",
    "# Load in slip system definitions (optional)\n",
    "EbsdMap.loadSlipSystems(\"cubic_FCC\")\n",
    "\n",
    "# Rotate the map 180 degrees if necessary\n",
    "EbsdMap.transformData()\n",
    "\n",
    "# Create the internal array of quaternions for orientation calculations\n",
    "EbsdMap.buildQuatArray()\n",
    "\n",
    "# Find boundaries with given misorientation tolerance (in degrees)\n",
    "EbsdMap.findBoundaries(boundDef = 6)\n",
    "\n",
    "# Find grains, minGrainSize is the minimum number of pixels for a grain\n",
    "EbsdMap.findGrains(minGrainSize = 10)\n",
    "\n",
    "# Calculate grain local misorientation (Grain Reference Orientation Deviation (GROD) w.r.t grain mean orientations)\n",
    "EbsdMap.calcGrainMisOri(calcAxis = True)"
   ]
  },
  {
   "cell_type": "code",
   "execution_count": 8,
   "metadata": {
    "collapsed": true
   },
   "outputs": [
    {
     "data": {
      "text/plain": [
       "<defdap.plotting.MapPlot at 0x1c2a9dfef0>"
      ]
     },
     "execution_count": 8,
     "metadata": {},
     "output_type": "execute_result"
    }
   ],
   "source": [
    "EbsdMap.plotEulerMap()"
   ]
  },
  {
   "cell_type": "code",
   "execution_count": 9,
   "metadata": {
    "collapsed": true
   },
   "outputs": [
    {
     "data": {
      "text/plain": [
       "<defdap.plotting.MapPlot at 0x1c2a9c6898>"
      ]
     },
     "execution_count": 9,
     "metadata": {},
     "output_type": "execute_result"
    }
   ],
   "source": [
    "EbsdMap.plotMisOriMap(plotGBs=True, vmin=0, vmax=4)"
   ]
  },
  {
   "cell_type": "markdown",
   "metadata": {},
   "source": [
    "### Plot IPF of all grains mean orientation"
   ]
  },
  {
   "cell_type": "code",
   "execution_count": 10,
   "metadata": {
    "collapsed": true
   },
   "outputs": [
    {
     "data": {
      "text/plain": [
       "<defdap.plotting.PolePlot at 0x1c3fb069b0>"
      ]
     },
     "execution_count": 10,
     "metadata": {},
     "output_type": "execute_result"
    }
   ],
   "source": [
    "# Calculate grain mean orientations (but is already done here as part of calcGrainMisOri above)\n",
    "# EbsdMap.calcGrainAvOris()\n",
    "\n",
    "grainMeanOris = [grain.refOri for grain in EbsdMap]\n",
    "refDir = np.array([1, 0, 0])\n",
    "\n",
    "Quat.plotIPF(grainMeanOris, refDir, EbsdMap.crystalSym)"
   ]
  },
  {
   "cell_type": "markdown",
   "metadata": {},
   "source": [
    "### Find a grain of interest (click around the map)"
   ]
  },
  {
   "cell_type": "code",
   "execution_count": 11,
   "metadata": {
    "collapsed": true
   },
   "outputs": [
    {
     "data": {
      "text/plain": [
       "<defdap.plotting.MapPlot at 0x1c3fa3f668>"
      ]
     },
     "execution_count": 11,
     "metadata": {},
     "output_type": "execute_result"
    },
    {
     "name": "stdout",
     "output_type": "stream",
     "text": [
      "Grain ID: 302\n",
      "Grain ID: 334\n",
      "Grain ID: 123\n"
     ]
    }
   ],
   "source": [
    "EbsdMap.locateGrainID()"
   ]
  },
  {
   "cell_type": "markdown",
   "metadata": {},
   "source": [
    "### Plot misorientation and IPF for isolated grain"
   ]
  },
  {
   "cell_type": "code",
   "execution_count": 12,
   "metadata": {
    "collapsed": true
   },
   "outputs": [],
   "source": [
    "currEbsdGrain = EbsdMap[EbsdMap.currGrainId]"
   ]
  },
  {
   "cell_type": "code",
   "execution_count": 13,
   "metadata": {
    "collapsed": true
   },
   "outputs": [
    {
     "data": {
      "text/plain": [
       "<defdap.plotting.GrainPlot at 0x1c3f8e6d30>"
      ]
     },
     "execution_count": 13,
     "metadata": {},
     "output_type": "execute_result"
    }
   ],
   "source": [
    "currEbsdGrain.plotMisOri()"
   ]
  },
  {
   "cell_type": "code",
   "execution_count": 14,
   "metadata": {
    "collapsed": true
   },
   "outputs": [
    {
     "data": {
      "text/plain": [
       "<defdap.plotting.GrainPlot at 0x1c3f3bbfd0>"
      ]
     },
     "execution_count": 14,
     "metadata": {},
     "output_type": "execute_result"
    }
   ],
   "source": [
    "currEbsdGrain.plotMisOri(component=3)"
   ]
  },
  {
   "cell_type": "code",
   "execution_count": 15,
   "metadata": {
    "collapsed": true
   },
   "outputs": [
    {
     "data": {
      "text/plain": [
       "<defdap.plotting.PolePlot at 0x1c3f16da58>"
      ]
     },
     "execution_count": 15,
     "metadata": {},
     "output_type": "execute_result"
    }
   ],
   "source": [
    "plot = currEbsdGrain.plotOriSpread(direction=refDir, c='b', s=1, alpha=0.2)\n",
    "currEbsdGrain.plotRefOri(direction=refDir, c='k', s=100, plot=plot)"
   ]
  },
  {
   "cell_type": "markdown",
   "metadata": {},
   "source": [
    "### Plot phase map"
   ]
  },
  {
   "cell_type": "code",
   "execution_count": 16,
   "metadata": {
    "collapsed": true
   },
   "outputs": [
    {
     "data": {
      "text/plain": [
       "<defdap.plotting.MapPlot at 0x1c3f064a58>"
      ]
     },
     "execution_count": 16,
     "metadata": {},
     "output_type": "execute_result"
    }
   ],
   "source": [
    "EbsdMap.plotPhaseMap()"
   ]
  },
  {
   "cell_type": "markdown",
   "metadata": {},
   "source": [
    "## Link EBSD map to DIC map"
   ]
  },
  {
   "cell_type": "markdown",
   "metadata": {},
   "source": [
    "### Define homologous points"
   ]
  },
  {
   "cell_type": "code",
   "execution_count": 18,
   "metadata": {
    "collapsed": true
   },
   "outputs": [],
   "source": [
    "# Example of use of interactive tool coming soon..."
   ]
  },
  {
   "cell_type": "code",
   "execution_count": 17,
   "metadata": {
    "collapsed": true
   },
   "outputs": [],
   "source": [
    "# Set homologous points   (x, y)\n",
    "DicMap.homogPoints = np.array((\n",
    "    (303, 408), (120, 392), (275, 25)\n",
    "))\n",
    "\n",
    "EbsdMap.homogPoints = np.array((\n",
    "    (536, 776), (236, 790), (466, 160)\n",
    "))"
   ]
  },
  {
   "cell_type": "markdown",
   "metadata": {},
   "source": [
    "### Display map with homologous points"
   ]
  },
  {
   "cell_type": "code",
   "execution_count": 18,
   "metadata": {
    "collapsed": true
   },
   "outputs": [
    {
     "data": {
      "text/plain": [
       "<matplotlib.collections.PathCollection at 0x1c3d3a24e0>"
      ]
     },
     "execution_count": 18,
     "metadata": {},
     "output_type": "execute_result"
    }
   ],
   "source": [
    "EbsdMap.plotBoundaryMap()\n",
    "plt.scatter(x=EbsdMap.homogPoints[:, 0], y=EbsdMap.homogPoints[:, 1], c='y', s=60)"
   ]
  },
  {
   "cell_type": "code",
   "execution_count": 19,
   "metadata": {
    "collapsed": true
   },
   "outputs": [
    {
     "data": {
      "text/plain": [
       "<matplotlib.collections.PathCollection at 0x1c3d0ca320>"
      ]
     },
     "execution_count": 19,
     "metadata": {},
     "output_type": "execute_result"
    }
   ],
   "source": [
    "DicMap.plotMaxShear()\n",
    "plt.scatter(x=DicMap.homogPoints[:, 0], y=DicMap.homogPoints[:, 1], c='y', s=60)"
   ]
  },
  {
   "cell_type": "markdown",
   "metadata": {},
   "source": [
    "### Link the EBSD and DIC map"
   ]
  },
  {
   "cell_type": "code",
   "execution_count": 20,
   "metadata": {
    "collapsed": true
   },
   "outputs": [],
   "source": [
    "DicMap.linkEbsdMap(EbsdMap)"
   ]
  },
  {
   "cell_type": "markdown",
   "metadata": {},
   "source": [
    "### Plot max shear with boundaries"
   ]
  },
  {
   "cell_type": "code",
   "execution_count": 21,
   "metadata": {
    "collapsed": true
   },
   "outputs": [
    {
     "data": {
      "text/plain": [
       "<defdap.plotting.MapPlot at 0x1c3d3a2240>"
      ]
     },
     "execution_count": 21,
     "metadata": {},
     "output_type": "execute_result"
    }
   ],
   "source": [
    "DicMap.plotMaxShear(plotGBs=True, plotColourBar=True, plotScaleBar=True, vmin=0, vmax=0.1)"
   ]
  },
  {
   "cell_type": "markdown",
   "metadata": {},
   "source": [
    "### Detect grains in the DIC map"
   ]
  },
  {
   "cell_type": "code",
   "execution_count": 22,
   "metadata": {
    "collapsed": true
   },
   "outputs": [
    {
     "name": "stdout",
     "output_type": "stream",
     "text": [
      "Done                                               "
     ]
    }
   ],
   "source": [
    "DicMap.findGrains(minGrainSize=10)"
   ]
  },
  {
   "cell_type": "markdown",
   "metadata": {},
   "source": [
    "### Locate a grain of interest (click around)"
   ]
  },
  {
   "cell_type": "code",
   "execution_count": 25,
   "metadata": {
    "collapsed": true
   },
   "outputs": [
    {
     "data": {
      "text/plain": [
       "<defdap.plotting.MapPlot at 0x1c3c7c32e8>"
      ]
     },
     "execution_count": 25,
     "metadata": {},
     "output_type": "execute_result"
    },
    {
     "name": "stdout",
     "output_type": "stream",
     "text": [
      "Grain ID: 154\n",
      "Number of bands detected: 1\n",
      "Grain ID: 53\n",
      "Number of bands detected: 3\n",
      "Grain ID: 155\n",
      "Number of bands detected: 1\n"
     ]
    }
   ],
   "source": [
    "DicMap.locateGrainID(displaySelected=True)\n",
    "# displaySelected will show the selcted grain in a separate figure window"
   ]
  },
  {
   "cell_type": "markdown",
   "metadata": {},
   "source": [
    "### Plot max shear for isolated grain"
   ]
  },
  {
   "cell_type": "code",
   "execution_count": 26,
   "metadata": {
    "collapsed": true
   },
   "outputs": [],
   "source": [
    "currDicGrain = DicMap[DicMap.currGrainId]"
   ]
  },
  {
   "cell_type": "code",
   "execution_count": 27,
   "metadata": {
    "collapsed": true
   },
   "outputs": [
    {
     "data": {
      "text/plain": [
       "<defdap.plotting.GrainPlot at 0x1c3b87bc18>"
      ]
     },
     "execution_count": 27,
     "metadata": {},
     "output_type": "execute_result"
    }
   ],
   "source": [
    "currDicGrain.plotMaxShear()"
   ]
  },
  {
   "cell_type": "markdown",
   "metadata": {},
   "source": [
    "### Plot a histogram of it"
   ]
  },
  {
   "cell_type": "code",
   "execution_count": 28,
   "metadata": {
    "collapsed": true
   },
   "outputs": [
    {
     "data": {
      "text/plain": [
       "Text(0, 0.5, 'Frequency')"
      ]
     },
     "execution_count": 28,
     "metadata": {},
     "output_type": "execute_result"
    }
   ],
   "source": [
    "plt.figure()\n",
    "\n",
    "plt.hist(currDicGrain.maxShearList, bins=100, histtype='step');\n",
    "\n",
    "plt.xlabel(\"Effective shear strain\")\n",
    "plt.ylabel(\"Frequency\")"
   ]
  },
  {
   "cell_type": "markdown",
   "metadata": {},
   "source": [
    "### Plot misorientation for isolated grain"
   ]
  },
  {
   "cell_type": "code",
   "execution_count": 29,
   "metadata": {
    "collapsed": true
   },
   "outputs": [],
   "source": [
    "ebsdGrainId = DicMap.ebsdGrainIds[DicMap.currGrainId]\n",
    "currEbsdGrain = EbsdMap[ebsdGrainId]"
   ]
  },
  {
   "cell_type": "code",
   "execution_count": 30,
   "metadata": {
    "collapsed": true
   },
   "outputs": [
    {
     "data": {
      "text/plain": [
       "<defdap.plotting.GrainPlot at 0x1c3b523780>"
      ]
     },
     "execution_count": 30,
     "metadata": {},
     "output_type": "execute_result"
    }
   ],
   "source": [
    "currEbsdGrain.plotMisOri()"
   ]
  },
  {
   "cell_type": "markdown",
   "metadata": {},
   "source": [
    "### Plot max shear for isolated grain with slip traces"
   ]
  },
  {
   "cell_type": "code",
   "execution_count": 31,
   "metadata": {
    "collapsed": true
   },
   "outputs": [
    {
     "data": {
      "text/plain": [
       "<defdap.plotting.GrainPlot at 0x1c3aeeff60>"
      ]
     },
     "execution_count": 31,
     "metadata": {},
     "output_type": "execute_result"
    }
   ],
   "source": [
    "currDicGrain.calcSlipTraces()\n",
    "currDicGrain.plotMaxShear(plotSlipTraces=True)"
   ]
  },
  {
   "cell_type": "code",
   "execution_count": null,
   "metadata": {
    "collapsed": true
   },
   "outputs": [],
   "source": []
  }
 ],
 "metadata": {
  "kernelspec": {
   "display_name": "Python 3",
   "language": "python",
   "name": "python3"
  },
  "language_info": {
   "codemirror_mode": {
    "name": "ipython",
    "version": 3
   },
   "file_extension": ".py",
   "mimetype": "text/x-python",
   "name": "python",
   "nbconvert_exporter": "python",
   "pygments_lexer": "ipython3",
   "version": "3.6.3"
  },
  "toc": {
   "nav_menu": {},
   "number_sections": true,
   "sideBar": true,
   "skip_h1_title": false,
   "toc_cell": false,
   "toc_position": {},
   "toc_section_display": "block",
   "toc_window_display": false
  }
 },
 "nbformat": 4,
 "nbformat_minor": 2
}
