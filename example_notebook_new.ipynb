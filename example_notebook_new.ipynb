{
 "cells": [
  {
   "cell_type": "markdown",
   "metadata": {},
   "source": [
    "# DefDAP example notebook\n",
    "This notebook will outline basic usage of DefDAP"
   ]
  },
  {
   "cell_type": "markdown",
   "metadata": {},
   "source": [
    "## Load in packages"
   ]
  },
  {
   "cell_type": "markdown",
   "metadata": {},
   "source": [
    "DefDAP is split into modules for processing EBSD and HRDIC. There are also mudules for manpulating orientations (defdap.quat) and creating custom figures (defdap.plotting) which is introduced later. We also import some of the usual suspects of the python scienctific stack, numpy and matplotlib."
   ]
  },
  {
   "cell_type": "code",
   "execution_count": 31,
   "metadata": {},
   "outputs": [],
   "source": [
    "import numpy as np\n",
    "import matplotlib.pyplot as plt\n",
    "\n",
    "import defdap.hrdic as hrdic\n",
    "import defdap.ebsd as ebsd\n",
    "from defdap.quat import Quat\n",
    "\n",
    "# try tk, qt, osx (if using mac) or notebook for interactive plots. If none work, use inline\n",
    "%matplotlib tk"
   ]
  },
  {
   "cell_type": "markdown",
   "metadata": {},
   "source": [
    "## Load in a HRDIC map"
   ]
  },
  {
   "cell_type": "code",
   "execution_count": 6,
   "metadata": {},
   "outputs": [
    {
     "name": "stdout",
     "output_type": "stream",
     "text": [
      "Loaded DaVis 8.4.0 data (dimensions: 300 x 200 pixels, sub-window size: 12 x 12 pixels)\n"
     ]
    }
   ],
   "source": [
    "dicFilePath = \"tests/data/\"\n",
    "dicMap = hrdic.Map(dicFilePath, \"testDataDIC.txt\")"
   ]
  },
  {
   "cell_type": "markdown",
   "metadata": {},
   "source": [
    "### Set the scale of the map\n",
    "This is read as the pixel size in the DIC pattern images."
   ]
  },
  {
   "cell_type": "code",
   "execution_count": 7,
   "metadata": {},
   "outputs": [],
   "source": [
    "fieldWidth = 20 # microns\n",
    "numPixels = 2048\n",
    "pixelSize = fieldWidth / numPixels\n",
    "\n",
    "dicMap.setScale(pixelSize)"
   ]
  },
  {
   "cell_type": "markdown",
   "metadata": {},
   "source": [
    "### Plot the map with a scale bar"
   ]
  },
  {
   "cell_type": "code",
   "execution_count": 8,
   "metadata": {},
   "outputs": [
    {
     "data": {
      "text/plain": [
       "<defdap.plotting.MapPlot at 0x1c1fdf2590>"
      ]
     },
     "execution_count": 8,
     "metadata": {},
     "output_type": "execute_result"
    }
   ],
   "source": [
    "dicMap.plotMaxShear(vmin=0, vmax=0.10, plotScaleBar=True)"
   ]
  },
  {
   "cell_type": "markdown",
   "metadata": {},
   "source": [
    "### Crop the map\n",
    "HRDIC maps often contain spurious data at the edges which should be removed before performing any analysis. The crop is defined by the number of points to remove from each edge of the map, where xMin, xMax, yMin and yMax are the left, right, top and bottom edges respectively. Note that the test data doesn not require cropping as it is a subset of a larger dataset."
   ]
  },
  {
   "cell_type": "code",
   "execution_count": 10,
   "metadata": {},
   "outputs": [],
   "source": [
    "dicMap.setCrop(xMin=0, xMax=0, yMin=0, yMax=0)"
   ]
  },
  {
   "cell_type": "markdown",
   "metadata": {},
   "source": [
    "### Set the location of the DIC pattern images  \n",
    "The pattern images are used later to define the position of homologous material points. The path is relative to the directory set when loading in the map. The second parameter is the pixel binning factor of the image relative to the DIC sub-region size i.e. the number of pixels in the image across a single datapoint in the DIC map. We recommend binning the pattern images by the same factor as the DIC sub-region size, doing so enhances the contrast between microstructure features."
   ]
  },
  {
   "cell_type": "code",
   "execution_count": 11,
   "metadata": {},
   "outputs": [],
   "source": [
    "# set the path of the pattern image, this is relative to the location of the DIC data file\n",
    "dicMap.setPatternPath(\"testDataPat.bmp\", 1)"
   ]
  },
  {
   "cell_type": "markdown",
   "metadata": {},
   "source": [
    "## Load in an EBSD map\n",
    "Set the crystal symmetry and (optially) load in a set of slip systems defined in files stroed in the directory defdap/slip_systems by default. The orientation in the EBSD are converted to a quaternion representation so calculation can be applied later"
   ]
  },
  {
   "cell_type": "code",
   "execution_count": 12,
   "metadata": {},
   "outputs": [
    {
     "name": "stdout",
     "output_type": "stream",
     "text": [
      "Loaded EBSD data (dimensions: 359 x 243 pixels, step size: 0.12 um)\n",
      "Finished building quaternion array           \n"
     ]
    }
   ],
   "source": [
    "ebsdFilePath = \"tests/data/testDataEBSD\"\n",
    "crystalSymmetry = \"cubic\"\n",
    "\n",
    "ebsdMap = ebsd.Map(ebsdFilePath, crystalSymmetry)\n",
    "ebsdMap.loadSlipSystems(\"cubic_fcc\")\n",
    "ebsdMap.buildQuatArray()"
   ]
  },
  {
   "cell_type": "markdown",
   "metadata": {},
   "source": [
    "### Plot the EBSD map\n",
    "Using an Euler colour mapping or inverse pole figure colouring with the sample reference direction passed as a vector."
   ]
  },
  {
   "cell_type": "code",
   "execution_count": 15,
   "metadata": {},
   "outputs": [
    {
     "data": {
      "text/plain": [
       "<defdap.plotting.MapPlot at 0x1c2674ae10>"
      ]
     },
     "execution_count": 15,
     "metadata": {},
     "output_type": "execute_result"
    }
   ],
   "source": [
    "ebsdMap.plotEulerMap(plotScaleBar=True)"
   ]
  },
  {
   "cell_type": "code",
   "execution_count": 16,
   "metadata": {},
   "outputs": [
    {
     "data": {
      "text/plain": [
       "<defdap.plotting.MapPlot at 0x1c26304e10>"
      ]
     },
     "execution_count": 16,
     "metadata": {},
     "output_type": "execute_result"
    }
   ],
   "source": [
    "ebsdMap.plotIPFMap([1,0,0], plotScaleBar=True)"
   ]
  },
  {
   "cell_type": "markdown",
   "metadata": {},
   "source": [
    "### Detect grains in the EBSD\n",
    "This is done in two stages: first bounaries are detected in the map as any point with a misorientation to a neighbouring point greater than a critical value (boundDef in degrees). A flood fill type algorithm is then applied to segment the map into grains, with any grains containining fewer than a critical number of pixels removed (minGrainSize in pixels). The data e.g. orientations associated with each grain are then stored (referenced strictly, the data isn't stored twice) in a grain object and a list of the grains is stored in the EBSD map (named grainList). This allows analysis routines to be applied to each grain in a map in turn."
   ]
  },
  {
   "cell_type": "code",
   "execution_count": 18,
   "metadata": {},
   "outputs": [
    {
     "name": "stdout",
     "output_type": "stream",
     "text": [
      "Finished finding grain boundaries           \n",
      "Finished finding grains           \n"
     ]
    }
   ],
   "source": [
    "ebsdMap.findBoundaries(boundDef=8)\n",
    "ebsdMap.findGrains(minGrainSize=10)"
   ]
  },
  {
   "cell_type": "markdown",
   "metadata": {},
   "source": [
    "### Single grain analysis\n",
    "The 'locateGrainID' method allows interactive selection of a grain of intereset to apply any analysis to. Clicking on grains in the map will highlight the grain and print out the grain ID (position in the grain list) of the grain."
   ]
  },
  {
   "cell_type": "code",
   "execution_count": 22,
   "metadata": {},
   "outputs": [
    {
     "data": {
      "text/plain": [
       "<defdap.plotting.MapPlot at 0x1c26501390>"
      ]
     },
     "execution_count": 22,
     "metadata": {},
     "output_type": "execute_result"
    },
    {
     "name": "stdout",
     "output_type": "stream",
     "text": [
      "Grain ID: 48\n"
     ]
    }
   ],
   "source": [
    "ebsdMap.locateGrainID()"
   ]
  },
  {
   "cell_type": "markdown",
   "metadata": {},
   "source": [
    "A built-in example is to calculate the average orientation of the grain and plot this orientatioan in a IPF"
   ]
  },
  {
   "cell_type": "code",
   "execution_count": 26,
   "metadata": {},
   "outputs": [
    {
     "name": "stdout",
     "output_type": "stream",
     "text": [
      "[0.8385, -0.0156, 0.2253, 0.4960]\n"
     ]
    },
    {
     "data": {
      "text/plain": [
       "<defdap.plotting.PolePlot at 0x1c2afcd490>"
      ]
     },
     "execution_count": 26,
     "metadata": {},
     "output_type": "execute_result"
    }
   ],
   "source": [
    "grainID = 48\n",
    "grain = ebsdMap[grainID]\n",
    "grain.calcAverageOri()  # stored as a quaternion named graian.refOri\n",
    "print(grain.refOri)\n",
    "grain.plotRefOri(direction=[0, 0, 1])"
   ]
  },
  {
   "cell_type": "markdown",
   "metadata": {},
   "source": [
    "A second built-in example is to calcuate the grain misorientation, specifically the grain reference orientation deviation (GROD). This shows another feature of the 'locateGrainID' method, which stores the ID of the last selected grain in a variable called currGrainId in the EBSD map."
   ]
  },
  {
   "cell_type": "code",
   "execution_count": 29,
   "metadata": {},
   "outputs": [
    {
     "data": {
      "text/plain": [
       "<defdap.plotting.GrainPlot at 0x1c2b82e310>"
      ]
     },
     "execution_count": 29,
     "metadata": {},
     "output_type": "execute_result"
    }
   ],
   "source": [
    "grain = ebsdMap[ebsdMap.currGrainId]\n",
    "grain.buildMisOriList()\n",
    "grain.plotMisOri(plotScaleBar=True, vmin=0, vmax=5)"
   ]
  },
  {
   "cell_type": "markdown",
   "metadata": {},
   "source": [
    "### Multi grain analysis\n",
    "Once an analysis routine has been prototyped for a single grain it can be applied to all the grains in a map using a loop over the grains and any results added to a list for use later. Of couse you could also apply to a smaller subset of grains as well."
   ]
  },
  {
   "cell_type": "code",
   "execution_count": 32,
   "metadata": {},
   "outputs": [
    {
     "data": {
      "text/plain": [
       "<defdap.plotting.PolePlot at 0x1c2afd8fd0>"
      ]
     },
     "execution_count": 32,
     "metadata": {},
     "output_type": "execute_result"
    }
   ],
   "source": [
    "grainAvOris = []\n",
    "for grain in ebsdMap:\n",
    "    grain.calcAverageOri()\n",
    "    grainAvOris.append(grain.refOri)\n",
    "\n",
    "# Plot all the grain orientations in the map\n",
    "Quat.plotIPF(grainAvOris, [0, 0, 1], ebsdMap.crystalSym, marker='o', s=10)\n",
    "plt.tight_layout()"
   ]
  },
  {
   "cell_type": "markdown",
   "metadata": {},
   "source": [
    "Some common grain analysis routines are built into the EBSD map object, including:"
   ]
  },
  {
   "cell_type": "code",
   "execution_count": 33,
   "metadata": {},
   "outputs": [
    {
     "name": "stdout",
     "output_type": "stream",
     "text": [
      "Finished calculating grain mean orientations           \n"
     ]
    }
   ],
   "source": [
    "ebsdMap.calcGrainAvOris()"
   ]
  },
  {
   "cell_type": "code",
   "execution_count": 34,
   "metadata": {},
   "outputs": [
    {
     "name": "stdout",
     "output_type": "stream",
     "text": [
      "Finished calculating grain misorientations           \n"
     ]
    }
   ],
   "source": [
    "ebsdMap.calcGrainMisOri()\n",
    "ebsdMap.plotMisOriMap(vmin=0, vmax=5, plotGBs=True, plotScaleBar=True)"
   ]
  },
  {
   "cell_type": "markdown",
   "metadata": {},
   "source": [
    "There are also methods for plotting KAM, GND density, phases and boundaries. All of the plotting functions in DefDAP use the same parameters to modify the plot, examples seen so far are 'plotGBs', 'plotScaleBar', 'vmin', 'vmax'."
   ]
  },
  {
   "cell_type": "markdown",
   "metadata": {},
   "source": [
    "## Liking the HRDIC and EBSD\n",
    "### Define homologous points\n",
    "To register the two datasets, homologous points (points at the same material location) within each map are used to estimate a transformation between the two frames the data are defined in. The homologous points are selected manually using an interactive tool within DefDAP."
   ]
  },
  {
   "cell_type": "code",
   "execution_count": 45,
   "metadata": {},
   "outputs": [],
   "source": [
    "dicMap.setHomogPoint(display=\"pattern\")"
   ]
  },
  {
   "cell_type": "code",
   "execution_count": 42,
   "metadata": {},
   "outputs": [],
   "source": [
    "ebsdMap.setHomogPoint()"
   ]
  },
  {
   "cell_type": "code",
   "execution_count": 16,
   "metadata": {},
   "outputs": [
    {
     "data": {
      "text/plain": [
       "[(44, 63), (63, 158), (273, 136), (279, 26)]"
      ]
     },
     "execution_count": 16,
     "metadata": {},
     "output_type": "execute_result"
    }
   ],
   "source": [
    "dicMap.homogPoints"
   ]
  },
  {
   "cell_type": "code",
   "execution_count": 18,
   "metadata": {},
   "outputs": [
    {
     "data": {
      "text/plain": [
       "[(73, 89), (88, 175), (302, 148), (308, 45)]"
      ]
     },
     "execution_count": 18,
     "metadata": {},
     "output_type": "execute_result"
    }
   ],
   "source": [
    "ebsdMap.homogPoints"
   ]
  },
  {
   "cell_type": "code",
   "execution_count": 17,
   "metadata": {},
   "outputs": [],
   "source": [
    "dicMap.homogPoints = [\n",
    "    (36, 72), \n",
    "    (279, 27), \n",
    "    (162, 174), \n",
    "    (60, 157)\n",
    "]"
   ]
  },
  {
   "cell_type": "code",
   "execution_count": 18,
   "metadata": {},
   "outputs": [],
   "source": [
    "ebsdMap.homogPoints = [\n",
    "    (68, 95), \n",
    "    (308, 45), \n",
    "    (191, 187), \n",
    "    (89, 174)\n",
    "]"
   ]
  },
  {
   "cell_type": "code",
   "execution_count": 20,
   "metadata": {},
   "outputs": [],
   "source": [
    "dicMap.linkEbsdMap(ebsdMap, transformType=\"affine\")\n",
    "# dicMap.linkEbsdMap(ebsdMap, transformType=\"polynomial\", order=1)"
   ]
  },
  {
   "cell_type": "markdown",
   "metadata": {},
   "source": [
    "### Show the transformation"
   ]
  },
  {
   "cell_type": "code",
   "execution_count": 43,
   "metadata": {},
   "outputs": [
    {
     "data": {
      "text/plain": [
       "<matplotlib.image.AxesImage at 0x1c29771710>"
      ]
     },
     "execution_count": 43,
     "metadata": {},
     "output_type": "execute_result"
    }
   ],
   "source": [
    "from skimage import transform as tf\n",
    "\n",
    "data = np.zeros((2000, 2000), dtype=float)\n",
    "data[500:1500, 500:1500] = 1.\n",
    "dataWarped = tf.warp(data, dicMap.ebsdTransform)\n",
    "\n",
    "fig, (ax1, ax2) = plt.subplots(1, 2)\n",
    "ax1.imshow(data)\n",
    "ax2.imshow(dataWarped)"
   ]
  },
  {
   "cell_type": "code",
   "execution_count": 22,
   "metadata": {},
   "outputs": [
    {
     "name": "stdout",
     "output_type": "stream",
     "text": [
      "Done                                               "
     ]
    }
   ],
   "source": [
    "dicMap.findGrains(minGrainSize=10)"
   ]
  },
  {
   "cell_type": "code",
   "execution_count": 23,
   "metadata": {},
   "outputs": [
    {
     "data": {
      "text/plain": [
       "<defdap.plotting.MapPlot at 0x1c25b9f1d0>"
      ]
     },
     "execution_count": 23,
     "metadata": {},
     "output_type": "execute_result"
    }
   ],
   "source": [
    "dicMap.plotMaxShear(vmin=0, vmax=0.1, plotScaleBar=True, plotGBs=True)"
   ]
  },
  {
   "cell_type": "code",
   "execution_count": null,
   "metadata": {},
   "outputs": [],
   "source": []
  },
  {
   "cell_type": "code",
   "execution_count": null,
   "metadata": {},
   "outputs": [],
   "source": []
  },
  {
   "cell_type": "markdown",
   "metadata": {},
   "source": [
    "### Built-in plots"
   ]
  },
  {
   "cell_type": "code",
   "execution_count": 40,
   "metadata": {},
   "outputs": [],
   "source": [
    "plot = dicMap.plotMaxShear(\n",
    "    vmin=0, vmax=0.1, plotScaleBar=True,\n",
    "    plotGBs=True, dilateBoundaries=True\n",
    ")"
   ]
  },
  {
   "cell_type": "code",
   "execution_count": 25,
   "metadata": {},
   "outputs": [],
   "source": [
    "plot = ebsdMap.plotEulerMap(\n",
    "    plotScaleBar=True, plotGBs=True,\n",
    "    highlightGrains=[10, 20, 45], highlightAlpha=0.9, highlightColours=['y']\n",
    ")"
   ]
  },
  {
   "cell_type": "code",
   "execution_count": 26,
   "metadata": {},
   "outputs": [
    {
     "data": {
      "text/plain": [
       "<defdap.plotting.MapPlot at 0x1c26f3ac90>"
      ]
     },
     "execution_count": 26,
     "metadata": {},
     "output_type": "execute_result"
    },
    {
     "name": "stdout",
     "output_type": "stream",
     "text": [
      "Grain ID: 41\n",
      "Grain ID: 29\n",
      "Grain ID: 40\n"
     ]
    }
   ],
   "source": [
    "dicMap.locateGrainID()"
   ]
  },
  {
   "cell_type": "code",
   "execution_count": 44,
   "metadata": {},
   "outputs": [
    {
     "name": "stdout",
     "output_type": "stream",
     "text": [
      "Number of bands detected: 2\n"
     ]
    }
   ],
   "source": [
    "dicGrainID = 40\n",
    "dicGrain = dicMap[dicGrainID]\n",
    "\n",
    "plot = dicGrain.plotMaxShear(\n",
    "    plotScaleBar=True, plotSlipTraces=True, plotSlipBands=True\n",
    ")"
   ]
  },
  {
   "cell_type": "code",
   "execution_count": null,
   "metadata": {},
   "outputs": [],
   "source": []
  },
  {
   "cell_type": "markdown",
   "metadata": {},
   "source": [
    "### Create your own"
   ]
  },
  {
   "cell_type": "code",
   "execution_count": 29,
   "metadata": {},
   "outputs": [],
   "source": [
    "# Create components of finite strain tensor\n",
    "\n",
    "xDispGrad = dicMap._grad(dicMap.x_map)  #d/dy is first term, d/dx is second\n",
    "yDispGrad = dicMap._grad(dicMap.y_map)\n",
    "\n",
    "dicMap.e11 = xDispGrad[1] + 0.5*(xDispGrad[1]*xDispGrad[1] + yDispGrad[1]*yDispGrad[1])\n",
    "dicMap.e22 = yDispGrad[0] + 0.5*(xDispGrad[0]*xDispGrad[0] + yDispGrad[0]*yDispGrad[0])\n",
    "dicMap.e12 = 0.5*(xDispGrad[0] + yDispGrad[1] + xDispGrad[1]*xDispGrad[0] + yDispGrad[1]*yDispGrad[0])\n",
    "\n",
    "dicMap.eMaxShear = np.sqrt(((dicMap.e11 - dicMap.e22) / 2.)**2 + dicMap.e12**2)"
   ]
  },
  {
   "cell_type": "code",
   "execution_count": 30,
   "metadata": {},
   "outputs": [],
   "source": [
    "from defdap.plotting import MapPlot, GrainPlot, HistPlot"
   ]
  },
  {
   "cell_type": "code",
   "execution_count": 31,
   "metadata": {},
   "outputs": [],
   "source": [
    "mapData = dicMap.e11\n",
    "mapData = dicMap.crop(mapData)\n",
    "\n",
    "plot = MapPlot.create(\n",
    "    dicMap, mapData,\n",
    "    vmin=-0.1, vmax=0.1, plotColourBar=True, cmap=\"seismic\",\n",
    "    plotGBs=True, dilateBoundaries=True, boundaryColour='black'\n",
    ")\n"
   ]
  },
  {
   "cell_type": "code",
   "execution_count": 44,
   "metadata": {},
   "outputs": [],
   "source": [
    "plot.addScaleBar()"
   ]
  },
  {
   "cell_type": "code",
   "execution_count": null,
   "metadata": {},
   "outputs": [],
   "source": []
  },
  {
   "cell_type": "markdown",
   "metadata": {},
   "source": [
    "### Functions for grain averaging and grain segmentation"
   ]
  },
  {
   "cell_type": "code",
   "execution_count": 32,
   "metadata": {},
   "outputs": [],
   "source": [
    "plot = dicMap.plotGrainDataMap(\n",
    "    mapData,\n",
    "    vmin=-0.06, vmax=0.06, plotColourBar=True,\n",
    "    cmap=\"seismic\", cLabel=\"Axial strain ($e_11$)\",\n",
    "    plotScaleBar=True\n",
    ")\n"
   ]
  },
  {
   "cell_type": "code",
   "execution_count": 46,
   "metadata": {},
   "outputs": [
    {
     "data": {
      "text/plain": [
       "<matplotlib.image.AxesImage at 0x1c2e711ba8>"
      ]
     },
     "execution_count": 46,
     "metadata": {},
     "output_type": "execute_result"
    }
   ],
   "source": [
    "plot.addGrainBoundaries(dilate=True, colour=\"white\")"
   ]
  },
  {
   "cell_type": "code",
   "execution_count": 34,
   "metadata": {},
   "outputs": [],
   "source": [
    "plot = dicMap.plotGrainDataIPF(\n",
    "    np.array((1,0,0)), mapData, marker='o',\n",
    "    vmin=-0.06, vmax=0.06, plotColourBar=True, \n",
    "    cLabel=\"Axial strain ($e_11$)\", cmap=\"seismic\",\n",
    ")\n"
   ]
  },
  {
   "cell_type": "code",
   "execution_count": 35,
   "metadata": {},
   "outputs": [],
   "source": [
    "dicGrainID = 41\n",
    "dicGrain = dicMap[dicGrainID]\n",
    "\n",
    "plot = dicGrain.plotGrainData(\n",
    "    mapData, \n",
    "    vmin=-0.1, vmax=0.1, plotColourBar=True, \n",
    "    cLabel=\"Axial strain ($e_11$)\", cmap=\"seismic\",\n",
    "    plotScaleBar=True\n",
    ")\n"
   ]
  },
  {
   "cell_type": "code",
   "execution_count": 51,
   "metadata": {},
   "outputs": [],
   "source": [
    "plot.addSlipTraces()"
   ]
  },
  {
   "cell_type": "code",
   "execution_count": 52,
   "metadata": {},
   "outputs": [
    {
     "data": {
      "text/plain": [
       "<defdap.plotting.MapPlot at 0x1c2e729c50>"
      ]
     },
     "execution_count": 52,
     "metadata": {},
     "output_type": "execute_result"
    }
   ],
   "source": [
    "dicMap.locateGrainID(vmax=0.1)"
   ]
  },
  {
   "cell_type": "code",
   "execution_count": null,
   "metadata": {},
   "outputs": [],
   "source": []
  },
  {
   "cell_type": "markdown",
   "metadata": {},
   "source": [
    "### Composite plots"
   ]
  },
  {
   "cell_type": "code",
   "execution_count": 36,
   "metadata": {},
   "outputs": [],
   "source": [
    "from matplotlib import gridspec"
   ]
  },
  {
   "cell_type": "code",
   "execution_count": 37,
   "metadata": {},
   "outputs": [
    {
     "data": {
      "text/plain": [
       "Text(0.5, 18.72222222222218, 'Effective shear strain')"
      ]
     },
     "execution_count": 37,
     "metadata": {},
     "output_type": "execute_result"
    }
   ],
   "source": [
    "fig = plt.figure(figsize=(8, 4)) \n",
    "gs = gridspec.GridSpec(2, 2, width_ratios=[3, 1],\n",
    "                       wspace=0.15, hspace=0.15, \n",
    "                       left=0.02, right=0.98,\n",
    "                       bottom=0.12, top=0.95) \n",
    "ax0 = plt.subplot(gs[:, 0])\n",
    "ax1 = plt.subplot(gs[0, 1])\n",
    "ax2 = plt.subplot(gs[1, 1])\n",
    "\n",
    "\n",
    "# add a strain map\n",
    "plot0 = dicMap.plotMaxShear(\n",
    "    ax=ax0, fig=fig, \n",
    "    vmin=0, vmax=0.08, plotScaleBar=True, \n",
    "    plotGBs=True, dilateBoundaries=True\n",
    ")\n",
    "\n",
    "# add an IPF of grain orientations\n",
    "dicOris = []\n",
    "for grain in dicMap:\n",
    "    if len(grain) > 20:\n",
    "        dicOris.append(grain.refOri)\n",
    "plot1 = Quat.plotIPF(\n",
    "    dicOris, np.array((1,0,0)), 'cubic', \n",
    "    ax=ax1, fig=fig, s=10\n",
    ")\n",
    "\n",
    "# add histrogram of strain values\n",
    "plot2 = HistPlot.create(\n",
    "    dicMap.crop(dicMap.max_shear),\n",
    "    ax=ax2, fig=fig,\n",
    "    plotType=\"log\", bins=50, range=(0,0.06)\n",
    ")\n",
    "plot2.ax.set_xlabel(\"Effective shear strain\")"
   ]
  },
  {
   "cell_type": "code",
   "execution_count": 121,
   "metadata": {},
   "outputs": [],
   "source": [
    "plt.savefig(\"/Users/mbcx9ma4/Desktop/defdap_plotting_update/test_map_plot.png\", dpi=200)"
   ]
  },
  {
   "cell_type": "code",
   "execution_count": 38,
   "metadata": {},
   "outputs": [],
   "source": [
    "fig = plt.figure(figsize=(8, 4)) \n",
    "gs = gridspec.GridSpec(2, 2, width_ratios=[3, 1],\n",
    "                       wspace=0.15, hspace=0.15, \n",
    "                       left=0.02, right=0.98,\n",
    "                       bottom=0.12, top=0.95) \n",
    "ax0 = plt.subplot(gs[:, 0])\n",
    "ax1 = plt.subplot(gs[0, 1])\n",
    "ax2 = plt.subplot(gs[1, 1])"
   ]
  },
  {
   "cell_type": "code",
   "execution_count": 39,
   "metadata": {},
   "outputs": [],
   "source": [
    "fig, ((ax0, ax1), (ax2, ax3)) = plt.subplots(2, 2, figsize=(6, 4))\n",
    "\n",
    "dicGrainID = 41\n",
    "dicGrain = dicMap[dicGrainID]\n",
    "\n",
    "# add a strain map\n",
    "plot0 = dicGrain.plotMaxShear(\n",
    "    ax=ax0, fig=fig, \n",
    "    vmin=0, vmax=0.08, plotScaleBar=True,\n",
    "    plotSlipTraces=True\n",
    ")\n",
    "\n",
    "\n",
    "# add a misorientation\n",
    "ebsdGrain = dicGrain.ebsdGrain\n",
    "plot1 = ebsdGrain.plotMisOri(component=0, ax=ax1, fig=fig, vmin=0, vmax=1, cLabel=\"GROD\", plotScaleBar=True)\n",
    "\n",
    "\n",
    "# add an IPF\n",
    "plot2 = ebsdGrain.plotOriSpread(\n",
    "    direction=np.array((1,0,0)), c='b', s=1, alpha=0.2,\n",
    "    ax=ax2, fig=fig\n",
    ")\n",
    "ebsdGrain.plotRefOri(\n",
    "    direction=np.array((1,0,0)), c='k', s=100, plot=plot2\n",
    ")\n",
    "\n",
    "\n",
    "# add histrogram of strain values\n",
    "# grainData\n",
    "# plot2 = HistPlot.create(\n",
    "#     dicMap.crop(dicMap.max_shear),\n",
    "#     ax=ax2, fig=fig,\n",
    "#     plotType=\"log\", bins=50, range=(0,0.06)\n",
    "# )\n",
    "# plot2.ax.set_xlabel(\"Effective shear strain\")\n",
    "\n",
    "\n",
    "plt.tight_layout()"
   ]
  },
  {
   "cell_type": "code",
   "execution_count": null,
   "metadata": {},
   "outputs": [],
   "source": []
  },
  {
   "cell_type": "code",
   "execution_count": null,
   "metadata": {},
   "outputs": [],
   "source": []
  },
  {
   "cell_type": "code",
   "execution_count": null,
   "metadata": {},
   "outputs": [],
   "source": []
  },
  {
   "cell_type": "code",
   "execution_count": null,
   "metadata": {},
   "outputs": [],
   "source": []
  },
  {
   "cell_type": "code",
   "execution_count": null,
   "metadata": {},
   "outputs": [],
   "source": []
  },
  {
   "cell_type": "code",
   "execution_count": null,
   "metadata": {},
   "outputs": [],
   "source": []
  },
  {
   "cell_type": "code",
   "execution_count": 146,
   "metadata": {},
   "outputs": [
    {
     "name": "stderr",
     "output_type": "stream",
     "text": [
      "WARNING:root:Lossy conversion from float32 to uint8. Range [0, 1]. Convert image to uint8 prior to saving to suppress this warning.\n"
     ]
    }
   ],
   "source": [
    "# create subset\n",
    "xMin = 600\n",
    "xMax = 900\n",
    "yMin = 700\n",
    "yMax = 900\n",
    "\n",
    "xd = dicMap._map(dicMap.xd)[yMin:yMax, xMin:xMax].flatten()\n",
    "yd = dicMap._map(dicMap.yd)[yMin:yMax, xMin:xMax].flatten()\n",
    "xc = dicMap._map(dicMap.xc)[yMin:yMax, xMin:xMax].flatten()\n",
    "yc = dicMap._map(dicMap.yc)[yMin:yMax, xMin:xMax].flatten()\n",
    "\n",
    "xd -= xd.min()\n",
    "yd -= yd.min()\n",
    "xc -= xc.min() - dicMap.binning / 2\n",
    "yc -= yc.min() - dicMap.binning / 2\n",
    "\n",
    "saveData = np.vstack((xc, yc, xd, yd)).T\n",
    "header = \"#DaVis 8.4.0 2D-vector {:d} {:d} {:d} \\\"\\\" \\\"pixel\\\" \\\"\\\" \\\"pixel\\\" \\\"displacement\\\" \\\"pixel\\\"\".format(\n",
    "    dicMap.binning, yMax-yMin, xMax-xMin\n",
    ")\n",
    "np.savetxt(\"testDataDIC.txt\", saveData, fmt=\"%d\\t%d\\t%.4f\\t%.4f\", header=header, comments='')\n",
    "\n",
    "\n",
    "bseImage = plt.imread(dicMap.patternImPath)\n",
    "bseImage = dicMap.crop(bseImage, binned=False)\n",
    "imwrite(\"testDataPat.bmp\", bseImage[yMin:yMax, xMin:xMax])\n"
   ]
  },
  {
   "cell_type": "code",
   "execution_count": null,
   "metadata": {},
   "outputs": [],
   "source": []
  },
  {
   "cell_type": "code",
   "execution_count": null,
   "metadata": {},
   "outputs": [],
   "source": []
  },
  {
   "cell_type": "code",
   "execution_count": 188,
   "metadata": {},
   "outputs": [
    {
     "name": "stdout",
     "output_type": "stream",
     "text": [
      "Loaded DaVis 8.4.0 data (dimensions: 300 x 200 pixels, sub-window size: 12 x 12 pixels)\n",
      "Loaded EBSD data (dimensions: 359 x 243 pixels, step size: 0.12 um)\n"
     ]
    }
   ],
   "source": [
    "#Load in subset\n",
    "testDicMap = hrdic.Map(\"tests/data/\", \"testDataDIC.txt\")\n",
    "\n",
    "testDicMap.setPatternPath(\"testDataPat.bmp\", 1)\n",
    "\n",
    "fieldWidth = 20 # microns\n",
    "numPixels = 2048\n",
    "pixelSize = fieldWidth / numPixels\n",
    "\n",
    "testDicMap.setScale(pixelSize)\n",
    "\n",
    "testEbsdMap = ebsd.Map(\"tests/data/testDataEBSD\", \"cubic\")\n",
    "testEbsdMap.loadSlipSystems(\"cubic_fcc\")\n",
    "testEbsdMap.buildQuatArray()\n",
    "\n",
    "testEbsdMap.findBoundaries(boundDef=8)\n",
    "testEbsdMap.findGrains(minGrainSize=10)\n",
    "testEbsdMap.calcGrainAvOris()"
   ]
  },
  {
   "cell_type": "code",
   "execution_count": 169,
   "metadata": {},
   "outputs": [
    {
     "data": {
      "text/plain": [
       "<defdap.plotting.MapPlot at 0x1c29019d68>"
      ]
     },
     "execution_count": 169,
     "metadata": {},
     "output_type": "execute_result"
    }
   ],
   "source": [
    "testDicMap.plotMaxShear()"
   ]
  },
  {
   "cell_type": "code",
   "execution_count": 175,
   "metadata": {},
   "outputs": [],
   "source": [
    "testDicMap.setHomogPoint(display=\"pattern\")"
   ]
  },
  {
   "cell_type": "code",
   "execution_count": 174,
   "metadata": {},
   "outputs": [],
   "source": [
    "testEbsdMap.setHomogPoint()"
   ]
  },
  {
   "cell_type": "code",
   "execution_count": 189,
   "metadata": {},
   "outputs": [],
   "source": [
    "testDicMap.homogPoints = [(40, 138), (68, 32), (272, 136), (258, 57)]"
   ]
  },
  {
   "cell_type": "code",
   "execution_count": 190,
   "metadata": {},
   "outputs": [],
   "source": [
    "testEbsdMap.homogPoints = [(69, 158), (98, 57), (301, 147), (286, 75)]"
   ]
  },
  {
   "cell_type": "code",
   "execution_count": 191,
   "metadata": {},
   "outputs": [
    {
     "name": "stdout",
     "output_type": "stream",
     "text": []
    }
   ],
   "source": [
    "testDicMap.linkEbsdMap(testEbsdMap)\n",
    "testDicMap.findGrains(minGrainSize=8)"
   ]
  },
  {
   "cell_type": "code",
   "execution_count": 192,
   "metadata": {},
   "outputs": [
    {
     "data": {
      "text/plain": [
       "<defdap.plotting.MapPlot at 0x1d28e26550>"
      ]
     },
     "execution_count": 192,
     "metadata": {},
     "output_type": "execute_result"
    }
   ],
   "source": [
    "testDicMap.plotMaxShear(vmin=0, vmax=0.08, plotScaleBar=True, plotGBs=True)"
   ]
  },
  {
   "cell_type": "code",
   "execution_count": null,
   "metadata": {},
   "outputs": [],
   "source": []
  },
  {
   "cell_type": "code",
   "execution_count": null,
   "metadata": {},
   "outputs": [],
   "source": []
  },
  {
   "cell_type": "markdown",
   "metadata": {},
   "source": [
    "### Individual strain components"
   ]
  },
  {
   "cell_type": "code",
   "execution_count": 17,
   "metadata": {},
   "outputs": [],
   "source": [
    "# Create components of finite strain tensor\n",
    "for DicMap in DicMaps:\n",
    "    xDispGrad = DicMap._grad(DicMap.x_map)  #d/dy is first term, d/dx is second\n",
    "    yDispGrad = DicMap._grad(DicMap.y_map)\n",
    "\n",
    "    DicMap.e11 = xDispGrad[1] + 0.5*(xDispGrad[1]*xDispGrad[1] + yDispGrad[1]*yDispGrad[1])\n",
    "    DicMap.e22 = yDispGrad[0] + 0.5*(xDispGrad[0]*xDispGrad[0] + yDispGrad[0]*yDispGrad[0])\n",
    "\n",
    "    DicMap.e12 = 0.5*(xDispGrad[0] + yDispGrad[1] + xDispGrad[1]*xDispGrad[0] + yDispGrad[1]*yDispGrad[0])\n",
    "\n",
    "    DicMap.eMaxShear = np.sqrt(((DicMap.e11 - DicMap.e22) / 2.)**2 + DicMap.e12**2)"
   ]
  },
  {
   "cell_type": "markdown",
   "metadata": {},
   "source": [
    "## Plot map with scale bar"
   ]
  },
  {
   "cell_type": "code",
   "execution_count": 18,
   "metadata": {},
   "outputs": [],
   "source": [
    "from scipy import signal\n",
    "from defdap import plotting"
   ]
  },
  {
   "cell_type": "code",
   "execution_count": 19,
   "metadata": {},
   "outputs": [],
   "source": [
    "fieldWidth = 20 # microns\n",
    "numPixels = 2048\n",
    "pixelSize = fieldWidth / numPixels\n",
    "\n",
    "for DicMap in DicMaps:\n",
    "    DicMap.setScale(pixelSize)"
   ]
  }
 ],
 "metadata": {
  "kernelspec": {
   "display_name": "Python 3",
   "language": "python",
   "name": "python3"
  },
  "language_info": {
   "codemirror_mode": {
    "name": "ipython",
    "version": 3
   },
   "file_extension": ".py",
   "mimetype": "text/x-python",
   "name": "python",
   "nbconvert_exporter": "python",
   "pygments_lexer": "ipython3",
   "version": "3.7.6"
  }
 },
 "nbformat": 4,
 "nbformat_minor": 4
}
