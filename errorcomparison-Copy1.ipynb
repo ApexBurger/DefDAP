{
 "cells": [
  {
   "cell_type": "markdown",
   "metadata": {},
   "source": [
    "### Load DIC data"
   ]
  },
  {
   "cell_type": "code",
   "execution_count": 1,
   "metadata": {
    "collapsed": true
   },
   "outputs": [],
   "source": [
    "import numpy as np\n",
    "import matplotlib.pyplot as plt\n",
    "from matplotlib import gridspec\n",
    "import matplotlib.lines as mlines\n",
    "from defdap.quat import Quat\n",
    "import defdap.ebsd as ebsd\n",
    "import defdap.hrdic as hrdic\n",
    "from IPython.display import display\n",
    "from matplotlib_scalebar.scalebar import ScaleBar\n",
    "from skimage.filters import threshold_local, sobel\n",
    "import skimage.morphology as mph\n",
    "from skimage import feature, measure\n",
    "import scipy.ndimage as nd\n",
    "from skimage.transform import rescale, resize, downscale_local_mean\n",
    "from scipy import ndimage\n",
    "import matplotlib as mpl\n",
    "\n",
    "%matplotlib osx\n",
    "\n",
    "#Load in DIC maps\n",
    "\n",
    "DicFilePath = \"/Users/mbcx9rt5/Dropbox (Research Group)/python/DefDAP/errordata/\"\n",
    "fieldfree = hrdic.Map(DicFilePath, \"fieldfree.TXT\")\n",
    "fieldfree.setCrop(xMin=2,xMax=2,yMin=2,yMax=10)\n",
    "\n",
    "immersion = hrdic.Map(DicFilePath, \"immersion.TXT\")\n",
    "immersion.setCrop(xMin=2,xMax=2,yMin=2,yMax=10)\n",
    "\n",
    "stagebias = hrdic.Map(DicFilePath, \"stagebias.TXT\")\n",
    "stagebias.setCrop(xMin=2,xMax=2,yMin=2,yMax=10)\n"
   ]
  },
  {
   "cell_type": "markdown",
   "metadata": {},
   "source": [
    "### Select DIC map"
   ]
  },
  {
   "cell_type": "code",
   "execution_count": 2,
   "metadata": {},
   "outputs": [],
   "source": [
    "fieldfree.plotMaxShear(vmax=0.01)"
   ]
  },
  {
   "cell_type": "code",
   "execution_count": 3,
   "metadata": {},
   "outputs": [
    {
     "name": "stdout",
     "output_type": "stream",
     "text": [
      "0.313165766098\n",
      "0.165421641184\n"
     ]
    }
   ],
   "source": [
    "print(np.mean(fieldfree.crop(fieldfree.max_shear)*100))\n",
    "print(np.std(fieldfree.crop(fieldfree.max_shear)*100))"
   ]
  },
  {
   "cell_type": "code",
   "execution_count": 95,
   "metadata": {},
   "outputs": [],
   "source": [
    "f, ((ax1, ax2), (ax3,ax4),(ax5,ax6)) = plt.subplots(3, 2, figsize=(6, 4))\n",
    "\n",
    "ax1.imshow(fieldfree.crop(fieldfree.f11-1) * 100,cmap='viridis', interpolation='None', vmin=0, vmax=1)\n",
    "ax2.imshow(fieldfree.crop(fieldfree.f22-1) * 100,cmap='viridis', interpolation='None', vmin=0, vmax=1)\n",
    "ax3.imshow(stagebias.crop(stagebias.f11-1) * 100,cmap='viridis', interpolation='None', vmin=0, vmax=1)\n",
    "ax4.imshow(stagebias.crop(stagebias.f22-1) * 100,cmap='viridis', interpolation='None', vmin=0, vmax=1)\n",
    "ax5.imshow(immersion.crop(immersion.f11-1) * 100,cmap='viridis', interpolation='None', vmin=0, vmax=1)\n",
    "ax6.imshow(immersion.crop(immersion.f22-1) * 100,cmap='viridis', interpolation='None', vmin=0, vmax=1)\n",
    "\n",
    "ax1.get_xaxis().set_visible(False)\n",
    "ax1.get_yaxis().set_visible(False)\n",
    "ax2.get_xaxis().set_visible(False)\n",
    "ax2.get_yaxis().set_visible(False)\n",
    "ax3.get_xaxis().set_visible(False)\n",
    "ax3.get_yaxis().set_visible(False)\n",
    "ax4.get_xaxis().set_visible(False)\n",
    "ax4.get_yaxis().set_visible(False)\n",
    "ax5.get_xaxis().set_visible(False)\n",
    "ax5.get_yaxis().set_visible(False)\n",
    "ax6.get_xaxis().set_visible(False)\n",
    "ax6.get_yaxis().set_visible(False)"
   ]
  },
  {
   "cell_type": "code",
   "execution_count": 122,
   "metadata": {},
   "outputs": [],
   "source": [
    "f, ((ax1, ax2), (ax3,ax4)) = plt.subplots(2, 2, figsize=(6, 4))\n",
    "\n",
    "sel=immersion\n",
    "\n",
    "ax1.imshow(sel.crop(sel.f11-1) * 100,cmap='coolwarm', interpolation='None', vmin=-0.5, vmax=0.5)\n",
    "ax2.imshow(sel.crop(sel.f12) * 100,cmap='coolwarm', interpolation='None', vmin=-0.5, vmax=0.5)\n",
    "ax3.imshow(sel.crop(sel.f21) * 100,cmap='coolwarm', interpolation='None', vmin=-0.5, vmax=0.5)\n",
    "ax4.imshow(sel.crop(sel.f22-1) * 100,cmap='coolwarm', interpolation='None', vmin=-0.5, vmax=0.5)\n",
    "\n",
    "ax1.get_xaxis().set_visible(False)\n",
    "ax1.get_yaxis().set_visible(False)\n",
    "ax2.get_xaxis().set_visible(False)\n",
    "ax2.get_yaxis().set_visible(False)\n",
    "ax3.get_xaxis().set_visible(False)\n",
    "ax3.get_yaxis().set_visible(False)\n",
    "ax4.get_xaxis().set_visible(False)\n",
    "ax4.get_yaxis().set_visible(False)"
   ]
  },
  {
   "cell_type": "code",
   "execution_count": 124,
   "metadata": {},
   "outputs": [],
   "source": [
    "f, ((ax1, ax2)) = plt.subplots(1, 2, figsize=(6, 4))\n",
    "\n",
    "sel=immersion\n",
    "\n",
    "ax1.imshow(sel.crop(sel.x_map),cmap='coolwarm', interpolation='None', vmin=-2, vmax=2)\n",
    "ax2.imshow(sel.crop(sel.y_map),cmap='rainbow', interpolation='None', vmin=-2, vmax=2)\n",
    "\n",
    "ax1.get_xaxis().set_visible(False)\n",
    "ax1.get_yaxis().set_visible(False)\n",
    "ax2.get_xaxis().set_visible(False)\n",
    "ax2.get_yaxis().set_visible(False)"
   ]
  },
  {
   "cell_type": "code",
   "execution_count": 55,
   "metadata": {},
   "outputs": [],
   "source": [
    "data1 = [item for sublist in fieldfree.crop(fieldfree.max_shear)*100 for item in sublist]\n",
    "data2 = [item for sublist in immersion.crop(immersion.max_shear)*100 for item in sublist]\n",
    "data3 = [item for sublist in stagebias.crop(stagebias.max_shear)*100 for item in sublist]\n",
    "\n",
    "f, (ax1) = plt.subplots(1, figsize=(6, 4))\n",
    "\n",
    "counts, bins, bars = ax1.hist(data1, bins=np.linspace(0,1.5,100), color='r', histtype='step',  label='Field-free')\n",
    "plt.xlabel(\"Effective shear strain (%)\", fontsize=\"12\")\n",
    "plt.ylabel(\"Frequency\", fontsize=\"12\")\n",
    "center = (bins[:-1] + bins[1:]) / 2\n",
    "\n",
    "counts3, bins, bars = ax1.hist(data3, bins=np.linspace(0,1.5,100), color='b', histtype='step',  label='Field-free + 2kV Bias')\n",
    "center = (bins[:-1] + bins[1:]) / 2\n",
    "\n",
    "counts2, bins, bars = ax1.hist(data2, bins=np.linspace(0,1.5,100), color='g', histtype='step',  label='Immersion + 2kV Bias')\n",
    "center = (bins[:-1] + bins[1:]) / 2\n",
    "\n",
    "plt.tick_params(top='on', right='on', which='both', direction='in')\n",
    "plt.tick_params(axis='y', which='minor')\n",
    "plt.legend()\n",
    "f.tight_layout()\n",
    "plt.show()\n",
    "\n",
    "f.savefig('histograms.pdf',dpi=400, pad_inches=0)"
   ]
  },
  {
   "cell_type": "code",
   "execution_count": 98,
   "metadata": {},
   "outputs": [
    {
     "name": "stdout",
     "output_type": "stream",
     "text": [
      "MSS\n",
      "0.313130318204\n",
      "0.322325805851\n",
      "0.177662247595\n",
      "0.16555382628\n",
      "0.168971711903\n",
      "0.0933645814477\n",
      "Exx\n",
      "0.000802896433147\n",
      "0.00200884989731\n",
      "-0.00208267815421\n",
      "0.263072351112\n",
      "0.252295881729\n",
      "0.142417502567\n",
      "Eyy\n",
      "0.0613448308289\n",
      "0.00766416571898\n",
      "-0.0638200329505\n",
      "0.284044991546\n",
      "0.311097928944\n",
      "0.190795684909\n",
      "Exy\n",
      "0.341172916283\n",
      "0.33076699248\n",
      "0.18014003079\n",
      "Eyx\n",
      "0.282863638498\n",
      "0.297794801047\n",
      "0.191895441279\n",
      "MSS max\n",
      "1.25492661545\n",
      "1.24527514373\n",
      "0.694459996916\n"
     ]
    }
   ],
   "source": [
    "print('MSS')\n",
    "print(np.mean(fieldfree.crop(fieldfree.max_shear))*100)\n",
    "print(np.mean(stagebias.crop(stagebias.max_shear))*100)\n",
    "print(np.mean(immersion.crop(immersion.max_shear))*100)\n",
    "print(np.std(fieldfree.crop(fieldfree.max_shear))*100)\n",
    "print(np.std(stagebias.crop(stagebias.max_shear))*100)\n",
    "print(np.std(immersion.crop(immersion.max_shear))*100)\n",
    "\n",
    "print('Exx')\n",
    "print(np.mean(fieldfree.crop(fieldfree.f11-1))*100)\n",
    "print(np.mean(stagebias.crop(stagebias.f11-1))*100)\n",
    "print(np.mean(immersion.crop(immersion.f11-1))*100)\n",
    "print(np.mean(np.absolute(fieldfree.crop(fieldfree.f11-1)))*100)\n",
    "print(np.mean(np.absolute(stagebias.crop(stagebias.f11-1)))*100)\n",
    "print(np.mean(np.absolute(immersion.crop(immersion.f11-1)))*100)\n",
    "\n",
    "print('Eyy')\n",
    "print(np.mean(fieldfree.crop(fieldfree.f22-1))*100)\n",
    "print(np.mean(stagebias.crop(stagebias.f22-1))*100)\n",
    "print(np.mean(immersion.crop(immersion.f22-1))*100)\n",
    "print(np.mean(np.absolute(fieldfree.crop(fieldfree.f22-1)))*100)\n",
    "print(np.mean(np.absolute(stagebias.crop(stagebias.f22-1)))*100)\n",
    "print(np.mean(np.absolute(immersion.crop(immersion.f22-1)))*100)\n",
    "\n",
    "print('Exy')\n",
    "print(np.mean(np.absolute(fieldfree.crop(fieldfree.f12)))*100)\n",
    "print(np.mean(np.absolute(stagebias.crop(stagebias.f12)))*100)\n",
    "print(np.mean(np.absolute(immersion.crop(immersion.f12)))*100)\n",
    "print('Eyx')\n",
    "print(np.mean(np.absolute(fieldfree.crop(fieldfree.f21)))*100)\n",
    "print(np.mean(np.absolute(stagebias.crop(stagebias.f21)))*100)\n",
    "print(np.mean(np.absolute(immersion.crop(immersion.f21)))*100)\n",
    "\n",
    "print('MSS max')\n",
    "print(np.max(fieldfree.crop(fieldfree.max_shear))*100)\n",
    "print(np.max(stagebias.crop(stagebias.max_shear))*100)\n",
    "print(np.max(immersion.crop(immersion.max_shear))*100)"
   ]
  },
  {
   "cell_type": "code",
   "execution_count": null,
   "metadata": {},
   "outputs": [],
   "source": []
  }
 ],
 "metadata": {
  "kernelspec": {
   "display_name": "Python 3",
   "language": "python",
   "name": "python3"
  },
  "language_info": {
   "codemirror_mode": {
    "name": "ipython",
    "version": 3
   },
   "file_extension": ".py",
   "mimetype": "text/x-python",
   "name": "python",
   "nbconvert_exporter": "python",
   "pygments_lexer": "ipython3",
   "version": "3.6.1"
  },
  "toc": {
   "nav_menu": {},
   "number_sections": true,
   "sideBar": true,
   "skip_h1_title": false,
   "toc_cell": false,
   "toc_position": {},
   "toc_section_display": "block",
   "toc_window_display": false
  }
 },
 "nbformat": 4,
 "nbformat_minor": 2
}
